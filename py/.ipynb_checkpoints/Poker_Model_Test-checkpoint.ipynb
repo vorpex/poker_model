{
 "cells": [
  {
   "cell_type": "code",
   "execution_count": 1,
   "metadata": {
    "ExecuteTime": {
     "end_time": "2019-08-18T13:22:05.169426Z",
     "start_time": "2019-08-18T13:22:05.025543Z"
    }
   },
   "outputs": [],
   "source": [
    "'''poker model control script'''\n",
    "\n",
    "# pylint: disable=E1101, E1601, W0612\n",
    "\n",
    "import gc\n",
    "import mysql.connector\n",
    "\n",
    "import funcs_db\n",
    "import funcs_poker\n",
    "\n",
    "import pdeck"
   ]
  },
  {
   "cell_type": "code",
   "execution_count": 2,
   "metadata": {
    "ExecuteTime": {
     "end_time": "2019-08-18T13:22:09.196744Z",
     "start_time": "2019-08-18T13:22:09.164193Z"
    }
   },
   "outputs": [
    {
     "data": {
      "text/plain": [
       "142"
      ]
     },
     "execution_count": 2,
     "metadata": {},
     "output_type": "execute_result"
    }
   ],
   "source": [
    "gc.collect()"
   ]
  },
  {
   "cell_type": "markdown",
   "metadata": {},
   "source": [
    "# OPEN CONNECTION TO POKER DB"
   ]
  },
  {
   "cell_type": "code",
   "execution_count": 3,
   "metadata": {
    "ExecuteTime": {
     "end_time": "2019-08-18T13:22:11.964067Z",
     "start_time": "2019-08-18T13:22:11.931046Z"
    }
   },
   "outputs": [],
   "source": [
    "poker_db = mysql.connector.connect(user='root', host='127.0.0.1', database='poker')"
   ]
  },
  {
   "cell_type": "markdown",
   "metadata": {},
   "source": [
    "# GAME PARAMETERS"
   ]
  },
  {
   "cell_type": "code",
   "execution_count": 4,
   "metadata": {
    "ExecuteTime": {
     "end_time": "2019-08-18T13:22:14.367147Z",
     "start_time": "2019-08-18T13:22:14.335060Z"
    }
   },
   "outputs": [],
   "source": [
    "number_of_players = 6\n",
    "player0_stack = 1000\n",
    "player1_stack = 1000\n",
    "player2_stack = 1000\n",
    "player3_stack = 1000\n",
    "player4_stack = 1000\n",
    "player5_stack = 1000\n",
    "small_blind = 10\n",
    "big_blind = 2 * small_blind\n",
    "\n",
    "funcs_db.sql_delete_all(table='games', poker_db=poker_db)\n",
    "funcs_db.sql_delete_all(table='history', poker_db=poker_db)\n",
    "funcs_db.sql_delete_all(table='decision_points', poker_db=poker_db)\n",
    "funcs_db.sql_delete_all(table='possible_moves', poker_db=poker_db)\n",
    "funcs_db.sql_insert_games(number_of_players=number_of_players, player0_stack=player0_stack, \\\n",
    "                          player1_stack=player1_stack, player2_stack=player2_stack, player3_stack=player3_stack, \\\n",
    "                          player4_stack=player4_stack, player5_stack=player5_stack, small_blind=small_blind, \\\n",
    "                          big_blind=big_blind, poker_db=poker_db)"
   ]
  },
  {
   "cell_type": "markdown",
   "metadata": {},
   "source": [
    "# TABLE INITIALIZATION"
   ]
  },
  {
   "cell_type": "code",
   "execution_count": 5,
   "metadata": {
    "ExecuteTime": {
     "end_time": "2019-08-18T13:22:28.001092Z",
     "start_time": "2019-08-18T13:22:27.992569Z"
    }
   },
   "outputs": [],
   "source": [
    "TABLE = funcs_poker.table_init(nr_of_players=number_of_players, player0_stack=player0_stack, \\\n",
    "                               player1_stack=player1_stack, player2_stack=player2_stack, player3_stack=player3_stack, \\\n",
    "                               player4_stack=player4_stack, player5_stack=player5_stack)\n",
    "POT = TABLE[0]\n",
    "PLAYERS = TABLE[1]"
   ]
  },
  {
   "cell_type": "markdown",
   "metadata": {},
   "source": [
    "# GAME INITIALIZATION"
   ]
  },
  {
   "cell_type": "markdown",
   "metadata": {},
   "source": [
    "## shift the players position by 1"
   ]
  },
  {
   "cell_type": "code",
   "execution_count": 6,
   "metadata": {
    "ExecuteTime": {
     "end_time": "2019-08-18T13:22:34.498502Z",
     "start_time": "2019-08-18T13:22:34.492484Z"
    }
   },
   "outputs": [],
   "source": [
    "for player in PLAYERS:\n",
    "\n",
    "    player.add_position((player.position_nr() + 1) % len(PLAYERS))"
   ]
  },
  {
   "cell_type": "markdown",
   "metadata": {},
   "source": [
    "## create deck and board"
   ]
  },
  {
   "cell_type": "code",
   "execution_count": 7,
   "metadata": {
    "ExecuteTime": {
     "end_time": "2019-08-18T13:22:36.792474Z",
     "start_time": "2019-08-18T13:22:36.785958Z"
    }
   },
   "outputs": [],
   "source": [
    "DECK = pdeck.Deck()\n",
    "BOARD = DECK.make_board()"
   ]
  },
  {
   "cell_type": "markdown",
   "metadata": {},
   "source": [
    "## create hands and add them to players"
   ]
  },
  {
   "cell_type": "code",
   "execution_count": 8,
   "metadata": {
    "ExecuteTime": {
     "end_time": "2019-08-18T13:22:39.277740Z",
     "start_time": "2019-08-18T13:22:39.271722Z"
    }
   },
   "outputs": [],
   "source": [
    "HANDS = [DECK.make_hand() for player in PLAYERS]\n",
    "for i in range(len(PLAYERS)):\n",
    "\n",
    "    PLAYERS[i].add_hand(HANDS[i])"
   ]
  },
  {
   "cell_type": "markdown",
   "metadata": {},
   "source": [
    "## define players order"
   ]
  },
  {
   "cell_type": "code",
   "execution_count": 9,
   "metadata": {
    "ExecuteTime": {
     "end_time": "2019-08-18T13:22:41.280301Z",
     "start_time": "2019-08-18T13:22:41.274855Z"
    }
   },
   "outputs": [],
   "source": [
    "PLAYER_ORDER = [0 for player in PLAYERS]\n",
    "for player in PLAYERS:\n",
    "\n",
    "    PLAYER_ORDER[player.position_nr()] = player"
   ]
  },
  {
   "cell_type": "markdown",
   "metadata": {},
   "source": [
    "## define players move flags"
   ]
  },
  {
   "cell_type": "code",
   "execution_count": 10,
   "metadata": {
    "ExecuteTime": {
     "end_time": "2019-08-18T13:22:43.856002Z",
     "start_time": "2019-08-18T13:22:43.850487Z"
    }
   },
   "outputs": [],
   "source": [
    "PLAYER_MOVE_FLAGS = [1 for player in PLAYERS]"
   ]
  },
  {
   "cell_type": "markdown",
   "metadata": {},
   "source": [
    "# PREFLOP PHASE"
   ]
  },
  {
   "cell_type": "markdown",
   "metadata": {},
   "source": [
    "## small blind and big blind moves"
   ]
  },
  {
   "cell_type": "code",
   "execution_count": 11,
   "metadata": {
    "ExecuteTime": {
     "end_time": "2019-08-18T13:22:49.642228Z",
     "start_time": "2019-08-18T13:22:49.625184Z"
    }
   },
   "outputs": [],
   "source": [
    "funcs_poker.move(player=PLAYER_ORDER[0], move='small_blind', pot=POT, amount=small_blind, poker_db=poker_db)\n",
    "funcs_poker.move(player=PLAYER_ORDER[1], move='big_blind', pot=POT, amount=big_blind, nr=1, poker_db=poker_db)"
   ]
  },
  {
   "cell_type": "markdown",
   "metadata": {},
   "source": [
    "## further moves"
   ]
  },
  {
   "cell_type": "code",
   "execution_count": null,
   "metadata": {},
   "outputs": [],
   "source": [
    "phase = 0\n",
    "nr = 2\n",
    "for i in range(2, 6):\n",
    "    \n",
    "    move = funcs_db.decision_point(hand=PLAYER_ORDER[i].player_hand_simple(), stack=PLAYER_ORDER[i].stack(), \\\n",
    "        pot=POT.show_pot(), position=PLAYER_ORDER[i].position_nr(), phase=phase, nr=nr)\n",
    "    if move in ['fold', 'check']:\n",
    "        funcs_poker.move(player=PLAYER_ORDER[i], move=move, pot=POT, phase=phase, nr=nr, poker_db=poker_db)\n",
    "    elif move in ['call', 'raise']:\n",
    "        amount = 60 # calculation for call_amount\n",
    "        funcs_poker.move(player=PLAYER_ORDER[i], move='call', pot=POT, phase=phase, nr=nr, amount=amount, poker_db=poker_db)\n",
    "    else:\n",
    "        pass\n",
    "    \n",
    "    # save move information for every players\n",
    "\n",
    "    nr = nr + 1"
   ]
  },
  {
   "cell_type": "markdown",
   "metadata": {},
   "source": [
    "## while sum(PLAYER_MOVE_FLAGS) != 0: # extend with other conditions"
   ]
  },
  {
   "cell_type": "markdown",
   "metadata": {},
   "source": [
    "# FLOP PHASE"
   ]
  },
  {
   "cell_type": "markdown",
   "metadata": {
    "ExecuteTime": {
     "end_time": "2019-08-18T13:13:05.665137Z",
     "start_time": "2019-08-18T13:13:05.649066Z"
    }
   },
   "source": [
    "# TURN PHASE"
   ]
  },
  {
   "cell_type": "markdown",
   "metadata": {
    "ExecuteTime": {
     "end_time": "2019-08-18T13:13:13.084393Z",
     "start_time": "2019-08-18T13:13:13.077876Z"
    }
   },
   "source": [
    "# RIVER PHASE"
   ]
  },
  {
   "cell_type": "markdown",
   "metadata": {
    "ExecuteTime": {
     "end_time": "2019-08-18T13:13:29.814821Z",
     "start_time": "2019-08-18T13:13:29.808301Z"
    }
   },
   "source": [
    "# CLOSE CONNECTION"
   ]
  },
  {
   "cell_type": "code",
   "execution_count": null,
   "metadata": {},
   "outputs": [],
   "source": [
    "poker_db.close()"
   ]
  }
 ],
 "metadata": {
  "kernelspec": {
   "display_name": "Python 3",
   "language": "python",
   "name": "python3"
  },
  "language_info": {
   "codemirror_mode": {
    "name": "ipython",
    "version": 3
   },
   "file_extension": ".py",
   "mimetype": "text/x-python",
   "name": "python",
   "nbconvert_exporter": "python",
   "pygments_lexer": "ipython3",
   "version": "3.7.3"
  },
  "toc": {
   "base_numbering": 1,
   "nav_menu": {},
   "number_sections": true,
   "sideBar": true,
   "skip_h1_title": false,
   "title_cell": "Table of Contents",
   "title_sidebar": "Contents",
   "toc_cell": false,
   "toc_position": {},
   "toc_section_display": true,
   "toc_window_display": false
  },
  "varInspector": {
   "cols": {
    "lenName": 16,
    "lenType": 16,
    "lenVar": 40
   },
   "kernels_config": {
    "python": {
     "delete_cmd_postfix": "",
     "delete_cmd_prefix": "del ",
     "library": "var_list.py",
     "varRefreshCmd": "print(var_dic_list())"
    },
    "r": {
     "delete_cmd_postfix": ") ",
     "delete_cmd_prefix": "rm(",
     "library": "var_list.r",
     "varRefreshCmd": "cat(var_dic_list()) "
    }
   },
   "types_to_exclude": [
    "module",
    "function",
    "builtin_function_or_method",
    "instance",
    "_Feature"
   ],
   "window_display": false
  }
 },
 "nbformat": 4,
 "nbformat_minor": 2
}
