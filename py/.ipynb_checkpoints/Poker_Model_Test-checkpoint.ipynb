{
 "cells": [
  {
   "cell_type": "markdown",
   "metadata": {},
   "source": [
    "# Game and Table Initialization"
   ]
  },
  {
   "cell_type": "code",
   "execution_count": 1,
   "metadata": {},
   "outputs": [],
   "source": [
    "'''poker test'''\n",
    "\n",
    "# pylint: disable=E1101, E1601, W0612\n",
    "\n",
    "import sys\n",
    "sys.path.append('c:\\\\ProgramData\\\\Anaconda3\\\\Lib\\\\site-packages\\\\deuces\\\\')\n",
    "\n",
    "import pcard\n",
    "import pboard\n",
    "import pdeck\n",
    "import phand\n",
    "import pplayer\n",
    "import ppot\n",
    "\n",
    "import check_moves\n",
    "import db_funcs\n",
    "import moves"
   ]
  },
  {
   "cell_type": "code",
   "execution_count": 2,
   "metadata": {},
   "outputs": [],
   "source": [
    "# parameters\n",
    "\n",
    "game_id = 1\n",
    "number_of_players = 6\n",
    "starting_chips_amount = 1000\n",
    "small_blind = 10\n",
    "big_blind = 2 * small_blind"
   ]
  },
  {
   "cell_type": "code",
   "execution_count": 3,
   "metadata": {},
   "outputs": [],
   "source": [
    "# table initialization\n",
    "\n",
    "TABLE = db_funcs.table_init(number_of_players, starting_chips_amount)\n",
    "POT = TABLE[0]\n",
    "PLAYERS = TABLE[1]"
   ]
  },
  {
   "cell_type": "code",
   "execution_count": 4,
   "metadata": {},
   "outputs": [],
   "source": [
    "# game initialization\n",
    "\n",
    "for i in range(len(PLAYERS)):\n",
    "\n",
    "    PLAYERS[i].add_position((PLAYERS[i].position_nr() + 1) % len(PLAYERS))\n",
    "\n",
    "DECK = pdeck.Deck()\n",
    "BOARD = DECK.make_board()\n",
    "\n",
    "HANDS = [DECK.make_hand() for i in range(len(PLAYERS))]\n",
    "for i in range(len(PLAYERS)):\n",
    "\n",
    "    PLAYERS[i].add_hand(HANDS[i])\n",
    "\n",
    "PLAYER_ORDER = [0 for i in range(len(PLAYERS))]\n",
    "for i in range(len(PLAYERS)):\n",
    "\n",
    "    PLAYER_ORDER[PLAYERS[i].position_nr()] = PLAYERS[i]\n",
    "\n",
    "PLAYER_MOVE_FLAGS = [1 for i in range(len(PLAYERS))]"
   ]
  },
  {
   "cell_type": "code",
   "execution_count": 5,
   "metadata": {},
   "outputs": [
    {
     "name": "stdout",
     "output_type": "stream",
     "text": [
      "5 player5 0 Small Blind 1000\n",
      "0 player0 1 Big Blind 1000\n",
      "1 player1 2 Under the Gun 1000\n",
      "2 player2 3 Middle 1000\n",
      "3 player3 4 Tail 1000\n",
      "4 player4 5 Dealer 1000\n",
      "pot:  0\n"
     ]
    }
   ],
   "source": [
    "# check\n",
    "\n",
    "for i in range(len(PLAYERS)):\n",
    "    print(PLAYER_ORDER[i].number(), PLAYER_ORDER[i].general_name(), PLAYER_ORDER[i].position_nr(), PLAYER_ORDER[i].position_name(), PLAYER_ORDER[i].chips())\n",
    "    \n",
    "print('pot: ', POT.show_pot())"
   ]
  },
  {
   "cell_type": "code",
   "execution_count": 6,
   "metadata": {},
   "outputs": [],
   "source": [
    "db_funcs.create_decision_point(\n",
    "    PLAYER_ORDER[i], \\\n",
    "    PLAYER_ORDER[i].show_player_hand().show_hand()[0].show_card(), \\\n",
    "    PLAYER_ORDER[i].show_player_hand().show_hand()[1].show_card(), \\\n",
    "    PLAYER_ORDER[i].chips(), \\\n",
    "    PLAYER_ORDER[i].position_nr(), \\\n",
    "    POT.show_pot()\n",
    ")\n",
    "moves.small_blind_move(PLAYER_ORDER[0], small_blind, POT)"
   ]
  },
  {
   "cell_type": "code",
   "execution_count": null,
   "metadata": {},
   "outputs": [],
   "source": [
    "db_funcs.create_decision_point(\n",
    "    PLAYER_ORDER[i], \\\n",
    "    PLAYER_ORDER[i].show_player_hand().show_hand()[0].show_card(), \\\n",
    "    PLAYER_ORDER[i].show_player_hand().show_hand()[1].show_card(), \\\n",
    "    PLAYER_ORDER[i].chips(), \\\n",
    "    PLAYER_ORDER[i].position_nr(), \\\n",
    "    POT.show_pot()\n",
    ")\n",
    "moves.big_blind_move(PLAYER_ORDER[1], big_blind, POT)"
   ]
  },
  {
   "cell_type": "code",
   "execution_count": 7,
   "metadata": {},
   "outputs": [
    {
     "name": "stdout",
     "output_type": "stream",
     "text": [
      "5 player5 0 Small Blind 990\n",
      "0 player0 1 Big Blind 980\n",
      "1 player1 2 Under the Gun 1000\n",
      "2 player2 3 Middle 1000\n",
      "3 player3 4 Tail 1000\n",
      "4 player4 5 Dealer 1000\n",
      "pot:  30\n"
     ]
    }
   ],
   "source": [
    "# check\n",
    "\n",
    "for i in range(len(PLAYERS)):\n",
    "    print(PLAYER_ORDER[i].number(), PLAYER_ORDER[i].general_name(), PLAYER_ORDER[i].position_nr(), PLAYER_ORDER[i].position_name(), PLAYER_ORDER[i].chips())\n",
    "    \n",
    "print('pot: ', POT.show_pot())"
   ]
  },
  {
   "cell_type": "code",
   "execution_count": null,
   "metadata": {},
   "outputs": [],
   "source": [
    "for i in range(2, 6):\n",
    "    \n",
    "    db_funcs.create_decision_point(\n",
    "        PLAYER_ORDER[i], \\\n",
    "        PLAYER_ORDER[i].show_player_hand().show_hand()[0].show_card(), \\\n",
    "        PLAYER_ORDER[i].show_player_hand().show_hand()[1].show_card(), \\\n",
    "        PLAYER_ORDER[i].chips(), \\\n",
    "        PLAYER_ORDER[i].position_nr(), \\\n",
    "        POT.show_pot()\n",
    "    )\n",
    "\n",
    "    if PLAYER_MOVE_FLAGS[i] == 1:\n",
    "        pmf = db_funcs.check_possible_moves(\n",
    "                PLAYER_ORDER[i].show_player_hand().show_hand()[0].show_card(), \\\n",
    "                PLAYER_ORDER[i].show_player_hand().show_hand()[1].show_card(), \\\n",
    "                PLAYER_ORDER[i].chips(), \\\n",
    "                PLAYER_ORDER[i].position_nr(), \\\n",
    "                POT.show_pot()\n",
    "            )\n",
    "\n",
    "        if pmf == 0:\n",
    "            db_funcs.create_possible_moves(\n",
    "                PLAYER_ORDER[i].show_player_hand().show_hand()[0].show_card(), \\\n",
    "                PLAYER_ORDER[i].show_player_hand().show_hand()[1].show_card(), \\\n",
    "                PLAYER_ORDER[i].chips(), \\\n",
    "                PLAYER_ORDER[i].position_nr(), \\\n",
    "                POT.show_pot()\n",
    "            )\n",
    "        else:\n",
    "            db_funcs.call_possible_move(\n",
    "                PLAYER_ORDER[i], \\\n",
    "                PLAYER_ORDER[i].chips(), \\\n",
    "                POT.show_pot()\n",
    "            )\n",
    "    else:\n",
    "        pass"
   ]
  },
  {
   "cell_type": "code",
   "execution_count": null,
   "metadata": {},
   "outputs": [],
   "source": [
    "# check\n",
    "\n",
    "for i in range(len(PLAYERS)):\n",
    "    print(PLAYER_ORDER[i].number(), PLAYER_ORDER[i].general_name(), PLAYER_ORDER[i].position_nr(), PLAYER_ORDER[i].position_name(), PLAYER_ORDER[i].chips())\n",
    "    \n",
    "print('pot: ', POT.show_pot())"
   ]
  },
  {
   "cell_type": "code",
   "execution_count": null,
   "metadata": {},
   "outputs": [],
   "source": [
    "while sum(PLAYER_MOVE_FLAGS) != 0:\n",
    "    \n",
    "    db_funcs.create_decision_point(\n",
    "        PLAYER_ORDER[i], \\\n",
    "        PLAYER_ORDER[i].show_player_hand().show_hand()[0].show_card(), \\\n",
    "        PLAYER_ORDER[i].show_player_hand().show_hand()[1].show_card(), \\\n",
    "        PLAYER_ORDER[i].chips(), \\\n",
    "        PLAYER_ORDER[i].position_nr(), \\\n",
    "        POT.show_pot()\n",
    "    )\n",
    "\n",
    "    for i in range(6):\n",
    "\n",
    "        if PLAYER_MOVE_FLAGS[i] == 1:\n",
    "            pmf = db_funcs.check_possible_moves(\n",
    "                    PLAYER_ORDER[i].show_player_hand().show_hand()[0].show_card(), \\\n",
    "                    PLAYER_ORDER[i].show_player_hand().show_hand()[1].show_card(), \\\n",
    "                    PLAYER_ORDER[i].chips(), \\\n",
    "                    PLAYER_ORDER[i].position_nr(), \\\n",
    "                    POT.show_pot()\n",
    "                )\n",
    "\n",
    "            if pmf == 0:\n",
    "                db_funcs.create_possible_moves(\n",
    "                    PLAYER_ORDER[i].show_player_hand().show_hand()[0].show_card(), \\\n",
    "                    PLAYER_ORDER[i].show_player_hand().show_hand()[1].show_card(), \\\n",
    "                    PLAYER_ORDER[i].chips(), \\\n",
    "                    PLAYER_ORDER[i].position_nr(), \\\n",
    "                    POT.show_pot()\n",
    "                )\n",
    "            else:\n",
    "                db_funcs.call_possible_move(\n",
    "                    PLAYER_ORDER[i], \\\n",
    "                    PLAYER_ORDER[i].chips(), \\\n",
    "                    POT.show_pot()\n",
    "                )\n",
    "        else:\n",
    "            pass"
   ]
  },
  {
   "cell_type": "code",
   "execution_count": null,
   "metadata": {},
   "outputs": [],
   "source": [
    "# check\n",
    "\n",
    "for i in range(len(PLAYERS)):\n",
    "    print(PLAYER_ORDER[i].number(), PLAYER_ORDER[i].general_name(), PLAYER_ORDER[i].position_nr(), PLAYER_ORDER[i].position_name(), PLAYER_ORDER[i].chips())\n",
    "    \n",
    "print('pot: ', POT.show_pot())"
   ]
  },
  {
   "cell_type": "code",
   "execution_count": null,
   "metadata": {},
   "outputs": [],
   "source": [
    "# flop phase"
   ]
  },
  {
   "cell_type": "code",
   "execution_count": null,
   "metadata": {},
   "outputs": [],
   "source": [
    "# turn phase"
   ]
  },
  {
   "cell_type": "code",
   "execution_count": null,
   "metadata": {},
   "outputs": [],
   "source": [
    "# river phase"
   ]
  },
  {
   "cell_type": "code",
   "execution_count": null,
   "metadata": {},
   "outputs": [],
   "source": []
  }
 ],
 "metadata": {
  "kernelspec": {
   "display_name": "Python 3",
   "language": "python",
   "name": "python3"
  },
  "language_info": {
   "codemirror_mode": {
    "name": "ipython",
    "version": 3
   },
   "file_extension": ".py",
   "mimetype": "text/x-python",
   "name": "python",
   "nbconvert_exporter": "python",
   "pygments_lexer": "ipython3",
   "version": "3.7.3"
  }
 },
 "nbformat": 4,
 "nbformat_minor": 2
}
