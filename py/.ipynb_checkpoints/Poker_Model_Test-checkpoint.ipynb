{
 "cells": [
  {
   "cell_type": "markdown",
   "metadata": {},
   "source": [
    "# Testing"
   ]
  },
  {
   "cell_type": "code",
   "execution_count": 1,
   "metadata": {},
   "outputs": [],
   "source": [
    "import sys\n",
    "sys.path.append('c:\\\\ProgramData\\\\Anaconda3\\\\Lib\\\\site-packages\\\\deuces\\\\')\n",
    "import gc"
   ]
  },
  {
   "cell_type": "code",
   "execution_count": 2,
   "metadata": {},
   "outputs": [
    {
     "data": {
      "text/plain": [
       "77"
      ]
     },
     "execution_count": 2,
     "metadata": {},
     "output_type": "execute_result"
    }
   ],
   "source": [
    "gc.collect()"
   ]
  },
  {
   "cell_type": "code",
   "execution_count": 3,
   "metadata": {},
   "outputs": [],
   "source": [
    "import board as b\n",
    "import card as c\n",
    "import deck as d\n",
    "import hand as h\n",
    "import player as pl\n",
    "import pot as p"
   ]
  },
  {
   "cell_type": "code",
   "execution_count": 4,
   "metadata": {},
   "outputs": [
    {
     "name": "stdout",
     "output_type": "stream",
     "text": [
      "0\n",
      "25\n"
     ]
    }
   ],
   "source": [
    "pot = p.Pot()\n",
    "print(pot.show_pot())\n",
    "pot.increase_pot(25)\n",
    "print(pot.show_pot())"
   ]
  },
  {
   "cell_type": "code",
   "execution_count": 5,
   "metadata": {},
   "outputs": [
    {
     "name": "stdout",
     "output_type": "stream",
     "text": [
      "TS 8D\n",
      "T 8\n",
      "S D\n",
      "10 8\n"
     ]
    }
   ],
   "source": [
    "card0 = c.Card('Ts')\n",
    "card1 = c.Card('8D')\n",
    "print(card0.show_card(), card1.show_card())\n",
    "print(card0.figure(), card1.figure())\n",
    "print(card0.color(), card1.color())\n",
    "print(card0.value(), card1.value())"
   ]
  },
  {
   "cell_type": "code",
   "execution_count": 6,
   "metadata": {},
   "outputs": [
    {
     "name": "stdout",
     "output_type": "stream",
     "text": [
      "52\n",
      "5D\n",
      "8S JD KH QD AD\n",
      "KS 9H\n",
      "45\n",
      "5D\n",
      "44\n",
      "KD\n",
      "43\n"
     ]
    }
   ],
   "source": [
    "deck = d.Deck()\n",
    "print(len(deck.show_deck()))\n",
    "print(deck.nth_card(16).show_card())\n",
    "brd = deck.make_board()\n",
    "hnd = deck.make_hand()\n",
    "print(brd[0].show_card(), brd[1].show_card(), brd[2].show_card(), brd[3].show_card(), brd[4].show_card())\n",
    "print(hnd[0].show_card(), hnd[1].show_card())\n",
    "print(len(deck.show_deck()))\n",
    "print(deck.draw_by_number(16).show_card())\n",
    "print(len(deck.show_deck()))\n",
    "print(deck.draw_by_name('KD').show_card())\n",
    "print(len(deck.show_deck()))"
   ]
  },
  {
   "cell_type": "code",
   "execution_count": 7,
   "metadata": {},
   "outputs": [
    {
     "name": "stdout",
     "output_type": "stream",
     "text": [
      "8S JD KH QD AD\n",
      "8S JD KH\n",
      "8S JD KH QD AD\n"
     ]
    }
   ],
   "source": [
    "board = b.Board(brd[0], brd[1], brd[2], brd[3], brd[4])\n",
    "print(board.show_board()[0].show_card(), board.show_board()[1].show_card(), board.show_board()[2].show_card(), board.show_board()[3].show_card(), board.show_board()[4].show_card())\n",
    "print(board.flop()[0].show_card(), board.flop()[1].show_card(), board.flop()[2].show_card())\n",
    "print(board.flop0().show_card(), board.flop1().show_card(), board.flop2().show_card(), board.turn().show_card(), board.river().show_card())"
   ]
  },
  {
   "cell_type": "code",
   "execution_count": 8,
   "metadata": {},
   "outputs": [
    {
     "name": "stdout",
     "output_type": "stream",
     "text": [
      "KS 9H\n",
      "['AD', 'JD', 'KH', 'KS', 'QD']\n"
     ]
    },
    {
     "ename": "TypeError",
     "evalue": "unsupported operand type(s) for >>: 'float' and 'int'",
     "output_type": "error",
     "traceback": [
      "\u001b[1;31m---------------------------------------------------------------------------\u001b[0m",
      "\u001b[1;31mTypeError\u001b[0m                                 Traceback (most recent call last)",
      "\u001b[1;32m<ipython-input-8-4efe97797de0>\u001b[0m in \u001b[0;36m<module>\u001b[1;34m\u001b[0m\n\u001b[0;32m      2\u001b[0m \u001b[0mprint\u001b[0m\u001b[1;33m(\u001b[0m\u001b[0mhand\u001b[0m\u001b[1;33m.\u001b[0m\u001b[0mshow_hand\u001b[0m\u001b[1;33m(\u001b[0m\u001b[1;33m)\u001b[0m\u001b[1;33m[\u001b[0m\u001b[1;36m0\u001b[0m\u001b[1;33m]\u001b[0m\u001b[1;33m.\u001b[0m\u001b[0mshow_card\u001b[0m\u001b[1;33m(\u001b[0m\u001b[1;33m)\u001b[0m\u001b[1;33m,\u001b[0m \u001b[0mhand\u001b[0m\u001b[1;33m.\u001b[0m\u001b[0mshow_hand\u001b[0m\u001b[1;33m(\u001b[0m\u001b[1;33m)\u001b[0m\u001b[1;33m[\u001b[0m\u001b[1;36m1\u001b[0m\u001b[1;33m]\u001b[0m\u001b[1;33m.\u001b[0m\u001b[0mshow_card\u001b[0m\u001b[1;33m(\u001b[0m\u001b[1;33m)\u001b[0m\u001b[1;33m)\u001b[0m\u001b[1;33m\u001b[0m\u001b[1;33m\u001b[0m\u001b[0m\n\u001b[0;32m      3\u001b[0m \u001b[0mprint\u001b[0m\u001b[1;33m(\u001b[0m\u001b[0mhand\u001b[0m\u001b[1;33m.\u001b[0m\u001b[0mbest_five\u001b[0m\u001b[1;33m(\u001b[0m\u001b[0mboard\u001b[0m\u001b[1;33m)\u001b[0m\u001b[1;33m)\u001b[0m\u001b[1;33m\u001b[0m\u001b[1;33m\u001b[0m\u001b[0m\n\u001b[1;32m----> 4\u001b[1;33m \u001b[0mprint\u001b[0m\u001b[1;33m(\u001b[0m\u001b[0mhand\u001b[0m\u001b[1;33m.\u001b[0m\u001b[0mhand_strength\u001b[0m\u001b[1;33m(\u001b[0m\u001b[0mboard\u001b[0m\u001b[1;33m)\u001b[0m\u001b[1;33m)\u001b[0m\u001b[1;33m\u001b[0m\u001b[1;33m\u001b[0m\u001b[0m\n\u001b[0m",
      "\u001b[1;32m~\\Documents\\GitHub\\poker_model\\py\\hand.py\u001b[0m in \u001b[0;36mhand_strength\u001b[1;34m(self, board)\u001b[0m\n\u001b[0;32m     54\u001b[0m         '''\n\u001b[0;32m     55\u001b[0m \u001b[1;33m\u001b[0m\u001b[0m\n\u001b[1;32m---> 56\u001b[1;33m         \u001b[0mevaluator\u001b[0m \u001b[1;33m=\u001b[0m \u001b[0mdeuces\u001b[0m\u001b[1;33m.\u001b[0m\u001b[0mEvaluator\u001b[0m\u001b[1;33m(\u001b[0m\u001b[1;33m)\u001b[0m\u001b[1;33m\u001b[0m\u001b[1;33m\u001b[0m\u001b[0m\n\u001b[0m\u001b[0;32m     57\u001b[0m         \u001b[0mb5\u001b[0m \u001b[1;33m=\u001b[0m \u001b[0mself\u001b[0m\u001b[1;33m.\u001b[0m\u001b[0mbest_five\u001b[0m\u001b[1;33m(\u001b[0m\u001b[0mboard\u001b[0m\u001b[1;33m)\u001b[0m\u001b[1;33m\u001b[0m\u001b[1;33m\u001b[0m\u001b[0m\n\u001b[0;32m     58\u001b[0m \u001b[1;33m\u001b[0m\u001b[0m\n",
      "\u001b[1;32mc:\\ProgramData\\Anaconda3\\Lib\\site-packages\\deuces\\evaluator.py\u001b[0m in \u001b[0;36m__init__\u001b[1;34m(self)\u001b[0m\n\u001b[0;32m     17\u001b[0m     \u001b[1;32mdef\u001b[0m \u001b[0m__init__\u001b[0m\u001b[1;33m(\u001b[0m\u001b[0mself\u001b[0m\u001b[1;33m)\u001b[0m\u001b[1;33m:\u001b[0m\u001b[1;33m\u001b[0m\u001b[1;33m\u001b[0m\u001b[0m\n\u001b[0;32m     18\u001b[0m \u001b[1;33m\u001b[0m\u001b[0m\n\u001b[1;32m---> 19\u001b[1;33m         \u001b[0mself\u001b[0m\u001b[1;33m.\u001b[0m\u001b[0mtable\u001b[0m \u001b[1;33m=\u001b[0m \u001b[0mLookupTable\u001b[0m\u001b[1;33m(\u001b[0m\u001b[1;33m)\u001b[0m\u001b[1;33m\u001b[0m\u001b[1;33m\u001b[0m\u001b[0m\n\u001b[0m\u001b[0;32m     20\u001b[0m \u001b[1;33m\u001b[0m\u001b[0m\n\u001b[0;32m     21\u001b[0m         self.hand_size_map = {\n",
      "\u001b[1;32mc:\\ProgramData\\Anaconda3\\Lib\\site-packages\\deuces\\lookup.py\u001b[0m in \u001b[0;36m__init__\u001b[1;34m(self)\u001b[0m\n\u001b[0;32m     68\u001b[0m \u001b[1;33m\u001b[0m\u001b[0m\n\u001b[0;32m     69\u001b[0m         \u001b[1;31m# create the lookup table in piecewise fashion\u001b[0m\u001b[1;33m\u001b[0m\u001b[1;33m\u001b[0m\u001b[1;33m\u001b[0m\u001b[0m\n\u001b[1;32m---> 70\u001b[1;33m         \u001b[0mself\u001b[0m\u001b[1;33m.\u001b[0m\u001b[0mflushes\u001b[0m\u001b[1;33m(\u001b[0m\u001b[1;33m)\u001b[0m  \u001b[1;31m# this will call straights and high cards method,\u001b[0m\u001b[1;33m\u001b[0m\u001b[1;33m\u001b[0m\u001b[0m\n\u001b[0m\u001b[0;32m     71\u001b[0m                         \u001b[1;31m# we reuse some of the bit sequences\u001b[0m\u001b[1;33m\u001b[0m\u001b[1;33m\u001b[0m\u001b[1;33m\u001b[0m\u001b[0m\n\u001b[0;32m     72\u001b[0m         \u001b[0mself\u001b[0m\u001b[1;33m.\u001b[0m\u001b[0mmultiples\u001b[0m\u001b[1;33m(\u001b[0m\u001b[1;33m)\u001b[0m\u001b[1;33m\u001b[0m\u001b[1;33m\u001b[0m\u001b[0m\n",
      "\u001b[1;32mc:\\ProgramData\\Anaconda3\\Lib\\site-packages\\deuces\\lookup.py\u001b[0m in \u001b[0;36mflushes\u001b[1;34m(self)\u001b[0m\n\u001b[0;32m    103\u001b[0m         \u001b[1;32mfor\u001b[0m \u001b[0mi\u001b[0m \u001b[1;32min\u001b[0m \u001b[0mrange\u001b[0m\u001b[1;33m(\u001b[0m\u001b[1;36m1277\u001b[0m \u001b[1;33m+\u001b[0m \u001b[0mlen\u001b[0m\u001b[1;33m(\u001b[0m\u001b[0mstraight_flushes\u001b[0m\u001b[1;33m)\u001b[0m \u001b[1;33m-\u001b[0m \u001b[1;36m1\u001b[0m\u001b[1;33m)\u001b[0m\u001b[1;33m:\u001b[0m \u001b[1;31m# we also iterate over SFs\u001b[0m\u001b[1;33m\u001b[0m\u001b[1;33m\u001b[0m\u001b[0m\n\u001b[0;32m    104\u001b[0m             \u001b[1;31m# pull the next flush pattern from our generator\u001b[0m\u001b[1;33m\u001b[0m\u001b[1;33m\u001b[0m\u001b[1;33m\u001b[0m\u001b[0m\n\u001b[1;32m--> 105\u001b[1;33m             \u001b[0mf\u001b[0m \u001b[1;33m=\u001b[0m \u001b[0mnext\u001b[0m\u001b[1;33m(\u001b[0m\u001b[0mgen\u001b[0m\u001b[1;33m)\u001b[0m\u001b[1;33m\u001b[0m\u001b[1;33m\u001b[0m\u001b[0m\n\u001b[0m\u001b[0;32m    106\u001b[0m \u001b[1;33m\u001b[0m\u001b[0m\n\u001b[0;32m    107\u001b[0m             \u001b[1;31m# if this flush matches perfectly any\u001b[0m\u001b[1;33m\u001b[0m\u001b[1;33m\u001b[0m\u001b[1;33m\u001b[0m\u001b[0m\n",
      "\u001b[1;32mc:\\ProgramData\\Anaconda3\\Lib\\site-packages\\deuces\\lookup.py\u001b[0m in \u001b[0;36mget_lexographically_next_bit_sequence\u001b[1;34m(self, bits)\u001b[0m\n\u001b[0;32m    265\u001b[0m         \"\"\"\n\u001b[0;32m    266\u001b[0m         \u001b[0mt\u001b[0m \u001b[1;33m=\u001b[0m \u001b[1;33m(\u001b[0m\u001b[0mbits\u001b[0m \u001b[1;33m|\u001b[0m \u001b[1;33m(\u001b[0m\u001b[0mbits\u001b[0m \u001b[1;33m-\u001b[0m \u001b[1;36m1\u001b[0m\u001b[1;33m)\u001b[0m\u001b[1;33m)\u001b[0m \u001b[1;33m+\u001b[0m \u001b[1;36m1\u001b[0m\u001b[1;33m\u001b[0m\u001b[1;33m\u001b[0m\u001b[0m\n\u001b[1;32m--> 267\u001b[1;33m         \u001b[0mnext\u001b[0m \u001b[1;33m=\u001b[0m \u001b[0mt\u001b[0m \u001b[1;33m|\u001b[0m \u001b[1;33m(\u001b[0m\u001b[1;33m(\u001b[0m\u001b[1;33m(\u001b[0m\u001b[1;33m(\u001b[0m\u001b[0mt\u001b[0m \u001b[1;33m&\u001b[0m \u001b[1;33m-\u001b[0m\u001b[0mt\u001b[0m\u001b[1;33m)\u001b[0m \u001b[1;33m/\u001b[0m \u001b[1;33m(\u001b[0m\u001b[0mbits\u001b[0m \u001b[1;33m&\u001b[0m \u001b[1;33m-\u001b[0m\u001b[0mbits\u001b[0m\u001b[1;33m)\u001b[0m\u001b[1;33m)\u001b[0m \u001b[1;33m>>\u001b[0m \u001b[1;36m1\u001b[0m\u001b[1;33m)\u001b[0m \u001b[1;33m-\u001b[0m \u001b[1;36m1\u001b[0m\u001b[1;33m)\u001b[0m\u001b[1;33m\u001b[0m\u001b[1;33m\u001b[0m\u001b[0m\n\u001b[0m\u001b[0;32m    268\u001b[0m         \u001b[1;32myield\u001b[0m \u001b[0mnext\u001b[0m\u001b[1;33m\u001b[0m\u001b[1;33m\u001b[0m\u001b[0m\n\u001b[0;32m    269\u001b[0m         \u001b[1;32mwhile\u001b[0m \u001b[1;32mTrue\u001b[0m\u001b[1;33m:\u001b[0m\u001b[1;33m\u001b[0m\u001b[1;33m\u001b[0m\u001b[0m\n",
      "\u001b[1;31mTypeError\u001b[0m: unsupported operand type(s) for >>: 'float' and 'int'"
     ]
    }
   ],
   "source": [
    "hand = h.Hand(hnd[0], hnd[1])\n",
    "print(hand.show_hand()[0].show_card(), hand.show_hand()[1].show_card())\n",
    "print(hand.best_five(board))\n",
    "print(hand.hand_strength(board))"
   ]
  },
  {
   "cell_type": "code",
   "execution_count": 9,
   "metadata": {},
   "outputs": [
    {
     "name": "stdout",
     "output_type": "stream",
     "text": [
      "2\n",
      "player2\n",
      "[]\n",
      "KS 9H\n",
      "100\n",
      "125\n",
      "111\n",
      "0\n",
      "\n",
      "4\n",
      "Tail\n"
     ]
    }
   ],
   "source": [
    "player2 = pl.Player(2, 100)\n",
    "print(player2.number())\n",
    "print(player2.general_name())\n",
    "print(player2.show_player_hand())\n",
    "player2.add_hand(hand)\n",
    "print(player2.show_player_hand().show_hand()[0].show_card(), player2.show_player_hand().show_hand()[1].show_card())\n",
    "print(player2.chips())\n",
    "player2.increase_chips(25)\n",
    "print(player2.chips())\n",
    "player2.decrease_chips(14)\n",
    "print(player2.chips())\n",
    "print(player2.position_nr())\n",
    "print(player2.position_name())\n",
    "player2.add_position(4)\n",
    "print(player2.position_nr())\n",
    "print(player2.position_name())"
   ]
  },
  {
   "cell_type": "markdown",
   "metadata": {},
   "source": [
    "# Preparation"
   ]
  },
  {
   "cell_type": "code",
   "execution_count": 12,
   "metadata": {},
   "outputs": [],
   "source": [
    "# Create Pot\n",
    "pot = p.Pot()\n",
    "\n",
    "# Create Deck\n",
    "deck = d.Deck()\n",
    "\n",
    "# Create Board\n",
    "brd = deck.make_board()\n",
    "board = b.Board(brd[0], brd[1], brd[2], brd[3], brd[4])\n",
    "\n",
    "# Create Hands\n",
    "hnd0 = deck.make_hand()\n",
    "hand0 = h.Hand(hnd0[0], hnd0[1])\n",
    "\n",
    "hnd1 = deck.make_hand()\n",
    "hand1 = h.Hand(hnd1[0], hnd1[1])\n",
    "\n",
    "hnd2 = deck.make_hand()\n",
    "hand2 = h.Hand(hnd2[0], hnd2[1])\n",
    "\n",
    "hnd3 = deck.make_hand()\n",
    "hand3 = h.Hand(hnd3[0], hnd3[1])\n",
    "\n",
    "hnd4 = deck.make_hand()\n",
    "hand4 = h.Hand(hnd4[0], hnd4[1])\n",
    "\n",
    "hnd5 = deck.make_hand()\n",
    "hand5 = h.Hand(hnd5[0], hnd5[1])\n",
    "\n",
    "# Create Players\n",
    "player0 = pl.Player(0, 100)\n",
    "player0.add_position(0)\n",
    "player0.add_hand(hand0)\n",
    "\n",
    "player1 = pl.Player(1, 100)\n",
    "player1.add_position(1)\n",
    "player1.add_hand(hand1)\n",
    "\n",
    "player2 = pl.Player(2, 100)\n",
    "player2.add_position(2)\n",
    "player2.add_hand(hand2)\n",
    "\n",
    "player3 = pl.Player(3, 100)\n",
    "player3.add_position(3)\n",
    "player3.add_hand(hand3)\n",
    "\n",
    "player4 = pl.Player(4, 100)\n",
    "player4.add_position(4)\n",
    "player4.add_hand(hand4)\n",
    "\n",
    "player5 = pl.Player(5, 100)\n",
    "player5.add_position(5)\n",
    "player5.add_hand(hand5)"
   ]
  },
  {
   "cell_type": "code",
   "execution_count": null,
   "metadata": {},
   "outputs": [],
   "source": []
  }
 ],
 "metadata": {
  "kernelspec": {
   "display_name": "Python 3",
   "language": "python",
   "name": "python3"
  },
  "language_info": {
   "codemirror_mode": {
    "name": "ipython",
    "version": 3
   },
   "file_extension": ".py",
   "mimetype": "text/x-python",
   "name": "python",
   "nbconvert_exporter": "python",
   "pygments_lexer": "ipython3",
   "version": "3.7.3"
  }
 },
 "nbformat": 4,
 "nbformat_minor": 2
}
