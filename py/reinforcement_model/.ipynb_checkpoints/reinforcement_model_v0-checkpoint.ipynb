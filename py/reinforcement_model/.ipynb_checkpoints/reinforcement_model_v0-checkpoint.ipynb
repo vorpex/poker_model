{
 "cells": [
  {
   "cell_type": "markdown",
   "metadata": {},
   "source": [
    "# load necessary moduls and settings"
   ]
  },
  {
   "cell_type": "code",
   "execution_count": 1,
   "metadata": {
    "ExecuteTime": {
     "end_time": "2019-08-28T16:03:04.653714Z",
     "start_time": "2019-08-28T16:03:04.473393Z"
    }
   },
   "outputs": [
    {
     "data": {
      "text/plain": [
       "0"
      ]
     },
     "execution_count": 1,
     "metadata": {},
     "output_type": "execute_result"
    }
   ],
   "source": [
    "'''poker engine'''\n",
    "\n",
    "# pylint: disable=E1101, E1601, W0612\n",
    "\n",
    "import funcs_decision_point as fdp\n",
    "import funcs_other as fother\n",
    "import funcs_range as frange\n",
    "import funcs_sql_del as fsqld\n",
    "import funcs_sql_ins as fsqli\n",
    "import funcs_sql_sel as fsqls\n",
    "import funcs_sql_upd as fsqlu\n",
    "import gc\n",
    "import json\n",
    "import mysql.connector\n",
    "from pypokerengine.api.emulator import Emulator\n",
    "\n",
    "gc.collect()"
   ]
  },
  {
   "cell_type": "code",
   "execution_count": 2,
   "metadata": {},
   "outputs": [
    {
     "data": {
      "text/plain": [
       "{'ante_amount': 0,\n",
       " 'deuces_path': 'c:/ProgramData/Anaconda3/Lib/site-packages/deuces/',\n",
       " 'holdem_calc_path': '../holdem_calc/',\n",
       " 'max_round': 1,\n",
       " 'nr': 0,\n",
       " 'player_num': 6,\n",
       " 'pot': 0,\n",
       " 'side': 0,\n",
       " 'small_blind_amount': 10,\n",
       " 'stack': 2000,\n",
       " 'step': 0,\n",
       " 'sql_database': 'poker_reinforcement_model',\n",
       " 'sql_host': '127.0.0.1',\n",
       " 'sql_path': '../../sql/reinforcement_model/',\n",
       " 'sql_user': 'root'}"
      ]
     },
     "execution_count": 2,
     "metadata": {},
     "output_type": "execute_result"
    }
   ],
   "source": [
    "json_data = open(file='./settings.json', mode='r')\n",
    "settings = json.load(json_data)\n",
    "json_data.close()\n",
    "\n",
    "settings"
   ]
  },
  {
   "cell_type": "markdown",
   "metadata": {},
   "source": [
    "# prepare poker database for new dataset"
   ]
  },
  {
   "cell_type": "code",
   "execution_count": 3,
   "metadata": {},
   "outputs": [],
   "source": [
    "poker_db = mysql.connector.connect(user=settings['sql_user'],\n",
    "                                   host=settings['sql_host'],\n",
    "                                   database=settings['sql_database'])\n",
    "database = settings['sql_database']\n",
    "sql_path = settings['sql_path']"
   ]
  },
  {
   "cell_type": "code",
   "execution_count": 4,
   "metadata": {},
   "outputs": [
    {
     "name": "stdout",
     "output_type": "stream",
     "text": [
      "Done\n"
     ]
    }
   ],
   "source": [
    "tables = fsqls.sql_select_tables(poker_db=poker_db,\n",
    "                                 database=database,\n",
    "                                 sql_path=sql_path)\n",
    "for table in tables:\n",
    "    fsqld.sql_delete_allrows(poker_db=poker_db,\n",
    "                             database=database,\n",
    "                             table=table,\n",
    "                             sql_path=sql_path)\n",
    "\n",
    "print('Done')"
   ]
  },
  {
   "cell_type": "markdown",
   "metadata": {},
   "source": [
    "# prepare poker game for new plays\n",
    "## basic settings"
   ]
  },
  {
   "cell_type": "code",
   "execution_count": 5,
   "metadata": {},
   "outputs": [],
   "source": [
    "emulator = Emulator()"
   ]
  },
  {
   "cell_type": "code",
   "execution_count": 6,
   "metadata": {},
   "outputs": [],
   "source": [
    "player_num = settings['player_num']\n",
    "max_round = settings['max_round']\n",
    "small_blind_amount = settings['small_blind_amount']\n",
    "ante_amount = settings['ante_amount']\n",
    "stack = settings['stack']\n",
    "\n",
    "players_info = {\n",
    "    'uuid-0': {'name': 'player0', 'stack': stack},\n",
    "    'uuid-1': {'name': 'player1', 'stack': stack},\n",
    "    'uuid-2': {'name': 'player2', 'stack': stack},\n",
    "    'uuid-3': {'name': 'player3', 'stack': stack},\n",
    "    'uuid-4': {'name': 'player4', 'stack': stack},\n",
    "    'uuid-5': {'name': 'player5', 'stack': stack}\n",
    "}\n",
    "\n",
    "emulator.set_game_rule(player_num=player_num,\n",
    "                       max_round=max_round,\n",
    "                       small_blind_amount=small_blind_amount,\n",
    "                       ante_amount=ante_amount)\n",
    "initial_state = emulator.generate_initial_game_state(players_info)\n",
    "index = fsqls.sql_games_max_id(poker_db=poker_db,\n",
    "                               database=database,\n",
    "                               sql_path=sql_path)\n",
    "summary = list()"
   ]
  },
  {
   "cell_type": "markdown",
   "metadata": {},
   "source": [
    "## prepare database"
   ]
  },
  {
   "cell_type": "code",
   "execution_count": 7,
   "metadata": {},
   "outputs": [],
   "source": [
    "for i, player in enumerate(initial_state['table'].seats.players):\n",
    "    fsqli.sql_insert_games(poker_db=poker_db,\n",
    "                           database=database,\n",
    "                           sql_path=sql_path,\n",
    "                           index=index + 1,\n",
    "                           player_num=player_num,\n",
    "                           small_blind_amount=small_blind_amount,\n",
    "                           ante_amount=ante_amount,\n",
    "                           uuid=player.uuid,\n",
    "                           name=player.name,\n",
    "                           stack=player.stack,\n",
    "                           position=i,\n",
    "                           card1='',\n",
    "                           card2='',\n",
    "                           hand_db_format='',\n",
    "                           flop1='',\n",
    "                           flop2='',\n",
    "                           flop3='',\n",
    "                           turn='',\n",
    "                           river='',\n",
    "                           final_stack=0)"
   ]
  },
  {
   "cell_type": "markdown",
   "metadata": {},
   "source": [
    "## update database with cards in hands"
   ]
  },
  {
   "cell_type": "code",
   "execution_count": 8,
   "metadata": {},
   "outputs": [],
   "source": [
    "game_state, events = emulator.start_new_round(initial_state)\n",
    "for i, player in enumerate(game_state['table'].seats.players):\n",
    "    card_list = [player.hole_card[0].RANK_MAP[player.hole_card[0].rank] +\n",
    "                 player.hole_card[0].SUIT_MAP[player.hole_card[0].suit],\n",
    "                 player.hole_card[1].RANK_MAP[player.hole_card[1].rank] +\n",
    "                 player.hole_card[1].SUIT_MAP[player.hole_card[1].suit]\n",
    "    ]\n",
    "    card_list.sort()\n",
    "    card1 = card_list[0]\n",
    "    card2 = card_list[1]\n",
    "    if card1[-1] == card2[-1]:\n",
    "        hand_db_format = card1[:-1] + card2[:-1] + 's'\n",
    "    else:\n",
    "        hand_db_format = card1[:-1] + card2[:-1] + 'o'\n",
    "\n",
    "    fsqlu.sql_update_games_cards(poker_db=poker_db,\n",
    "                                 database=database,\n",
    "                                 sql_path=sql_path,\n",
    "                                 index=index + 1,\n",
    "                                 uuid=player.uuid,\n",
    "                                 card1=card1,\n",
    "                                 card2=card2,\n",
    "                                 hand_db_format=hand_db_format)"
   ]
  },
  {
   "cell_type": "markdown",
   "metadata": {},
   "source": [
    "## prepare smallblind and bigblind phase"
   ]
  },
  {
   "cell_type": "code",
   "execution_count": 9,
   "metadata": {},
   "outputs": [],
   "source": [
    "nr = settings['nr']\n",
    "step = settings['step']\n",
    "pot = settings['pot']\n",
    "\n",
    "for i, player in enumerate(game_state['table'].seats.players):\n",
    "    try:\n",
    "        if player.serialize()[4][0]['action'] in ['SMALLBLIND', 'BIGBLIND']:\n",
    "            if player.serialize()[4][0]['action'] == 'SMALLBLIND':\n",
    "                amount = small_blind_amount\n",
    "            else:\n",
    "                amount = 2 * small_blind_amount\n",
    "\n",
    "            fsqli.sql_insert_history(poker_db=poker_db,\n",
    "                                     database=database,\n",
    "                                     sql_path=sql_path,\n",
    "                                     phase='preflop',\n",
    "                                     nr=nr,\n",
    "                                     step=step,\n",
    "                                     uuid=player.serialize()[1],\n",
    "                                     position=i,\n",
    "                                     stack=settings['stack'],\n",
    "                                     stack_range=frange.range_stack(stack=settings['stack'],\n",
    "                                                                    small_blind_amount=small_blind_amount),\n",
    "                                     pot=pot,\n",
    "                                     pot_range=frange.range_pot(pot=pot,\n",
    "                                                                small_blind_amount=small_blind_amount),\n",
    "                                     flop1='',\n",
    "                                     flop2='',\n",
    "                                     flop3='',\n",
    "                                     turn='',\n",
    "                                     river='',\n",
    "                                     action=player.serialize()[4][0]['action'],\n",
    "                                     amount=amount,\n",
    "                                     new_stack=settings['stack'] - amount,\n",
    "                                     new_stack_range=frange.range_stack(stack=settings['stack'] - amount,\n",
    "                                                                        small_blind_amount=small_blind_amount),\n",
    "                                     new_pot=pot + amount,\n",
    "                                     new_pot_range=frange.range_pot(pot=pot + amount,\n",
    "                                                                    small_blind_amount=small_blind_amount),\n",
    "                                     amount_potrate=frange.range_potrate(amount=amount,\n",
    "                                                                         pot=pot,\n",
    "                                                                         action=player.serialize()[4][0]['action']))\n",
    "\n",
    "            nr = nr + 1\n",
    "            step = step + 1\n",
    "            pot = pot + amount\n",
    "    except:\n",
    "        pass"
   ]
  },
  {
   "cell_type": "markdown",
   "metadata": {},
   "source": [
    "# game phase\n",
    "## hint\n",
    "{database}.possible_moves.bet_amount: implies the \"until size\" of some action, e.g. \"raise til 100\" (already debt amount + raise amount)  \n",
    "{database}.history.amount: net change in pot caused by some action"
   ]
  },
  {
   "cell_type": "code",
   "execution_count": null,
   "metadata": {},
   "outputs": [],
   "source": [
    "events"
   ]
  },
  {
   "cell_type": "code",
   "execution_count": null,
   "metadata": {},
   "outputs": [],
   "source": [
    "data = events[-1]"
   ]
  },
  {
   "cell_type": "code",
   "execution_count": null,
   "metadata": {},
   "outputs": [],
   "source": [
    "phase = data['round_state']['street']\n",
    "position = data['round_state']['next_player']\n",
    "uuid = data['uuid']\n",
    "for item in data['round_state']['seats']:\n",
    "    if item['uuid'] == data['uuid']:\n",
    "        stack = item['stack']\n",
    "\n",
    "side = settings['side']\n",
    "if data['round_state']['pot']['side'] != []:\n",
    "    for amount in data['round_state']['pot']['side']:        \n",
    "        side = side + amount['amount']\n",
    "\n",
    "pot = data['round_state']['pot']['main']['amount'] + side\n",
    "\n",
    "print(phase, '\\n', position, '\\n', uuid, '\\n', stack, '\\n', side, '\\n', pot)"
   ]
  },
  {
   "cell_type": "code",
   "execution_count": null,
   "metadata": {},
   "outputs": [],
   "source": [
    "valid_actions = fother.valid_actions_check(actions=data['valid_actions'],\n",
    "                                           phase=phase,\n",
    "                                           position=position,\n",
    "                                           stack=stack,\n",
    "                                           small_blind_amount=small_blind_amount)\n",
    "valid_actions"
   ]
  },
  {
   "cell_type": "code",
   "execution_count": null,
   "metadata": {},
   "outputs": [],
   "source": [
    "community_cards = fother.community_cards_eval(board=data['round_state']['community_card'])\n",
    "community_cards"
   ]
  },
  {
   "cell_type": "code",
   "execution_count": null,
   "metadata": {},
   "outputs": [],
   "source": [
    "action, bet_amount, decision = \\\n",
    "        fdp.decision_point_based_action(poker_db=poker_db,\n",
    "                                        database=database,\n",
    "                                        sql_path=sql_path,\n",
    "                                        phase=phase,\n",
    "                                        nr=nr,\n",
    "                                        step=step,\n",
    "                                        position=position,\n",
    "                                        stack=stack,\n",
    "                                        pot=pot,\n",
    "                                        flop1=community_cards[0],\n",
    "                                        flop2=community_cards[1],\n",
    "                                        flop3=community_cards[2],\n",
    "                                        turn=community_cards[3],\n",
    "                                        river=community_cards[4],\n",
    "                                        valid_actions=valid_actions)\n",
    "\n",
    "print(action, '\\n', bet_amount, '\\n', decision)\n",
    "\n",
    "# check related tables in database!"
   ]
  },
  {
   "cell_type": "code",
   "execution_count": null,
   "metadata": {},
   "outputs": [],
   "source": [
    "game_state, events = emulator.apply_action(game_state=game_state,\n",
    "                                           action=action,\n",
    "                                           bet_amount=bet_amount)\n",
    "events"
   ]
  },
  {
   "cell_type": "code",
   "execution_count": null,
   "metadata": {},
   "outputs": [],
   "source": [
    "summary.append(decision)\n",
    "summary"
   ]
  },
  {
   "cell_type": "code",
   "execution_count": null,
   "metadata": {},
   "outputs": [],
   "source": [
    "if events[-1]['type'] == 'event_game_finish':\n",
    "        data = events[0]\n",
    "else:\n",
    "    data = events[-1]\n",
    "\n",
    "data"
   ]
  },
  {
   "cell_type": "code",
   "execution_count": null,
   "metadata": {},
   "outputs": [],
   "source": [
    "new_phase = data['round_state']['street']    \n",
    "new_side = settings['side']\n",
    "if data['round_state']['pot']['side'] != []:\n",
    "    for amount in data['round_state']['pot']['side']:        \n",
    "        new_side = new_side + amount['amount']\n",
    "\n",
    "new_pot = data['round_state']['pot']['main']['amount'] + new_side\n",
    "for item in data['round_state']['seats']:\n",
    "    if item['uuid'] == uuid and data['round_state']['street'] != 'showdown':\n",
    "        new_stack = item['stack']\n",
    "    elif item['uuid'] == uuid and data['round_state']['street'] == 'showdown':\n",
    "        new_stack = stack - new_pot + pot\n",
    "    else:\n",
    "        pass\n",
    "\n",
    "amount = stack - new_stack\n",
    "\n",
    "print(new_phase, '\\n', new_side, '\\n', new_pot, '\\n', new_stack, '\\n', amount)"
   ]
  },
  {
   "cell_type": "code",
   "execution_count": null,
   "metadata": {},
   "outputs": [],
   "source": [
    "fsqli.sql_insert_history(poker_db=poker_db,\n",
    "                         database=database,\n",
    "                         sql_path=sql_path,\n",
    "                         phase=phase,\n",
    "                         nr=nr,\n",
    "                         step=step,\n",
    "                         uuid=uuid,\n",
    "                         position=position,\n",
    "                         stack=stack,\n",
    "                         stack_range=frange.range_stack(stack=stack,\n",
    "                                                        small_blind_amount=small_blind_amount),\n",
    "                         pot=pot,\n",
    "                         pot_range=frange.range_pot(pot=pot,\n",
    "                                                    small_blind_amount=small_blind_amount),\n",
    "                         flop1=community_cards[0],\n",
    "                         flop2=community_cards[1],\n",
    "                         flop3=community_cards[2],\n",
    "                         turn=community_cards[3],\n",
    "                         river=community_cards[4],\n",
    "                         action=action.upper(),\n",
    "                         amount=amount,\n",
    "                         new_stack=new_stack,\n",
    "                         new_stack_range=frange.range_stack(stack=new_stack,\n",
    "                                                            small_blind_amount=small_blind_amount),\n",
    "                         new_pot=new_pot,\n",
    "                         new_pot_range=frange.range_pot(pot=new_pot,\n",
    "                                                        small_blind_amount=small_blind_amount),\n",
    "                         amount_potrate=frange.range_potrate(amount=amount,\n",
    "                                                             pot=pot,\n",
    "                                                             action=action.upper()))\n",
    "\n",
    "# check related tables in database!"
   ]
  },
  {
   "cell_type": "code",
   "execution_count": null,
   "metadata": {},
   "outputs": [],
   "source": [
    "if phase == new_phase:\n",
    "    nr = nr + 1\n",
    "else:\n",
    "    nr = 0\n",
    "\n",
    "step = step + 1"
   ]
  },
  {
   "cell_type": "code",
   "execution_count": null,
   "metadata": {},
   "outputs": [],
   "source": []
  },
  {
   "cell_type": "code",
   "execution_count": 10,
   "metadata": {},
   "outputs": [
    {
     "ename": "TypeError",
     "evalue": "decision_point_based_action() missing 1 required positional argument: 'small_blind_amount'",
     "output_type": "error",
     "traceback": [
      "\u001b[1;31m---------------------------------------------------------------------------\u001b[0m",
      "\u001b[1;31mTypeError\u001b[0m                                 Traceback (most recent call last)",
      "\u001b[1;32m<ipython-input-10-9d9c163e9794>\u001b[0m in \u001b[0;36m<module>\u001b[1;34m\u001b[0m\n\u001b[0;32m     41\u001b[0m                                         \u001b[0mturn\u001b[0m\u001b[1;33m=\u001b[0m\u001b[0mcommunity_cards\u001b[0m\u001b[1;33m[\u001b[0m\u001b[1;36m3\u001b[0m\u001b[1;33m]\u001b[0m\u001b[1;33m,\u001b[0m\u001b[1;33m\u001b[0m\u001b[1;33m\u001b[0m\u001b[0m\n\u001b[0;32m     42\u001b[0m                                         \u001b[0mriver\u001b[0m\u001b[1;33m=\u001b[0m\u001b[0mcommunity_cards\u001b[0m\u001b[1;33m[\u001b[0m\u001b[1;36m4\u001b[0m\u001b[1;33m]\u001b[0m\u001b[1;33m,\u001b[0m\u001b[1;33m\u001b[0m\u001b[1;33m\u001b[0m\u001b[0m\n\u001b[1;32m---> 43\u001b[1;33m                                         valid_actions=valid_actions)\n\u001b[0m\u001b[0;32m     44\u001b[0m     \u001b[1;31m# print(action, bet_amount, decision)\u001b[0m\u001b[1;33m\u001b[0m\u001b[1;33m\u001b[0m\u001b[1;33m\u001b[0m\u001b[0m\n\u001b[0;32m     45\u001b[0m     game_state, events = emulator.apply_action(game_state=game_state,\n",
      "\u001b[1;31mTypeError\u001b[0m: decision_point_based_action() missing 1 required positional argument: 'small_blind_amount'"
     ]
    }
   ],
   "source": [
    "while events[-1]['type'] != 'event_game_finish':\n",
    "    \n",
    "    # data source\n",
    "    data = events[-1]\n",
    "    \n",
    "    # calculate parameters from current game state\n",
    "    phase = data['round_state']['street']\n",
    "    position = data['round_state']['next_player']\n",
    "    uuid = data['uuid']\n",
    "    for item in data['round_state']['seats']:\n",
    "        if item['uuid'] == data['uuid']:\n",
    "            stack = item['stack']\n",
    "\n",
    "    side = settings['side']\n",
    "    if data['round_state']['pot']['side'] != []:\n",
    "        for amount in data['round_state']['pot']['side']:        \n",
    "            side = side + amount['amount']\n",
    "\n",
    "    pot = data['round_state']['pot']['main']['amount'] + side\n",
    "    valid_actions = fother.valid_actions_check(actions=data['valid_actions'],\n",
    "                                               phase=phase,\n",
    "                                               position=position,\n",
    "                                               stack=stack,\n",
    "                                               small_blind_amount=small_blind_amount)\n",
    "    community_cards = fother.community_cards_eval(board=data['round_state']['community_card'])\n",
    "\n",
    "    # calculate action and bet_amount and apply them on game state\n",
    "    action, bet_amount, decision = \\\n",
    "        fdp.decision_point_based_action(poker_db=poker_db,\n",
    "                                        database=database,\n",
    "                                        sql_path=sql_path,\n",
    "                                        phase=phase,\n",
    "                                        nr=nr,\n",
    "                                        step=step,\n",
    "                                        position=position,\n",
    "                                        stack=stack,\n",
    "                                        pot=pot,\n",
    "                                        flop1=community_cards[0],\n",
    "                                        flop2=community_cards[1],\n",
    "                                        flop3=community_cards[2],\n",
    "                                        turn=community_cards[3],\n",
    "                                        river=community_cards[4],\n",
    "                                        valid_actions=valid_actions)\n",
    "    # print(action, bet_amount, decision)\n",
    "    game_state, events = emulator.apply_action(game_state=game_state,\n",
    "                                               action=action,\n",
    "                                               bet_amount=bet_amount)\n",
    "    summary.append(decision)\n",
    "    # print(game_state, events)\n",
    "    # print('----------------------------------------------------------------------')\n",
    "    # calculate new parameters from current game state\n",
    "    if events[-1]['type'] == 'event_game_finish':\n",
    "        data = events[0]\n",
    "    else:\n",
    "        data = events[-1]\n",
    "    \n",
    "    new_phase = data['round_state']['street']    \n",
    "    new_side = settings['side']\n",
    "    if data['round_state']['pot']['side'] != []:\n",
    "        for amount in data['round_state']['pot']['side']:        \n",
    "            new_side = new_side + amount['amount']\n",
    "\n",
    "    new_pot = data['round_state']['pot']['main']['amount'] + new_side\n",
    "    for item in data['round_state']['seats']:\n",
    "        if item['uuid'] == uuid and data['round_state']['street'] != 'showdown':\n",
    "            new_stack = item['stack']\n",
    "        elif item['uuid'] == uuid and data['round_state']['street'] == 'showdown':\n",
    "            new_stack = stack - new_pot + pot\n",
    "        else:\n",
    "            pass\n",
    "    \n",
    "    amount = stack - new_stack\n",
    "    \n",
    "    # insert action in history table with calculated old and new parameters\n",
    "    fsqli.sql_insert_history(poker_db=poker_db,\n",
    "                             database=database,\n",
    "                             sql_path=sql_path,\n",
    "                             phase=phase,\n",
    "                             nr=nr,\n",
    "                             step=step,\n",
    "                             uuid=uuid,\n",
    "                             position=position,\n",
    "                             stack=stack,\n",
    "                             stack_range=frange.range_stack(stack=stack,\n",
    "                                                            small_blind_amount=small_blind_amount),\n",
    "                             pot=pot,\n",
    "                             pot_range=frange.range_pot(pot=pot,\n",
    "                                                        small_blind_amount=small_blind_amount),\n",
    "                             flop1=community_cards[0],\n",
    "                             flop2=community_cards[1],\n",
    "                             flop3=community_cards[2],\n",
    "                             turn=community_cards[3],\n",
    "                             river=community_cards[4],\n",
    "                             action=action.upper(),\n",
    "                             amount=amount,\n",
    "                             new_stack=new_stack,\n",
    "                             new_stack_range=frange.range_stack(stack=new_stack,\n",
    "                                                                small_blind_amount=small_blind_amount),\n",
    "                             new_pot=new_pot,\n",
    "                             new_pot_range=frange.range_pot(pot=new_pot,\n",
    "                                                            small_blind_amount=small_blind_amount),\n",
    "                             amount_potrate=frange.range_potrate(amount=amount,\n",
    "                                                                 pot=pot,\n",
    "                                                                 action=action.upper()))\n",
    "\n",
    "    # increase nr parameter - nr has to be set to 0 when phase changes\n",
    "    if phase == new_phase:\n",
    "        nr = nr + 1\n",
    "    else:\n",
    "        nr = 0\n",
    "    \n",
    "    step = step + 1"
   ]
  },
  {
   "cell_type": "code",
   "execution_count": null,
   "metadata": {},
   "outputs": [],
   "source": [
    "fother.summarize(poker_db=poker_db,\n",
    "                 database=database,\n",
    "                 sql_path=sql_path,\n",
    "                 final_stacks=events[-1]['players'],\n",
    "                 summary=summary)"
   ]
  },
  {
   "cell_type": "code",
   "execution_count": null,
   "metadata": {},
   "outputs": [],
   "source": [
    "poker_db.close()"
   ]
  },
  {
   "cell_type": "raw",
   "metadata": {},
   "source": [
    "- when player's stack is zero then rebuy, mulitply small blind with random integer in range min-max starting stack\n",
    "- prepare script to run it for n loop - finsih stack is starting stack in new round\n",
    "\n",
    "- simplify code of hand_strength, improv_rate calculation\n",
    "- handle bet amount range in possible_moves table, line 218-222"
   ]
  },
  {
   "cell_type": "code",
   "execution_count": null,
   "metadata": {},
   "outputs": [],
   "source": []
  }
 ],
 "metadata": {
  "kernelspec": {
   "display_name": "Python 3",
   "language": "python",
   "name": "python3"
  },
  "language_info": {
   "codemirror_mode": {
    "name": "ipython",
    "version": 3
   },
   "file_extension": ".py",
   "mimetype": "text/x-python",
   "name": "python",
   "nbconvert_exporter": "python",
   "pygments_lexer": "ipython3",
   "version": "3.7.3"
  },
  "toc": {
   "base_numbering": 1,
   "nav_menu": {},
   "number_sections": true,
   "sideBar": true,
   "skip_h1_title": false,
   "title_cell": "Table of Contents",
   "title_sidebar": "Contents",
   "toc_cell": false,
   "toc_position": {},
   "toc_section_display": true,
   "toc_window_display": false
  },
  "varInspector": {
   "cols": {
    "lenName": 16,
    "lenType": 16,
    "lenVar": 40
   },
   "kernels_config": {
    "python": {
     "delete_cmd_postfix": "",
     "delete_cmd_prefix": "del ",
     "library": "var_list.py",
     "varRefreshCmd": "print(var_dic_list())"
    },
    "r": {
     "delete_cmd_postfix": ") ",
     "delete_cmd_prefix": "rm(",
     "library": "var_list.r",
     "varRefreshCmd": "cat(var_dic_list()) "
    }
   },
   "types_to_exclude": [
    "module",
    "function",
    "builtin_function_or_method",
    "instance",
    "_Feature"
   ],
   "window_display": false
  }
 },
 "nbformat": 4,
 "nbformat_minor": 4
}
