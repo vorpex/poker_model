{
 "cells": [
  {
   "cell_type": "markdown",
   "metadata": {},
   "source": [
    "# Testing"
   ]
  },
  {
   "cell_type": "code",
   "execution_count": 1,
   "metadata": {},
   "outputs": [],
   "source": [
    "import sys\n",
    "sys.path.append('c:\\\\ProgramData\\\\Anaconda3\\\\Lib\\\\site-packages\\\\deuces\\\\')\n",
    "\n",
    "import pboard\n",
    "import pcard\n",
    "import pdeck\n",
    "import phand\n",
    "import pplayer\n",
    "import ppot\n",
    "\n",
    "import gc"
   ]
  },
  {
   "cell_type": "code",
   "execution_count": 2,
   "metadata": {},
   "outputs": [
    {
     "data": {
      "text/plain": [
       "40"
      ]
     },
     "execution_count": 2,
     "metadata": {},
     "output_type": "execute_result"
    }
   ],
   "source": [
    "gc.collect()"
   ]
  },
  {
   "cell_type": "code",
   "execution_count": 3,
   "metadata": {},
   "outputs": [
    {
     "name": "stdout",
     "output_type": "stream",
     "text": [
      "0\n",
      "25\n"
     ]
    }
   ],
   "source": [
    "POT = ppot.Pot()\n",
    "print(POT.show_pot())\n",
    "POT.increase_pot(25)\n",
    "print(POT.show_pot())"
   ]
  },
  {
   "cell_type": "code",
   "execution_count": 4,
   "metadata": {},
   "outputs": [
    {
     "name": "stdout",
     "output_type": "stream",
     "text": [
      "TS 8D\n",
      "T 8\n",
      "S D\n",
      "10 8\n"
     ]
    }
   ],
   "source": [
    "card0 = pcard.Card('Ts')\n",
    "card1 = pcard.Card('8D')\n",
    "print(card0.show_card(), card1.show_card())\n",
    "print(card0.figure(), card1.figure())\n",
    "print(card0.color(), card1.color())\n",
    "print(card0.value(), card1.value())"
   ]
  },
  {
   "cell_type": "code",
   "execution_count": 5,
   "metadata": {},
   "outputs": [
    {
     "name": "stdout",
     "output_type": "stream",
     "text": [
      "52\n",
      "2D\n",
      "8H 4S KS 6H 4D\n",
      "AD AH\n",
      "45\n",
      "2D\n",
      "44\n",
      "KD\n",
      "43\n"
     ]
    }
   ],
   "source": [
    "DECK = pdeck.Deck()\n",
    "print(len(DECK.show_deck()))\n",
    "print(DECK.nth_card(13).show_card())\n",
    "BOARD = DECK.make_board()\n",
    "HAND = DECK.make_hand()\n",
    "print(BOARD.show_board()[0].show_card(), BOARD.show_board()[1].show_card(), BOARD.show_board()[2].show_card(), BOARD.show_board()[3].show_card(), BOARD.show_board()[4].show_card())\n",
    "print(HAND.show_hand()[0].show_card(), HAND.show_hand()[1].show_card())\n",
    "print(len(DECK.show_deck()))\n",
    "print(DECK.draw_by_number(13).show_card())\n",
    "print(len(DECK.show_deck()))\n",
    "print(DECK.draw_by_name('KD').show_card())\n",
    "print(len(DECK.show_deck()))"
   ]
  },
  {
   "cell_type": "code",
   "execution_count": 6,
   "metadata": {},
   "outputs": [
    {
     "name": "stdout",
     "output_type": "stream",
     "text": [
      "8H 4S KS 6H 4D\n",
      "8H 4S KS\n",
      "8H 4S KS 6H 4D\n"
     ]
    }
   ],
   "source": [
    "print(BOARD.show_board()[0].show_card(), BOARD.show_board()[1].show_card(), BOARD.show_board()[2].show_card(), BOARD.show_board()[3].show_card(), BOARD.show_board()[4].show_card())\n",
    "print(BOARD.flop()[0].show_card(), BOARD.flop()[1].show_card(), BOARD.flop()[2].show_card())\n",
    "print(BOARD.flop0().show_card(), BOARD.flop1().show_card(), BOARD.flop2().show_card(), BOARD.turn().show_card(), BOARD.river().show_card())"
   ]
  },
  {
   "cell_type": "code",
   "execution_count": 7,
   "metadata": {},
   "outputs": [
    {
     "name": "stdout",
     "output_type": "stream",
     "text": [
      "AD AH\n",
      "['4D', '4S', 'AD', 'AH', 'KS']\n",
      "2567\n"
     ]
    }
   ],
   "source": [
    "print(HAND.show_hand()[0].show_card(), HAND.show_hand()[1].show_card())\n",
    "print(HAND.best_five(BOARD))\n",
    "print(HAND.hand_strength(BOARD))"
   ]
  },
  {
   "cell_type": "code",
   "execution_count": 8,
   "metadata": {},
   "outputs": [
    {
     "name": "stdout",
     "output_type": "stream",
     "text": [
      "2\n",
      "player2\n",
      "None\n",
      "AD AH\n",
      "A-A-o\n",
      "100\n",
      "125\n",
      "111\n",
      "0\n",
      "None\n",
      "4\n",
      "Tail\n"
     ]
    }
   ],
   "source": [
    "player2 = pplayer.Player(2, 100)\n",
    "print(player2.number())\n",
    "print(player2.general_name())\n",
    "print(player2.show_player_hand())\n",
    "player2.add_hand(HAND)\n",
    "print(player2.show_player_hand().show_hand()[0].show_card(), player2.show_player_hand().show_hand()[1].show_card())\n",
    "print(player2.show_player_hand_db())\n",
    "print(player2.stack())\n",
    "player2.increase_stack(25)\n",
    "print(player2.stack())\n",
    "player2.decrease_stack(14)\n",
    "print(player2.stack())\n",
    "print(player2.position_nr())\n",
    "print(player2.position_name())\n",
    "player2.add_position(4)\n",
    "print(player2.position_nr())\n",
    "print(player2.position_name())"
   ]
  },
  {
   "cell_type": "markdown",
   "metadata": {},
   "source": [
    "# Preparation"
   ]
  },
  {
   "cell_type": "code",
   "execution_count": 9,
   "metadata": {},
   "outputs": [],
   "source": [
    "# Create Pot\n",
    "POT = ppot.Pot()\n",
    "\n",
    "# Create Deck\n",
    "DECK = pdeck.Deck()\n",
    "\n",
    "# Create Board\n",
    "BOARD = DECK.make_board()\n",
    "\n",
    "# Create Players\n",
    "player0 = pplayer.Player(0, 100)\n",
    "player0.add_position(0)\n",
    "\n",
    "player1 = pplayer.Player(1, 100)\n",
    "player1.add_position(1)\n",
    "\n",
    "player2 = pplayer.Player(2, 100)\n",
    "player2.add_position(2)\n",
    "\n",
    "player3 = pplayer.Player(3, 100)\n",
    "player3.add_position(3)\n",
    "\n",
    "player4 = pplayer.Player(4, 100)\n",
    "player4.add_position(4)\n",
    "\n",
    "player5 = pplayer.Player(5, 100)\n",
    "player5.add_position(5)\n",
    "\n",
    "# Create Hands\n",
    "HAND0 = DECK.make_hand()\n",
    "HAND1 = DECK.make_hand()\n",
    "HAND2 = DECK.make_hand()\n",
    "HAND3 = DECK.make_hand()\n",
    "HAND4 = DECK.make_hand()\n",
    "HAND5 = DECK.make_hand()\n",
    "\n",
    "# Add Hands\n",
    "player0.add_hand(HAND0)\n",
    "player1.add_hand(HAND1)\n",
    "player2.add_hand(HAND2)\n",
    "player3.add_hand(HAND3)\n",
    "player4.add_hand(HAND4)\n",
    "player5.add_hand(HAND5)"
   ]
  },
  {
   "cell_type": "code",
   "execution_count": null,
   "metadata": {},
   "outputs": [],
   "source": []
  }
 ],
 "metadata": {
  "kernelspec": {
   "display_name": "Python 3",
   "language": "python",
   "name": "python3"
  },
  "language_info": {
   "codemirror_mode": {
    "name": "ipython",
    "version": 3
   },
   "file_extension": ".py",
   "mimetype": "text/x-python",
   "name": "python",
   "nbconvert_exporter": "python",
   "pygments_lexer": "ipython3",
   "version": "3.7.3"
  },
  "toc": {
   "base_numbering": 1,
   "nav_menu": {},
   "number_sections": true,
   "sideBar": true,
   "skip_h1_title": false,
   "title_cell": "Table of Contents",
   "title_sidebar": "Contents",
   "toc_cell": false,
   "toc_position": {},
   "toc_section_display": true,
   "toc_window_display": false
  },
  "varInspector": {
   "cols": {
    "lenName": 16,
    "lenType": 16,
    "lenVar": 40
   },
   "kernels_config": {
    "python": {
     "delete_cmd_postfix": "",
     "delete_cmd_prefix": "del ",
     "library": "var_list.py",
     "varRefreshCmd": "print(var_dic_list())"
    },
    "r": {
     "delete_cmd_postfix": ") ",
     "delete_cmd_prefix": "rm(",
     "library": "var_list.r",
     "varRefreshCmd": "cat(var_dic_list()) "
    }
   },
   "types_to_exclude": [
    "module",
    "function",
    "builtin_function_or_method",
    "instance",
    "_Feature"
   ],
   "window_display": false
  }
 },
 "nbformat": 4,
 "nbformat_minor": 2
}
