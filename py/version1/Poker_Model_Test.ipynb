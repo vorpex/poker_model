{
 "cells": [
  {
   "cell_type": "code",
   "execution_count": null,
   "metadata": {
    "ExecuteTime": {
     "end_time": "2019-08-20T16:17:52.293350Z",
     "start_time": "2019-08-20T16:17:52.064741Z"
    }
   },
   "outputs": [],
   "source": [
    "'''poker model control script'''\n",
    "\n",
    "# pylint: disable=E1101, E1601, W0612\n",
    "\n",
    "import gc\n",
    "import mysql.connector\n",
    "\n",
    "import funcs_db\n",
    "import funcs_poker\n",
    "\n",
    "import pdeck"
   ]
  },
  {
   "cell_type": "code",
   "execution_count": null,
   "metadata": {
    "ExecuteTime": {
     "end_time": "2019-08-20T16:17:52.374566Z",
     "start_time": "2019-08-20T16:17:52.297361Z"
    }
   },
   "outputs": [],
   "source": [
    "gc.collect()"
   ]
  },
  {
   "cell_type": "markdown",
   "metadata": {},
   "source": [
    "# OPEN CONNECTION TO POKER DB"
   ]
  },
  {
   "cell_type": "code",
   "execution_count": null,
   "metadata": {
    "ExecuteTime": {
     "end_time": "2019-08-20T16:17:52.417680Z",
     "start_time": "2019-08-20T16:17:52.378577Z"
    }
   },
   "outputs": [],
   "source": [
    "poker_db = mysql.connector.connect(user='root', host='127.0.0.1', database='poker')"
   ]
  },
  {
   "cell_type": "markdown",
   "metadata": {},
   "source": [
    "# GAME PARAMETERS"
   ]
  },
  {
   "cell_type": "code",
   "execution_count": null,
   "metadata": {
    "ExecuteTime": {
     "end_time": "2019-08-20T16:17:52.465807Z",
     "start_time": "2019-08-20T16:17:52.421690Z"
    }
   },
   "outputs": [],
   "source": [
    "number_of_players = 6\n",
    "player0_stack = 2000\n",
    "player1_stack = 2000\n",
    "player2_stack = 2000\n",
    "player3_stack = 2000\n",
    "player4_stack = 2000\n",
    "player5_stack = 2000\n",
    "small_blind = 10\n",
    "big_blind = 2 * small_blind\n",
    "\n",
    "funcs_db.sql_delete_all(poker_db=poker_db, table='games')\n",
    "funcs_db.sql_delete_all(poker_db=poker_db, table='history')\n",
    "funcs_db.sql_delete_all(poker_db=poker_db, table='decision_points')\n",
    "funcs_db.sql_delete_all(poker_db=poker_db, table='possible_moves')\n",
    "funcs_db.sql_insert_games(poker_db=poker_db, number_of_players=number_of_players, player0_stack=player0_stack, \\\n",
    "                          player1_stack=player1_stack, player2_stack=player2_stack, player3_stack=player3_stack, \\\n",
    "                          player4_stack=player4_stack, player5_stack=player5_stack, small_blind=small_blind, \\\n",
    "                          big_blind=big_blind)"
   ]
  },
  {
   "cell_type": "markdown",
   "metadata": {},
   "source": [
    "# TABLE INITIALIZATION"
   ]
  },
  {
   "cell_type": "code",
   "execution_count": null,
   "metadata": {
    "ExecuteTime": {
     "end_time": "2019-08-20T16:17:52.476840Z",
     "start_time": "2019-08-20T16:17:52.470821Z"
    }
   },
   "outputs": [],
   "source": [
    "TABLE = funcs_poker.table_init(number_of_players=number_of_players, player0_stack=player0_stack, \\\n",
    "                               player1_stack=player1_stack, player2_stack=player2_stack, player3_stack=player3_stack, \\\n",
    "                               player4_stack=player4_stack, player5_stack=player5_stack)\n",
    "POT = TABLE[0]\n",
    "PLAYERS = TABLE[1]"
   ]
  },
  {
   "cell_type": "markdown",
   "metadata": {},
   "source": [
    "# GAME INITIALIZATION"
   ]
  },
  {
   "cell_type": "markdown",
   "metadata": {},
   "source": [
    "## shift the players position by 1"
   ]
  },
  {
   "cell_type": "code",
   "execution_count": null,
   "metadata": {
    "ExecuteTime": {
     "end_time": "2019-08-20T16:17:52.487867Z",
     "start_time": "2019-08-20T16:17:52.479847Z"
    }
   },
   "outputs": [],
   "source": [
    "for player in PLAYERS:\n",
    "\n",
    "    player.add_position((player.position_nr() + 1) % len(PLAYERS))"
   ]
  },
  {
   "cell_type": "markdown",
   "metadata": {},
   "source": [
    "## create deck and board"
   ]
  },
  {
   "cell_type": "code",
   "execution_count": null,
   "metadata": {
    "ExecuteTime": {
     "end_time": "2019-08-20T16:17:52.503911Z",
     "start_time": "2019-08-20T16:17:52.490874Z"
    }
   },
   "outputs": [],
   "source": [
    "DECK = pdeck.Deck()\n",
    "BOARD = DECK.make_board()"
   ]
  },
  {
   "cell_type": "markdown",
   "metadata": {},
   "source": [
    "## create hands and add them to players"
   ]
  },
  {
   "cell_type": "code",
   "execution_count": null,
   "metadata": {
    "ExecuteTime": {
     "end_time": "2019-08-20T16:17:52.514939Z",
     "start_time": "2019-08-20T16:17:52.507921Z"
    }
   },
   "outputs": [],
   "source": [
    "HANDS = [DECK.make_hand() for player in PLAYERS]\n",
    "for i in range(len(PLAYERS)):\n",
    "\n",
    "    PLAYERS[i].add_hand(HANDS[i])"
   ]
  },
  {
   "cell_type": "markdown",
   "metadata": {},
   "source": [
    "## define players order"
   ]
  },
  {
   "cell_type": "code",
   "execution_count": null,
   "metadata": {
    "ExecuteTime": {
     "end_time": "2019-08-20T16:17:52.529979Z",
     "start_time": "2019-08-20T16:17:52.521957Z"
    }
   },
   "outputs": [],
   "source": [
    "PLAYERS_ORDERED = {player.position_nr(): player for player in PLAYERS}\n",
    "PLAYERS_ORDERED = dict(sorted(PLAYERS_ORDERED.items()))"
   ]
  },
  {
   "cell_type": "markdown",
   "metadata": {},
   "source": [
    "## define players move flags"
   ]
  },
  {
   "cell_type": "code",
   "execution_count": null,
   "metadata": {
    "ExecuteTime": {
     "end_time": "2019-08-20T16:17:52.542013Z",
     "start_time": "2019-08-20T16:17:52.533989Z"
    }
   },
   "outputs": [],
   "source": [
    "PLAYERS_MOVE_ORDERED = {player.position_nr(): 1 for player in PLAYERS}\n",
    "PLAYERS_MOVE_ORDERED = dict(sorted(PLAYERS_MOVE_ORDERED.items()))"
   ]
  },
  {
   "cell_type": "markdown",
   "metadata": {},
   "source": [
    "# PREFLOP PHASE"
   ]
  },
  {
   "cell_type": "markdown",
   "metadata": {},
   "source": [
    "## small blind and big blind moves"
   ]
  },
  {
   "cell_type": "code",
   "execution_count": null,
   "metadata": {
    "ExecuteTime": {
     "end_time": "2019-08-20T16:17:52.571097Z",
     "start_time": "2019-08-20T16:17:52.545019Z"
    }
   },
   "outputs": [],
   "source": [
    "funcs_poker.move(poker_db=poker_db, player=PLAYERS_ORDERED[0], pot=POT, move='small_blind', amount=small_blind)\n",
    "funcs_poker.move(poker_db=poker_db, player=PLAYERS_ORDERED[1], pot=POT, move='big_blind', nr=1, amount=big_blind)"
   ]
  },
  {
   "cell_type": "markdown",
   "metadata": {},
   "source": [
    "## further moves"
   ]
  },
  {
   "cell_type": "code",
   "execution_count": null,
   "metadata": {
    "ExecuteTime": {
     "end_time": "2019-08-20T16:17:52.955109Z",
     "start_time": "2019-08-20T16:17:52.573093Z"
    }
   },
   "outputs": [],
   "source": [
    "phase = 0\n",
    "nr = 2\n",
    "for i in range(2, 6):\n",
    "    \n",
    "    move, amount = funcs_db.decision_point(poker_db=poker_db, player_name=PLAYERS_ORDERED[i].general_name(), \\\n",
    "                                           hand=PLAYERS_ORDERED[i].player_hand_simple(), stack=PLAYERS_ORDERED[i].stack(), \\\n",
    "                                           pot=POT.show_pot(), position=PLAYERS_ORDERED[i].position_nr(), phase=phase, \\\n",
    "                                           nr=nr)\n",
    "    funcs_poker.move(poker_db=poker_db, player=PLAYERS_ORDERED[i], pot=POT, move=move, phase=phase, nr=nr, amount=amount)\n",
    "    \n",
    "    # save move information for every players\n",
    "\n",
    "    nr = nr + 1"
   ]
  },
  {
   "cell_type": "code",
   "execution_count": null,
   "metadata": {
    "ExecuteTime": {
     "end_time": "2019-08-20T16:17:52.963131Z",
     "start_time": "2019-08-20T16:17:52.959121Z"
    }
   },
   "outputs": [],
   "source": [
    "# THIS SECTION BELOW SHOULD BE REVISED\n",
    "# while sum(PLAYERS_MOVE_ORDERED.values()) > 0:\n",
    "    \n",
    "#     for i in range(0, 6):\n",
    "\n",
    "#         last_move, action_flag = funcs_db.details_to_move(poker_db=poker_db, phase=phase, position=i)\n",
    "#         if last_move != 'fold' and action_flag > 0:\n",
    "#             move, amount = funcs_db.decision_point(poker_db=poker_db, player_name=PLAYERS_ORDERED[i].general_name(), \\\n",
    "#                 hand=PLAYERS_ORDERED[i].player_hand_simple(), stack=PLAYERS_ORDERED[i].stack(), pot=POT.show_pot(), \\\n",
    "#                 position=PLAYERS_ORDERED[i].position_nr(), phase=phase, nr=nr)\n",
    "#             funcs_poker.move(poker_db=poker_db, player=PLAYERS_ORDERED[i], pot=POT, move=move, phase=phase, nr=nr, \\\n",
    "#                 amount=amount)\n",
    "#             if move == 'fold':\n",
    "#                 PLAYERS_MOVE_ORDERED[PLAYERS_ORDERED[i].position_nr()] = 0\n",
    "#             else:\n",
    "#                 pass\n",
    "\n",
    "#             nr = nr + 1"
   ]
  },
  {
   "cell_type": "markdown",
   "metadata": {},
   "source": [
    "# FLOP PHASE"
   ]
  },
  {
   "cell_type": "markdown",
   "metadata": {
    "ExecuteTime": {
     "end_time": "2019-08-18T13:13:05.665137Z",
     "start_time": "2019-08-18T13:13:05.649066Z"
    }
   },
   "source": [
    "# TURN PHASE"
   ]
  },
  {
   "cell_type": "markdown",
   "metadata": {
    "ExecuteTime": {
     "end_time": "2019-08-18T13:13:13.084393Z",
     "start_time": "2019-08-18T13:13:13.077876Z"
    }
   },
   "source": [
    "# RIVER PHASE"
   ]
  },
  {
   "cell_type": "markdown",
   "metadata": {
    "ExecuteTime": {
     "end_time": "2019-08-18T13:13:29.814821Z",
     "start_time": "2019-08-18T13:13:29.808301Z"
    }
   },
   "source": [
    "# CLOSE CONNECTION"
   ]
  },
  {
   "cell_type": "code",
   "execution_count": null,
   "metadata": {
    "ExecuteTime": {
     "end_time": "2019-08-20T16:17:52.976166Z",
     "start_time": "2019-08-20T16:17:52.968144Z"
    }
   },
   "outputs": [],
   "source": [
    "poker_db.close()"
   ]
  },
  {
   "cell_type": "code",
   "execution_count": null,
   "metadata": {},
   "outputs": [],
   "source": []
  }
 ],
 "metadata": {
  "kernelspec": {
   "display_name": "Python 3",
   "language": "python",
   "name": "python3"
  },
  "language_info": {
   "codemirror_mode": {
    "name": "ipython",
    "version": 3
   },
   "file_extension": ".py",
   "mimetype": "text/x-python",
   "name": "python",
   "nbconvert_exporter": "python",
   "pygments_lexer": "ipython3",
   "version": "3.7.3"
  },
  "toc": {
   "base_numbering": 1,
   "nav_menu": {},
   "number_sections": true,
   "sideBar": true,
   "skip_h1_title": false,
   "title_cell": "Table of Contents",
   "title_sidebar": "Contents",
   "toc_cell": false,
   "toc_position": {},
   "toc_section_display": true,
   "toc_window_display": false
  },
  "varInspector": {
   "cols": {
    "lenName": 16,
    "lenType": 16,
    "lenVar": 40
   },
   "kernels_config": {
    "python": {
     "delete_cmd_postfix": "",
     "delete_cmd_prefix": "del ",
     "library": "var_list.py",
     "varRefreshCmd": "print(var_dic_list())"
    },
    "r": {
     "delete_cmd_postfix": ") ",
     "delete_cmd_prefix": "rm(",
     "library": "var_list.r",
     "varRefreshCmd": "cat(var_dic_list()) "
    }
   },
   "types_to_exclude": [
    "module",
    "function",
    "builtin_function_or_method",
    "instance",
    "_Feature"
   ],
   "window_display": false
  }
 },
 "nbformat": 4,
 "nbformat_minor": 2
}
