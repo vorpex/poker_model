{
 "cells": [
  {
   "cell_type": "code",
   "execution_count": 1,
   "metadata": {
    "ExecuteTime": {
     "end_time": "2019-09-16T13:07:24.590491Z",
     "start_time": "2019-09-16T13:07:24.262121Z"
    }
   },
   "outputs": [],
   "source": [
    "'''poker engine'''\n",
    "\n",
    "# pylint: disable=E1101, E1601, W0612\n",
    "\n",
    "import gc\n",
    "import mysql.connector\n",
    "from pypokerengine.api.emulator import Emulator\n",
    "\n",
    "import funcs_db"
   ]
  },
  {
   "cell_type": "code",
   "execution_count": 2,
   "metadata": {
    "ExecuteTime": {
     "end_time": "2019-09-16T13:07:25.783157Z",
     "start_time": "2019-09-16T13:07:25.744053Z"
    }
   },
   "outputs": [
    {
     "data": {
      "text/plain": [
       "22"
      ]
     },
     "execution_count": 2,
     "metadata": {},
     "output_type": "execute_result"
    }
   ],
   "source": [
    "gc.collect()"
   ]
  },
  {
   "cell_type": "markdown",
   "metadata": {},
   "source": [
    "# Open connection to poker DB"
   ]
  },
  {
   "cell_type": "code",
   "execution_count": 3,
   "metadata": {
    "ExecuteTime": {
     "end_time": "2019-09-16T13:07:28.900615Z",
     "start_time": "2019-09-16T13:07:28.857501Z"
    }
   },
   "outputs": [],
   "source": [
    "poker_db = mysql.connector.connect(user='root', host='127.0.0.1', database='poker_version3')\n",
    "sql_path = 'c:\\\\Users\\\\adam.sohonyai\\\\Documents\\\\GitHub\\\\poker_model\\\\sql\\\\version3\\\\'"
   ]
  },
  {
   "cell_type": "markdown",
   "metadata": {},
   "source": [
    "## Delete data from database tables "
   ]
  },
  {
   "cell_type": "code",
   "execution_count": 6,
   "metadata": {
    "ExecuteTime": {
     "end_time": "2019-09-16T13:09:49.445213Z",
     "start_time": "2019-09-16T13:09:49.403603Z"
    }
   },
   "outputs": [],
   "source": [
    "tables = funcs_db.sql_select_tables(poker_db=poker_db)\n",
    "for table in tables:\n",
    "    funcs_db.sql_delete_all(poker_db=poker_db, table=table)"
   ]
  },
  {
   "cell_type": "markdown",
   "metadata": {},
   "source": [
    "# Initialization"
   ]
  },
  {
   "cell_type": "code",
   "execution_count": 8,
   "metadata": {
    "ExecuteTime": {
     "end_time": "2019-09-16T13:10:18.113939Z",
     "start_time": "2019-09-16T13:10:18.110431Z"
    }
   },
   "outputs": [],
   "source": [
    "emulator = Emulator()"
   ]
  },
  {
   "cell_type": "markdown",
   "metadata": {},
   "source": [
    "## Create game and table"
   ]
  },
  {
   "cell_type": "code",
   "execution_count": null,
   "metadata": {
    "ExecuteTime": {
     "end_time": "2019-08-28T19:35:48.627556Z",
     "start_time": "2019-08-28T19:35:48.611514Z"
    }
   },
   "outputs": [],
   "source": [
    "player_num = 6\n",
    "max_round = 1\n",
    "small_blind_amount = 10\n",
    "ante_amount = 0\n",
    "\n",
    "stack = 2000\n",
    "players_info = {\n",
    "    'uuid-0': {'name': 'player0', 'stack': stack},\n",
    "    'uuid-1': {'name': 'player1', 'stack': stack},\n",
    "    'uuid-2': {'name': 'player2', 'stack': stack},\n",
    "    'uuid-3': {'name': 'player3', 'stack': stack},\n",
    "    'uuid-4': {'name': 'player4', 'stack': stack},\n",
    "    'uuid-5': {'name': 'player5', 'stack': stack}\n",
    "}\n",
    "\n",
    "summary = list()\n",
    "\n",
    "index = funcs_db.sql_games_max_id(poker_db=poker_db)"
   ]
  },
  {
   "cell_type": "code",
   "execution_count": null,
   "metadata": {
    "ExecuteTime": {
     "end_time": "2019-08-28T19:35:48.706765Z",
     "start_time": "2019-08-28T19:35:48.630563Z"
    }
   },
   "outputs": [],
   "source": [
    "emulator.set_game_rule(player_num=player_num, max_round=max_round, small_blind_amount=small_blind_amount, \\\n",
    "                       ante_amount=ante_amount)\n",
    "initial_state = emulator.generate_initial_game_state(players_info)\n",
    "for i, player in enumerate(initial_state['table'].seats.players):\n",
    "\n",
    "    funcs_db.sql_insert_games(poker_db=poker_db, index=index + 1, player_num=player_num, small_blind_amount=small_blind_amount, \\\n",
    "                              ante_amount=ante_amount, uuid=player.uuid, name=player.name, stack=player.stack, position=i, \\\n",
    "                              card1='', card2='', hand_db_format='', flop1='', flop2='', flop3='', turn='', river='', \\\n",
    "                              final_stack=0)"
   ]
  },
  {
   "cell_type": "code",
   "execution_count": null,
   "metadata": {
    "ExecuteTime": {
     "end_time": "2019-08-28T19:35:48.754892Z",
     "start_time": "2019-08-28T19:35:48.711780Z"
    }
   },
   "outputs": [],
   "source": [
    "game_state, events = emulator.start_new_round(initial_state)\n",
    "for i, player in enumerate(game_state['table'].seats.players):\n",
    "    \n",
    "    card_list = [player.hole_card[0].RANK_MAP[player.hole_card[0].rank] + \\\n",
    "                 player.hole_card[0].SUIT_MAP[player.hole_card[0].suit], \\\n",
    "                 player.hole_card[1].RANK_MAP[player.hole_card[1].rank] + \\\n",
    "                 player.hole_card[1].SUIT_MAP[player.hole_card[1].suit]\n",
    "    ]\n",
    "    card_list.sort()\n",
    "    card1 = card_list[0]\n",
    "    card2 = card_list[1]\n",
    "    if card1[-1] == card2[-1]:\n",
    "        hand_db_format = card1[:-1] + card2[:-1] + 's'\n",
    "    else:\n",
    "        hand_db_format = card1[:-1] + card2[:-1] + 'o'\n",
    "\n",
    "    funcs_db.sql_update_games_cards(poker_db=poker_db, index=index + 1, uuid=player.uuid, \\\n",
    "                                    card1=card1, card2=card2, hand_db_format=hand_db_format)"
   ]
  },
  {
   "cell_type": "markdown",
   "metadata": {},
   "source": [
    "## Small blind and big blind moves"
   ]
  },
  {
   "cell_type": "code",
   "execution_count": null,
   "metadata": {
    "ExecuteTime": {
     "end_time": "2019-08-28T19:35:48.790988Z",
     "start_time": "2019-08-28T19:35:48.759907Z"
    }
   },
   "outputs": [],
   "source": [
    "nr = 0\n",
    "step = 0\n",
    "pot = 0\n",
    "for i, player in enumerate(game_state['table'].seats.players):\n",
    "    \n",
    "    try:\n",
    "        if player.serialize()[4][0]['action'] in ['SMALLBLIND', 'BIGBLIND']:\n",
    "            if player.serialize()[4][0]['action'] == 'SMALLBLIND':\n",
    "                amount = small_blind_amount\n",
    "            else:\n",
    "                amount = 2 * small_blind_amount\n",
    "            funcs_db.sql_insert_history(poker_db=poker_db, phase='preflop', nr=nr, step=step, uuid=player.serialize()[1], \\\n",
    "                                        position=i, stack=2000, pot=pot, flop1='', flop2='', flop3='', turn='', river='', \\\n",
    "                                        action=player.serialize()[4][0]['action'], amount=amount, \\\n",
    "                                        new_stack=2000 - amount, new_pot=pot + amount)\n",
    "\n",
    "            nr = nr + 1\n",
    "            step = step + 1\n",
    "            pot = pot + amount\n",
    "    except:\n",
    "        pass"
   ]
  },
  {
   "cell_type": "markdown",
   "metadata": {},
   "source": [
    "# Game phase"
   ]
  },
  {
   "cell_type": "code",
   "execution_count": null,
   "metadata": {
    "ExecuteTime": {
     "end_time": "2019-08-28T19:35:51.517204Z",
     "start_time": "2019-08-28T19:35:48.794999Z"
    }
   },
   "outputs": [],
   "source": [
    "# poker_version2.possible_moves.bet_amount: implies the \"until size\" of some action, e.g. \"raise til 100 \n",
    "#     (already debt amount + raise amount) - emeles 100-ig (fizetendo + tovabbi novekmeny)\"\n",
    "# poker_version2.history.amount: net change in pot caused by some action\n",
    "\n",
    "while events[-1]['type'] != 'event_game_finish':\n",
    "    \n",
    "    # data source\n",
    "    data = events[-1]\n",
    "    \n",
    "    # calculate parameters from current game state\n",
    "    phase = data['round_state']['street']\n",
    "    position = data['round_state']['next_player']\n",
    "    uuid = data['uuid']\n",
    "    for item in data['round_state']['seats']:\n",
    "\n",
    "        if item['uuid'] == data['uuid']:\n",
    "            stack = item['stack']\n",
    "\n",
    "    side = 0\n",
    "    if data['round_state']['pot']['side'] != []:\n",
    "        for amount in data['round_state']['pot']['side']:\n",
    "        \n",
    "            side = side + amount['amount']\n",
    "\n",
    "    pot = data['round_state']['pot']['main']['amount'] + side\n",
    "    valid_actions = funcs_db.valid_actions_check(actions=data['valid_actions'], phase=phase, position=position, \\\n",
    "                                                 stack=stack, small_blind_amount=small_blind_amount)\n",
    "    community_cards = funcs_db.community_cards_eval(board=data['round_state']['community_card'])\n",
    "\n",
    "    # calculate action and bet_amount and apply them on game state\n",
    "    action, bet_amount, decision = funcs_db.decision_point_based_action(poker_db=poker_db, phase=phase, nr=nr, step=step, \\\n",
    "                                                                        position=position, stack=stack, pot=pot, \\\n",
    "                                                                        flop1=community_cards[0], flop2=community_cards[1], \\\n",
    "                                                                        flop3=community_cards[2], turn=community_cards[3], \\\n",
    "                                                                        river=community_cards[4], \\\n",
    "                                                                        valid_actions=valid_actions)\n",
    "    game_state, events = emulator.apply_action(game_state=game_state, action=action, bet_amount=bet_amount)\n",
    "    summary.append(decision)\n",
    "    \n",
    "    # calculate new parameters from current game state\n",
    "    if events[-1]['type'] == 'event_game_finish':\n",
    "        data = events[0]\n",
    "    else:\n",
    "        data = events[-1]\n",
    "    \n",
    "    new_phase = data['round_state']['street']    \n",
    "    new_side = 0\n",
    "    if data['round_state']['pot']['side'] != []:\n",
    "        for amount in data['round_state']['pot']['side']:\n",
    "        \n",
    "            new_side = new_side + amount['amount']\n",
    "\n",
    "    new_pot = data['round_state']['pot']['main']['amount'] + new_side\n",
    "    for item in data['round_state']['seats']:\n",
    "\n",
    "        if item['uuid'] == uuid and data['round_state']['street'] != 'showdown':\n",
    "            new_stack = item['stack']\n",
    "        elif item['uuid'] == uuid and data['round_state']['street'] == 'showdown':\n",
    "            new_stack = stack - new_pot + pot\n",
    "        else:\n",
    "            pass\n",
    "    \n",
    "    amount = stack - new_stack\n",
    "    \n",
    "    # insert action in history table with calculated old and new parameters\n",
    "    funcs_db.sql_insert_history(poker_db=poker_db, phase=phase, nr=nr, step=step, uuid=uuid, position=position, \\\n",
    "                                stack=stack, pot=pot, flop1=community_cards[0], flop2=community_cards[1], \\\n",
    "                                flop3=community_cards[2], turn=community_cards[3], river=community_cards[4], \\\n",
    "                                action=action.upper(), amount=amount, new_stack=new_stack, new_pot=new_pot)\n",
    "\n",
    "    # increase nr parameter - nr has to be set to 0 when phase changes\n",
    "    if phase == new_phase:\n",
    "        nr = nr + 1\n",
    "    else:\n",
    "        nr = 0\n",
    "    \n",
    "    step = step + 1"
   ]
  },
  {
   "cell_type": "code",
   "execution_count": null,
   "metadata": {
    "ExecuteTime": {
     "end_time": "2019-08-28T19:35:51.766869Z",
     "start_time": "2019-08-28T19:35:51.518206Z"
    }
   },
   "outputs": [],
   "source": [
    "funcs_db.summarize(poker_db=poker_db, final_stacks=events[-1]['players'], summary=summary)"
   ]
  },
  {
   "cell_type": "code",
   "execution_count": null,
   "metadata": {
    "ExecuteTime": {
     "end_time": "2019-08-28T19:35:51.771877Z",
     "start_time": "2019-08-28T19:35:51.768869Z"
    }
   },
   "outputs": [],
   "source": [
    "# when player's stack is zero then rebuy, mulitply small blind with random integer in range min-max starting stack\n",
    "# prepare script to run it for n loop - finsih stack is starting stack in new round\n",
    "# compress stack, pot, raise/call\n",
    "    # stack: 0-25, 25-50, 50-75, 75-100, 100-125, 125-150, 150-175, 175-200, 200+ ranges x small_blind\n",
    "    # pot: 0-5, 5-10, 10-15, 15-20, 20-25, 25-30, 30-35, 35-40, 40-45, 45-50, 50-60, 60-70, 70-80, 80-90, 90-100, 100-120,\n",
    "    #      120-140, 140-160, 160-180, 180-200, 200+ ranges x small blind\n",
    "    # call: 1\n",
    "    # raise: 0-0.2, 0.2-0.4, 0.4-0.6, 0.6-0.8, 0.8-1, 1-1.2, 1.2-1.4, 1.4-1.6, 1.6-1.8, 1.8-2, 2-2.5, 2.5-3, 3+\n",
    "# check poker framework/module for possibiliy to compress hand/board cards"
   ]
  },
  {
   "cell_type": "code",
   "execution_count": 1,
   "metadata": {
    "ExecuteTime": {
     "end_time": "2019-09-16T15:20:01.149558Z",
     "start_time": "2019-09-16T15:20:01.056333Z"
    }
   },
   "outputs": [],
   "source": [
    "import sys\n",
    "sys.path.append('c:\\\\ProgramData\\\\Anaconda3\\\\Lib\\\\site-packages\\\\deuces\\\\')\n",
    "import deuces"
   ]
  },
  {
   "cell_type": "code",
   "execution_count": 2,
   "metadata": {
    "ExecuteTime": {
     "end_time": "2019-09-16T15:20:01.977172Z",
     "start_time": "2019-09-16T15:20:01.942617Z"
    }
   },
   "outputs": [],
   "source": [
    "evaluator = deuces.Evaluator()"
   ]
  },
  {
   "cell_type": "code",
   "execution_count": 3,
   "metadata": {
    "ExecuteTime": {
     "end_time": "2019-09-16T15:20:13.166535Z",
     "start_time": "2019-09-16T15:20:13.145481Z"
    }
   },
   "outputs": [
    {
     "data": {
      "text/plain": [
       "3335"
      ]
     },
     "execution_count": 3,
     "metadata": {},
     "output_type": "execute_result"
    }
   ],
   "source": [
    "# pair: Ah-As\n",
    "board = [\n",
    "    deuces.Card.new('Ah'),\n",
    "    deuces.Card.new('Kh'),\n",
    "    deuces.Card.new('2d')\n",
    "]\n",
    "hand = [\n",
    "    deuces.Card.new('As'),\n",
    "    deuces.Card.new('Qh'),\n",
    "]\n",
    "evaluator.evaluate(board, hand)"
   ]
  },
  {
   "cell_type": "code",
   "execution_count": 6,
   "metadata": {
    "ExecuteTime": {
     "end_time": "2019-09-16T15:20:56.094285Z",
     "start_time": "2019-09-16T15:20:56.085762Z"
    }
   },
   "outputs": [
    {
     "data": {
      "text/plain": [
       "3335"
      ]
     },
     "execution_count": 6,
     "metadata": {},
     "output_type": "execute_result"
    }
   ],
   "source": [
    "# pair: Ad-As\n",
    "board = [\n",
    "    deuces.Card.new('Ad'),\n",
    "    deuces.Card.new('Ks'),\n",
    "    deuces.Card.new('2d')\n",
    "]\n",
    "hand = [\n",
    "    deuces.Card.new('As'),\n",
    "    deuces.Card.new('Qh'),\n",
    "]\n",
    "evaluator.evaluate(board, hand)"
   ]
  },
  {
   "cell_type": "code",
   "execution_count": 4,
   "metadata": {
    "ExecuteTime": {
     "end_time": "2019-09-16T15:20:15.162507Z",
     "start_time": "2019-09-16T15:20:15.153481Z"
    }
   },
   "outputs": [
    {
     "data": {
      "text/plain": [
       "3329"
      ]
     },
     "execution_count": 4,
     "metadata": {},
     "output_type": "execute_result"
    }
   ],
   "source": [
    "# pair: Ah-As\n",
    "board = [\n",
    "    deuces.Card.new('Ah'),\n",
    "    deuces.Card.new('Kh'),\n",
    "    deuces.Card.new('2d'),\n",
    "    deuces.Card.new('8c'),\n",
    "]\n",
    "hand = [\n",
    "    deuces.Card.new('As'),\n",
    "    deuces.Card.new('Qh'),\n",
    "]\n",
    "evaluator.evaluate(board, hand)"
   ]
  },
  {
   "cell_type": "code",
   "execution_count": 5,
   "metadata": {
    "ExecuteTime": {
     "end_time": "2019-09-16T15:20:25.256495Z",
     "start_time": "2019-09-16T15:20:25.249977Z"
    }
   },
   "outputs": [
    {
     "data": {
      "text/plain": [
       "3335"
      ]
     },
     "execution_count": 5,
     "metadata": {},
     "output_type": "execute_result"
    }
   ],
   "source": [
    "# pair: Ah-As with flush draw\n",
    "board = [\n",
    "    deuces.Card.new('Ah'),\n",
    "    deuces.Card.new('Kh'),\n",
    "    deuces.Card.new('2h'),\n",
    "]\n",
    "hand = [\n",
    "    deuces.Card.new('As'),\n",
    "    deuces.Card.new('Qh'),\n",
    "]\n",
    "evaluator.evaluate(board, hand)"
   ]
  },
  {
   "cell_type": "code",
   "execution_count": 9,
   "metadata": {
    "ExecuteTime": {
     "end_time": "2019-09-16T15:48:36.999217Z",
     "start_time": "2019-09-16T15:48:36.958108Z"
    }
   },
   "outputs": [],
   "source": [
    "sys.path.append('c:\\\\Users\\\\adam.sohonyai\\\\Documents\\\\GitHub\\\\poker_model\\\\py\\\\holdem_calc\\\\')\n",
    "import holdem_calc\n",
    "import parallel_holdem_calc"
   ]
  },
  {
   "cell_type": "code",
   "execution_count": 24,
   "metadata": {
    "ExecuteTime": {
     "end_time": "2019-09-16T16:09:06.658778Z",
     "start_time": "2019-09-16T16:09:06.640730Z"
    }
   },
   "outputs": [
    {
     "name": "stdout",
     "output_type": "stream",
     "text": [
      "Winning Percentages:\n",
      "(As, Qh) :  1.0\n",
      "Ties:  0.0 \n",
      "\n",
      "Player1 Histogram: \n",
      "High Card :  0.0\n",
      "Pair :  0.2913968547641073\n",
      "Two Pair :  0.27474560592044406\n",
      "Three of a Kind :  0.04995374653098982\n",
      "Straight :  0.008325624421831638\n",
      "Flush :  0.34875115633672527\n",
      "Full House :  0.02497687326549491\n",
      "Four of a Kind :  0.0009250693802035153\n",
      "Straight Flush :  0.0\n",
      "Royal Flush :  0.0009250693802035153\n",
      "\n"
     ]
    },
    {
     "data": {
      "text/plain": [
       "[0.0, 1.0]"
      ]
     },
     "execution_count": 24,
     "metadata": {},
     "output_type": "execute_result"
    }
   ],
   "source": [
    "holdem_calc.calculate(['Ah', 'Kh', '2h'], False, 1, None, ['As', 'Qh'], True)"
   ]
  },
  {
   "cell_type": "code",
   "execution_count": 22,
   "metadata": {
    "ExecuteTime": {
     "end_time": "2019-09-16T16:08:36.756285Z",
     "start_time": "2019-09-16T16:08:36.745253Z"
    },
    "scrolled": false
   },
   "outputs": [
    {
     "name": "stdout",
     "output_type": "stream",
     "text": [
      "Winning Percentages:\n",
      "(As, Qh) :  1.0\n",
      "Ties:  0.0 \n",
      "\n",
      "Player1 Histogram: \n",
      "High Card :  0.0\n",
      "Pair :  0.0\n",
      "Two Pair :  0.0\n",
      "Three of a Kind :  0.5869565217391305\n",
      "Straight :  0.0\n",
      "Flush :  0.1956521739130435\n",
      "Full House :  0.1956521739130435\n",
      "Four of a Kind :  0.021739130434782608\n",
      "Straight Flush :  0.0\n",
      "Royal Flush :  0.0\n",
      "\n"
     ]
    },
    {
     "data": {
      "text/plain": [
       "[0.0, 1.0]"
      ]
     },
     "execution_count": 22,
     "metadata": {},
     "output_type": "execute_result"
    }
   ],
   "source": [
    "holdem_calc.calculate(['Ah', 'Kh', '2h', 'Ad'], False, 1, None, ['As', 'Qh'], True)"
   ]
  },
  {
   "cell_type": "code",
   "execution_count": 28,
   "metadata": {
    "ExecuteTime": {
     "end_time": "2019-09-16T16:13:04.586323Z",
     "start_time": "2019-09-16T16:13:04.560289Z"
    }
   },
   "outputs": [
    {
     "name": "stdout",
     "output_type": "stream",
     "text": [
      "Invalid card given.\n"
     ]
    },
    {
     "ename": "NameError",
     "evalue": "name 'exit' is not defined",
     "output_type": "error",
     "traceback": [
      "\u001b[1;31m---------------------------------------------------------------------------\u001b[0m",
      "\u001b[1;31mNameError\u001b[0m                                 Traceback (most recent call last)",
      "\u001b[1;32m<ipython-input-28-b476f9078481>\u001b[0m in \u001b[0;36m<module>\u001b[1;34m\u001b[0m\n\u001b[1;32m----> 1\u001b[1;33m \u001b[0mholdem_calc\u001b[0m\u001b[1;33m.\u001b[0m\u001b[0mcalculate\u001b[0m\u001b[1;33m(\u001b[0m\u001b[1;33m[\u001b[0m\u001b[1;34m'Ah'\u001b[0m\u001b[1;33m,\u001b[0m \u001b[1;34m'Kh'\u001b[0m\u001b[1;33m,\u001b[0m \u001b[1;34m'2h'\u001b[0m\u001b[1;33m,\u001b[0m \u001b[1;34m'Ad'\u001b[0m\u001b[1;33m]\u001b[0m\u001b[1;33m,\u001b[0m \u001b[1;32mFalse\u001b[0m\u001b[1;33m,\u001b[0m \u001b[1;36m1\u001b[0m\u001b[1;33m,\u001b[0m \u001b[1;32mNone\u001b[0m\u001b[1;33m,\u001b[0m \u001b[1;33m[\u001b[0m\u001b[1;34m''\u001b[0m\u001b[1;33m,\u001b[0m \u001b[1;34m''\u001b[0m\u001b[1;33m]\u001b[0m\u001b[1;33m,\u001b[0m \u001b[1;32mTrue\u001b[0m\u001b[1;33m)\u001b[0m\u001b[1;33m\u001b[0m\u001b[1;33m\u001b[0m\u001b[0m\n\u001b[0m",
      "\u001b[1;32mc:\\Users\\adam.sohonyai\\Documents\\GitHub\\poker_model\\py\\holdem_calc\\holdem_calc.py\u001b[0m in \u001b[0;36mcalculate\u001b[1;34m(board, exact, num, input_file, hole_cards, verbose)\u001b[0m\n\u001b[0;32m     10\u001b[0m \u001b[1;32mdef\u001b[0m \u001b[0mcalculate\u001b[0m\u001b[1;33m(\u001b[0m\u001b[0mboard\u001b[0m\u001b[1;33m,\u001b[0m \u001b[0mexact\u001b[0m\u001b[1;33m,\u001b[0m \u001b[0mnum\u001b[0m\u001b[1;33m,\u001b[0m \u001b[0minput_file\u001b[0m\u001b[1;33m,\u001b[0m \u001b[0mhole_cards\u001b[0m\u001b[1;33m,\u001b[0m \u001b[0mverbose\u001b[0m\u001b[1;33m)\u001b[0m\u001b[1;33m:\u001b[0m\u001b[1;33m\u001b[0m\u001b[1;33m\u001b[0m\u001b[0m\n\u001b[0;32m     11\u001b[0m     \u001b[0margs\u001b[0m \u001b[1;33m=\u001b[0m \u001b[0mholdem_argparser\u001b[0m\u001b[1;33m.\u001b[0m\u001b[0mLibArgs\u001b[0m\u001b[1;33m(\u001b[0m\u001b[0mboard\u001b[0m\u001b[1;33m,\u001b[0m \u001b[0mexact\u001b[0m\u001b[1;33m,\u001b[0m \u001b[0mnum\u001b[0m\u001b[1;33m,\u001b[0m \u001b[0minput_file\u001b[0m\u001b[1;33m,\u001b[0m \u001b[0mhole_cards\u001b[0m\u001b[1;33m)\u001b[0m\u001b[1;33m\u001b[0m\u001b[1;33m\u001b[0m\u001b[0m\n\u001b[1;32m---> 12\u001b[1;33m     \u001b[0mhole_cards\u001b[0m\u001b[1;33m,\u001b[0m \u001b[0mn\u001b[0m\u001b[1;33m,\u001b[0m \u001b[0me\u001b[0m\u001b[1;33m,\u001b[0m \u001b[0mboard\u001b[0m\u001b[1;33m,\u001b[0m \u001b[0mfilename\u001b[0m \u001b[1;33m=\u001b[0m \u001b[0mholdem_argparser\u001b[0m\u001b[1;33m.\u001b[0m\u001b[0mparse_lib_args\u001b[0m\u001b[1;33m(\u001b[0m\u001b[0margs\u001b[0m\u001b[1;33m)\u001b[0m\u001b[1;33m\u001b[0m\u001b[1;33m\u001b[0m\u001b[0m\n\u001b[0m\u001b[0;32m     13\u001b[0m     \u001b[1;32mreturn\u001b[0m \u001b[0mrun\u001b[0m\u001b[1;33m(\u001b[0m\u001b[0mhole_cards\u001b[0m\u001b[1;33m,\u001b[0m \u001b[0mn\u001b[0m\u001b[1;33m,\u001b[0m \u001b[0me\u001b[0m\u001b[1;33m,\u001b[0m \u001b[0mboard\u001b[0m\u001b[1;33m,\u001b[0m \u001b[0mfilename\u001b[0m\u001b[1;33m,\u001b[0m \u001b[0mverbose\u001b[0m\u001b[1;33m)\u001b[0m\u001b[1;33m\u001b[0m\u001b[1;33m\u001b[0m\u001b[0m\n\u001b[0;32m     14\u001b[0m \u001b[1;33m\u001b[0m\u001b[0m\n",
      "\u001b[1;32mc:\\Users\\adam.sohonyai\\Documents\\GitHub\\poker_model\\py\\holdem_calc\\holdem_argparser.py\u001b[0m in \u001b[0;36mparse_lib_args\u001b[1;34m(args)\u001b[0m\n\u001b[0;32m     16\u001b[0m \u001b[1;31m# Parses arguments passed to holdem_calc as a library call\u001b[0m\u001b[1;33m\u001b[0m\u001b[1;33m\u001b[0m\u001b[1;33m\u001b[0m\u001b[0m\n\u001b[0;32m     17\u001b[0m \u001b[1;32mdef\u001b[0m \u001b[0mparse_lib_args\u001b[0m\u001b[1;33m(\u001b[0m\u001b[0margs\u001b[0m\u001b[1;33m)\u001b[0m\u001b[1;33m:\u001b[0m\u001b[1;33m\u001b[0m\u001b[1;33m\u001b[0m\u001b[0m\n\u001b[1;32m---> 18\u001b[1;33m     \u001b[0merror_check_arguments\u001b[0m\u001b[1;33m(\u001b[0m\u001b[0margs\u001b[0m\u001b[1;33m)\u001b[0m\u001b[1;33m\u001b[0m\u001b[1;33m\u001b[0m\u001b[0m\n\u001b[0m\u001b[0;32m     19\u001b[0m     \u001b[1;31m# Parse hole cards and board\u001b[0m\u001b[1;33m\u001b[0m\u001b[1;33m\u001b[0m\u001b[1;33m\u001b[0m\u001b[0m\n\u001b[0;32m     20\u001b[0m     \u001b[0mhole_cards\u001b[0m\u001b[1;33m,\u001b[0m \u001b[0mboard\u001b[0m \u001b[1;33m=\u001b[0m \u001b[1;32mNone\u001b[0m\u001b[1;33m,\u001b[0m \u001b[1;32mNone\u001b[0m\u001b[1;33m\u001b[0m\u001b[1;33m\u001b[0m\u001b[0m\n",
      "\u001b[1;32mc:\\Users\\adam.sohonyai\\Documents\\GitHub\\poker_model\\py\\holdem_calc\\holdem_argparser.py\u001b[0m in \u001b[0;36merror_check_arguments\u001b[1;34m(args)\u001b[0m\n\u001b[0;32m     97\u001b[0m     \u001b[1;32mif\u001b[0m \u001b[0margs\u001b[0m\u001b[1;33m.\u001b[0m\u001b[0mboard\u001b[0m\u001b[1;33m:\u001b[0m\u001b[1;33m\u001b[0m\u001b[1;33m\u001b[0m\u001b[0m\n\u001b[0;32m     98\u001b[0m         \u001b[0mall_cards\u001b[0m\u001b[1;33m.\u001b[0m\u001b[0mextend\u001b[0m\u001b[1;33m(\u001b[0m\u001b[0margs\u001b[0m\u001b[1;33m.\u001b[0m\u001b[0mboard\u001b[0m\u001b[1;33m)\u001b[0m\u001b[1;33m\u001b[0m\u001b[1;33m\u001b[0m\u001b[0m\n\u001b[1;32m---> 99\u001b[1;33m     \u001b[0merror_check_cards\u001b[0m\u001b[1;33m(\u001b[0m\u001b[0mall_cards\u001b[0m\u001b[1;33m)\u001b[0m\u001b[1;33m\u001b[0m\u001b[1;33m\u001b[0m\u001b[0m\n\u001b[0m\u001b[0;32m    100\u001b[0m \u001b[1;33m\u001b[0m\u001b[0m\n\u001b[0;32m    101\u001b[0m \u001b[1;31m# # Error check the command line arguments\u001b[0m\u001b[1;33m\u001b[0m\u001b[1;33m\u001b[0m\u001b[1;33m\u001b[0m\u001b[0m\n",
      "\u001b[1;32mc:\\Users\\adam.sohonyai\\Documents\\GitHub\\poker_model\\py\\holdem_calc\\holdem_argparser.py\u001b[0m in \u001b[0;36merror_check_cards\u001b[1;34m(all_cards)\u001b[0m\n\u001b[0;32m    126\u001b[0m         \u001b[1;32mif\u001b[0m \u001b[0mcard\u001b[0m \u001b[1;33m!=\u001b[0m \u001b[1;34m\"?\"\u001b[0m \u001b[1;32mand\u001b[0m \u001b[1;32mnot\u001b[0m \u001b[0mcard_re\u001b[0m\u001b[1;33m.\u001b[0m\u001b[0mmatch\u001b[0m\u001b[1;33m(\u001b[0m\u001b[0mcard\u001b[0m\u001b[1;33m)\u001b[0m\u001b[1;33m:\u001b[0m\u001b[1;33m\u001b[0m\u001b[1;33m\u001b[0m\u001b[0m\n\u001b[0;32m    127\u001b[0m             \u001b[0mprint\u001b[0m\u001b[1;33m(\u001b[0m\u001b[1;34m\"Invalid card given.\"\u001b[0m\u001b[1;33m)\u001b[0m\u001b[1;33m\u001b[0m\u001b[1;33m\u001b[0m\u001b[0m\n\u001b[1;32m--> 128\u001b[1;33m             \u001b[0mexit\u001b[0m\u001b[1;33m(\u001b[0m\u001b[1;33m)\u001b[0m\u001b[1;33m\u001b[0m\u001b[1;33m\u001b[0m\u001b[0m\n\u001b[0m\u001b[0;32m    129\u001b[0m         \u001b[1;32melse\u001b[0m\u001b[1;33m:\u001b[0m\u001b[1;33m\u001b[0m\u001b[1;33m\u001b[0m\u001b[0m\n\u001b[0;32m    130\u001b[0m             \u001b[1;32mif\u001b[0m \u001b[0mall_cards\u001b[0m\u001b[1;33m.\u001b[0m\u001b[0mcount\u001b[0m\u001b[1;33m(\u001b[0m\u001b[0mcard\u001b[0m\u001b[1;33m)\u001b[0m \u001b[1;33m!=\u001b[0m \u001b[1;36m1\u001b[0m \u001b[1;32mand\u001b[0m \u001b[0mcard\u001b[0m \u001b[1;33m!=\u001b[0m \u001b[1;34m\"?\"\u001b[0m\u001b[1;33m:\u001b[0m\u001b[1;33m\u001b[0m\u001b[1;33m\u001b[0m\u001b[0m\n",
      "\u001b[1;31mNameError\u001b[0m: name 'exit' is not defined"
     ]
    }
   ],
   "source": [
    "holdem_calc.calculate(['Ah', 'Kh', '2h', 'Ad'], False, 1, None, ['', ''], True)"
   ]
  },
  {
   "cell_type": "code",
   "execution_count": null,
   "metadata": {},
   "outputs": [],
   "source": []
  }
 ],
 "metadata": {
  "kernelspec": {
   "display_name": "Python 3",
   "language": "python",
   "name": "python3"
  },
  "language_info": {
   "codemirror_mode": {
    "name": "ipython",
    "version": 3
   },
   "file_extension": ".py",
   "mimetype": "text/x-python",
   "name": "python",
   "nbconvert_exporter": "python",
   "pygments_lexer": "ipython3",
   "version": "3.7.3"
  },
  "toc": {
   "base_numbering": 1,
   "nav_menu": {},
   "number_sections": true,
   "sideBar": true,
   "skip_h1_title": false,
   "title_cell": "Table of Contents",
   "title_sidebar": "Contents",
   "toc_cell": false,
   "toc_position": {},
   "toc_section_display": true,
   "toc_window_display": false
  },
  "varInspector": {
   "cols": {
    "lenName": 16,
    "lenType": 16,
    "lenVar": 40
   },
   "kernels_config": {
    "python": {
     "delete_cmd_postfix": "",
     "delete_cmd_prefix": "del ",
     "library": "var_list.py",
     "varRefreshCmd": "print(var_dic_list())"
    },
    "r": {
     "delete_cmd_postfix": ") ",
     "delete_cmd_prefix": "rm(",
     "library": "var_list.r",
     "varRefreshCmd": "cat(var_dic_list()) "
    }
   },
   "types_to_exclude": [
    "module",
    "function",
    "builtin_function_or_method",
    "instance",
    "_Feature"
   ],
   "window_display": false
  }
 },
 "nbformat": 4,
 "nbformat_minor": 2
}
