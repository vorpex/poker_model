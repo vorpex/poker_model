{
 "cells": [
  {
   "cell_type": "markdown",
   "metadata": {},
   "source": [
    "# Load necessary moduls and settings"
   ]
  },
  {
   "cell_type": "code",
   "execution_count": null,
   "metadata": {
    "ExecuteTime": {
     "end_time": "2019-08-28T16:03:04.653714Z",
     "start_time": "2019-08-28T16:03:04.473393Z"
    }
   },
   "outputs": [],
   "source": [
    "'''poker engine'''\n",
    "\n",
    "# pylint: disable=E1101, E1601, W0612\n",
    "\n",
    "import gc\n",
    "import json\n",
    "import mysql.connector\n",
    "from pypokerengine.api.emulator import Emulator\n",
    "\n",
    "import funcs_db\n",
    "\n",
    "gc.collect()"
   ]
  },
  {
   "cell_type": "code",
   "execution_count": null,
   "metadata": {},
   "outputs": [],
   "source": [
    "json_data = open(file='./settings.json', mode='r')\n",
    "settings = json.load(json_data)\n",
    "json_data.close()"
   ]
  },
  {
   "cell_type": "markdown",
   "metadata": {},
   "source": [
    "# Prepare poker database for new dataset"
   ]
  },
  {
   "cell_type": "code",
   "execution_count": null,
   "metadata": {},
   "outputs": [],
   "source": [
    "poker_db = mysql.connector.connect(user=settings['sql_user'],\\\n",
    "                                   host=settings['sql_host'],\\\n",
    "                                   database=settings['sql_database'])\n",
    "sql_path = settings['sql_path']\n",
    "database = settings['sql_database']"
   ]
  },
  {
   "cell_type": "code",
   "execution_count": null,
   "metadata": {},
   "outputs": [],
   "source": [
    "tables = funcs_db.sql_select_tables(poker_db=poker_db, database=database)\n",
    "for table in tables:\n",
    "    funcs_db.sql_delete_allrows(poker_db=poker_db, database=database, table=table)"
   ]
  },
  {
   "cell_type": "markdown",
   "metadata": {},
   "source": [
    "# Prepare poker game for new plays"
   ]
  },
  {
   "cell_type": "markdown",
   "metadata": {},
   "source": [
    "## Basic settings"
   ]
  },
  {
   "cell_type": "code",
   "execution_count": null,
   "metadata": {},
   "outputs": [],
   "source": [
    "emulator = Emulator()"
   ]
  },
  {
   "cell_type": "code",
   "execution_count": null,
   "metadata": {},
   "outputs": [],
   "source": [
    "player_num = settings['player_num']\n",
    "max_round = settings['max_round']\n",
    "small_blind_amount = settings['small_blind_amount']\n",
    "ante_amount = settings['ante_amount']\n",
    "stack = settings['stack']\n",
    "\n",
    "players_info = {\n",
    "    'uuid-0': {'name': 'player0', 'stack': stack},\n",
    "    'uuid-1': {'name': 'player1', 'stack': stack},\n",
    "    'uuid-2': {'name': 'player2', 'stack': stack},\n",
    "    'uuid-3': {'name': 'player3', 'stack': stack},\n",
    "    'uuid-4': {'name': 'player4', 'stack': stack},\n",
    "    'uuid-5': {'name': 'player5', 'stack': stack}\n",
    "}\n",
    "\n",
    "summary = list()\n",
    "index = funcs_db.sql_games_max_id(poker_db=poker_db, database=database)"
   ]
  },
  {
   "cell_type": "markdown",
   "metadata": {},
   "source": [
    "## Prepare database"
   ]
  },
  {
   "cell_type": "code",
   "execution_count": null,
   "metadata": {},
   "outputs": [],
   "source": [
    "emulator.set_game_rule(player_num=player_num,\\\n",
    "                       max_round=max_round,\\\n",
    "                       small_blind_amount=small_blind_amount,\\\n",
    "                       ante_amount=ante_amount)\n",
    "initial_state = emulator.generate_initial_game_state(players_info)\n",
    "for i, player in enumerate(initial_state['table'].seats.players):\n",
    "    funcs_db.sql_insert_games(poker_db=poker_db,\\\n",
    "                              database=database,\\\n",
    "                              index=index + 1,\\\n",
    "                              player_num=player_num,\\\n",
    "                              small_blind_amount=small_blind_amount,\\\n",
    "                              ante_amount=ante_amount,\\\n",
    "                              uuid=player.uuid,\\\n",
    "                              name=player.name,\\\n",
    "                              stack=player.stack,\\\n",
    "                              position=i,\\\n",
    "                              card1='',\\\n",
    "                              card2='',\\\n",
    "                              hand_db_format='',\\\n",
    "                              flop1='',\\\n",
    "                              flop2='',\\\n",
    "                              flop3='',\\\n",
    "                              turn='',\\\n",
    "                              river='',\\\n",
    "                              final_stack=0)"
   ]
  },
  {
   "cell_type": "markdown",
   "metadata": {},
   "source": [
    "## Update database"
   ]
  },
  {
   "cell_type": "code",
   "execution_count": null,
   "metadata": {},
   "outputs": [],
   "source": [
    "game_state, events = emulator.start_new_round(initial_state)\n",
    "for i, player in enumerate(game_state['table'].seats.players):\n",
    "    card_list = [player.hole_card[0].RANK_MAP[player.hole_card[0].rank] +\\\n",
    "                 player.hole_card[0].SUIT_MAP[player.hole_card[0].suit],\\\n",
    "                 player.hole_card[1].RANK_MAP[player.hole_card[1].rank] +\\\n",
    "                 player.hole_card[1].SUIT_MAP[player.hole_card[1].suit]\n",
    "    ]\n",
    "    card_list.sort()\n",
    "    card1 = card_list[0]\n",
    "    card2 = card_list[1]\n",
    "    if card1[-1] == card2[-1]:\n",
    "        hand_db_format = card1[:-1] + card2[:-1] + 's'\n",
    "    else:\n",
    "        hand_db_format = card1[:-1] + card2[:-1] + 'o'\n",
    "\n",
    "    funcs_db.sql_update_games_cards(poker_db=poker_db,\\\n",
    "                                    database=database,\n",
    "                                    index=index + 1,\\\n",
    "                                    uuid=player.uuid,\\\n",
    "                                    card1=card1,\\\n",
    "                                    card2=card2,\\\n",
    "                                    hand_db_format=hand_db_format)"
   ]
  },
  {
   "cell_type": "markdown",
   "metadata": {},
   "source": [
    "## Prepare smallblind and bigblind phase"
   ]
  },
  {
   "cell_type": "code",
   "execution_count": null,
   "metadata": {},
   "outputs": [],
   "source": [
    "nr = 0\n",
    "step = 0\n",
    "pot = 0\n",
    "for i, player in enumerate(game_state['table'].seats.players):\n",
    "    try:\n",
    "        if player.serialize()[4][0]['action'] in ['SMALLBLIND', 'BIGBLIND']:\n",
    "            if player.serialize()[4][0]['action'] == 'SMALLBLIND':\n",
    "                amount = small_blind_amount\n",
    "            else:\n",
    "                amount = 2 * small_blind_amount\n",
    "\n",
    "            funcs_db.sql_insert_history(poker_db=poker_db,\\\n",
    "                                        database=database,\\\n",
    "                                        phase='preflop',\\\n",
    "                                        nr=nr,\\\n",
    "                                        step=step,\\\n",
    "                                        uuid=player.serialize()[1],\\\n",
    "                                        position=i,\\\n",
    "                                        stack=settings['stack'],\\\n",
    "                                        # stack_range=,\\\n",
    "                                        pot=pot,\\\n",
    "                                        # pot_range=,\\\n",
    "                                        flop1='',\\\n",
    "                                        flop2='',\\\n",
    "                                        flop3='',\\\n",
    "                                        turn='',\\\n",
    "                                        river='',\\\n",
    "                                        action=player.serialize()[4][0]['action'],\\\n",
    "                                        amount=amount,\\\n",
    "                                        # amount_range=,\\\n",
    "                                        new_stack=settings['stack'] - amount,\\\n",
    "                                        # new_stack_range=,\\\n",
    "                                        new_pot=pot + amount,\\\n",
    "                                        # new_pot_range=)\n",
    "\n",
    "            nr = nr + 1\n",
    "            step = step + 1\n",
    "            pot = pot + amount\n",
    "    except:\n",
    "        pass"
   ]
  },
  {
   "cell_type": "code",
   "execution_count": null,
   "metadata": {},
   "outputs": [],
   "source": []
  },
  {
   "cell_type": "code",
   "execution_count": null,
   "metadata": {},
   "outputs": [],
   "source": []
  },
  {
   "cell_type": "code",
   "execution_count": null,
   "metadata": {},
   "outputs": [],
   "source": []
  },
  {
   "cell_type": "code",
   "execution_count": null,
   "metadata": {},
   "outputs": [],
   "source": []
  },
  {
   "cell_type": "code",
   "execution_count": null,
   "metadata": {},
   "outputs": [],
   "source": []
  },
  {
   "cell_type": "code",
   "execution_count": null,
   "metadata": {},
   "outputs": [],
   "source": [
    "'''\n",
    "import sys\n",
    "sys.path.append('c:\\\\ProgramData\\\\Anaconda3\\\\Lib\\\\site-packages\\\\deuces\\\\')\n",
    "\n",
    "import deuces\n",
    "from deuces import Evaluator as e\n",
    "\n",
    "board = [deuces.Card.new('Ah'), deuces.Card.new('Kd'), deuces.Card.new('Jc')]\n",
    "hand = [deuces.Card.new('Qs'), deuces.Card.new('Th')]\n",
    "print(board, hand)\n",
    "e().evaluate(board, hand)\n",
    "'''"
   ]
  },
  {
   "cell_type": "code",
   "execution_count": null,
   "metadata": {},
   "outputs": [],
   "source": []
  }
 ],
 "metadata": {
  "kernelspec": {
   "display_name": "Python 3",
   "language": "python",
   "name": "python3"
  },
  "language_info": {
   "codemirror_mode": {
    "name": "ipython",
    "version": 3
   },
   "file_extension": ".py",
   "mimetype": "text/x-python",
   "name": "python",
   "nbconvert_exporter": "python",
   "pygments_lexer": "ipython3",
   "version": "3.7.3"
  },
  "toc": {
   "base_numbering": 1,
   "nav_menu": {},
   "number_sections": true,
   "sideBar": true,
   "skip_h1_title": false,
   "title_cell": "Table of Contents",
   "title_sidebar": "Contents",
   "toc_cell": false,
   "toc_position": {},
   "toc_section_display": true,
   "toc_window_display": false
  },
  "varInspector": {
   "cols": {
    "lenName": 16,
    "lenType": 16,
    "lenVar": 40
   },
   "kernels_config": {
    "python": {
     "delete_cmd_postfix": "",
     "delete_cmd_prefix": "del ",
     "library": "var_list.py",
     "varRefreshCmd": "print(var_dic_list())"
    },
    "r": {
     "delete_cmd_postfix": ") ",
     "delete_cmd_prefix": "rm(",
     "library": "var_list.r",
     "varRefreshCmd": "cat(var_dic_list()) "
    }
   },
   "types_to_exclude": [
    "module",
    "function",
    "builtin_function_or_method",
    "instance",
    "_Feature"
   ],
   "window_display": false
  }
 },
 "nbformat": 4,
 "nbformat_minor": 4
}
