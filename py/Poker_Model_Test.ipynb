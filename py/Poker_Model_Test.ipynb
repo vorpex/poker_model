{
 "cells": [
  {
   "cell_type": "markdown",
   "metadata": {},
   "source": [
    "# Testing"
   ]
  },
  {
   "cell_type": "code",
   "execution_count": null,
   "metadata": {},
   "outputs": [],
   "source": [
    "import sys\n",
    "sys.path.append('c:\\\\ProgramData\\\\Anaconda3\\\\Lib\\\\site-packages\\\\deuces\\\\')\n",
    "\n",
    "import pboard\n",
    "import pcard\n",
    "import pdeck\n",
    "import phand\n",
    "import pplayer\n",
    "import ppot\n",
    "\n",
    "import gc"
   ]
  },
  {
   "cell_type": "code",
   "execution_count": null,
   "metadata": {},
   "outputs": [],
   "source": [
    "gc.collect()"
   ]
  },
  {
   "cell_type": "code",
   "execution_count": null,
   "metadata": {},
   "outputs": [],
   "source": [
    "POT = ppot.Pot()\n",
    "print(POT.show_pot())\n",
    "POT.increase_pot(25)\n",
    "print(POT.show_pot())"
   ]
  },
  {
   "cell_type": "code",
   "execution_count": null,
   "metadata": {},
   "outputs": [],
   "source": [
    "card0 = pcard.Card('Ts')\n",
    "card1 = pcard.Card('8D')\n",
    "print(card0.show_card(), card1.show_card())\n",
    "print(card0.figure(), card1.figure())\n",
    "print(card0.color(), card1.color())\n",
    "print(card0.value(), card1.value())"
   ]
  },
  {
   "cell_type": "code",
   "execution_count": null,
   "metadata": {},
   "outputs": [],
   "source": [
    "DECK = pdeck.Deck()\n",
    "print(len(DECK.show_deck()))\n",
    "print(DECK.nth_card(13).show_card())\n",
    "BOARD = DECK.make_board()\n",
    "HAND = DECK.make_hand()\n",
    "print(BOARD.show_board()[0].show_card(), BOARD.show_board()[1].show_card(), BOARD.show_board()[2].show_card(), BOARD.show_board()[3].show_card(), BOARD.show_board()[4].show_card())\n",
    "print(HAND.show_hand()[0].show_card(), HAND.show_hand()[1].show_card())\n",
    "print(len(DECK.show_deck()))\n",
    "print(DECK.draw_by_number(13).show_card())\n",
    "print(len(DECK.show_deck()))\n",
    "print(DECK.draw_by_name('KD').show_card())\n",
    "print(len(DECK.show_deck()))"
   ]
  },
  {
   "cell_type": "code",
   "execution_count": null,
   "metadata": {},
   "outputs": [],
   "source": [
    "print(BOARD.show_board()[0].show_card(), BOARD.show_board()[1].show_card(), BOARD.show_board()[2].show_card(), BOARD.show_board()[3].show_card(), BOARD.show_board()[4].show_card())\n",
    "print(BOARD.flop()[0].show_card(), BOARD.flop()[1].show_card(), BOARD.flop()[2].show_card())\n",
    "print(BOARD.flop0().show_card(), BOARD.flop1().show_card(), BOARD.flop2().show_card(), BOARD.turn().show_card(), BOARD.river().show_card())"
   ]
  },
  {
   "cell_type": "code",
   "execution_count": null,
   "metadata": {},
   "outputs": [],
   "source": [
    "print(HAND.show_hand()[0].show_card(), HAND.show_hand()[1].show_card())\n",
    "print(HAND.best_five(BOARD))\n",
    "print(HAND.hand_strength(BOARD))"
   ]
  },
  {
   "cell_type": "code",
   "execution_count": null,
   "metadata": {},
   "outputs": [],
   "source": [
    "player2 = pplayer.Player(2, 100)\n",
    "print(player2.number())\n",
    "print(player2.general_name())\n",
    "print(player2.show_player_hand())\n",
    "player2.add_hand(HAND)\n",
    "print(player2.show_player_hand().show_hand()[0].show_card(), player2.show_player_hand().show_hand()[1].show_card())\n",
    "print(player2.chips())\n",
    "player2.increase_chips(25)\n",
    "print(player2.chips())\n",
    "player2.decrease_chips(14)\n",
    "print(player2.chips())\n",
    "print(player2.position_nr())\n",
    "print(player2.position_name())\n",
    "player2.add_position(4)\n",
    "print(player2.position_nr())\n",
    "print(player2.position_name())"
   ]
  },
  {
   "cell_type": "markdown",
   "metadata": {},
   "source": [
    "# Preparation"
   ]
  },
  {
   "cell_type": "code",
   "execution_count": null,
   "metadata": {},
   "outputs": [],
   "source": [
    "# Create Pot\n",
    "POT = ppot.Pot()\n",
    "\n",
    "# Create Deck\n",
    "DECK = pdeck.Deck()\n",
    "\n",
    "# Create Board\n",
    "BOARD = DECK.make_board()\n",
    "\n",
    "# Create Players\n",
    "player0 = pplayer.Player(0, 100)\n",
    "player0.add_position(0)\n",
    "\n",
    "player1 = pplayer.Player(1, 100)\n",
    "player1.add_position(1)\n",
    "\n",
    "player2 = pplayer.Player(2, 100)\n",
    "player2.add_position(2)\n",
    "\n",
    "player3 = pplayer.Player(3, 100)\n",
    "player3.add_position(3)\n",
    "\n",
    "player4 = pplayer.Player(4, 100)\n",
    "player4.add_position(4)\n",
    "\n",
    "player5 = pplayer.Player(5, 100)\n",
    "player5.add_position(5)\n",
    "\n",
    "# Create Hands\n",
    "HAND0 = DECK.make_hand()\n",
    "HAND1 = DECK.make_hand()\n",
    "HAND2 = DECK.make_hand()\n",
    "HAND3 = DECK.make_hand()\n",
    "HAND4 = DECK.make_hand()\n",
    "HAND5 = DECK.make_hand()\n",
    "\n",
    "# Add Hands\n",
    "player0.add_hand(HAND0)\n",
    "player1.add_hand(HAND1)\n",
    "player2.add_hand(HAND2)\n",
    "player3.add_hand(HAND3)\n",
    "player4.add_hand(HAND4)\n",
    "player5.add_hand(HAND5)"
   ]
  },
  {
   "cell_type": "markdown",
   "metadata": {},
   "source": [
    "# Game and Table Initialization"
   ]
  },
  {
   "cell_type": "code",
   "execution_count": 1,
   "metadata": {},
   "outputs": [],
   "source": [
    "'''poker test'''\n",
    "\n",
    "# pylint: disable=E1101, E1601\n",
    "\n",
    "import sys\n",
    "sys.path.append('c:\\\\ProgramData\\\\Anaconda3\\\\Lib\\\\site-packages\\\\deuces\\\\')\n",
    "\n",
    "import pcard\n",
    "import pboard\n",
    "import pdeck\n",
    "import phand\n",
    "import pplayer\n",
    "import ppot"
   ]
  },
  {
   "cell_type": "code",
   "execution_count": 9,
   "metadata": {},
   "outputs": [],
   "source": [
    "# parameters\n",
    "\n",
    "number_of_players = 6\n",
    "starting_chips_amount = 1000\n",
    "small_blind_amount = 10\n",
    "big_blind_amount = 2 * small_blind_amount"
   ]
  },
  {
   "cell_type": "code",
   "execution_count": 10,
   "metadata": {},
   "outputs": [],
   "source": [
    "# table initialization\n",
    "\n",
    "def table_init(nr_of_players, starting_chips):\n",
    "    '''players initialization'''\n",
    "\n",
    "    pot = ppot.Pot()\n",
    "\n",
    "    players = []\n",
    "    for i in range(nr_of_players):\n",
    "\n",
    "        players.append(pplayer.Player(i, starting_chips))\n",
    "        players[i].add_position(i)\n",
    "\n",
    "    return pot, players\n",
    "\n",
    "TABLE = table_init(number_of_players, starting_chips_amount)\n",
    "POT = TABLE[0]\n",
    "PLAYERS = TABLE[1]"
   ]
  },
  {
   "cell_type": "code",
   "execution_count": 11,
   "metadata": {},
   "outputs": [],
   "source": [
    "# game initialization\n",
    "\n",
    "for i in range(len(PLAYERS)):\n",
    "\n",
    "    PLAYERS[i].add_position((PLAYERS[i].position_nr() + 1) % len(PLAYERS))\n",
    "\n",
    "DECK = pdeck.Deck()\n",
    "BOARD = DECK.make_board()\n",
    "\n",
    "HANDS = [DECK.make_hand() for i in range(len(PLAYERS))]\n",
    "for i in range(len(PLAYERS)):\n",
    "\n",
    "    PLAYERS[i].add_hand(HANDS[i])\n",
    "\n",
    "PLAYER_ORDER = [0 for i in range(len(PLAYERS))]\n",
    "for i in range(len(PLAYERS)):\n",
    "    \n",
    "    PLAYER_ORDER[PLAYERS[i].position_nr()] = PLAYERS[i]\n",
    "\n",
    "PLAYER_MOVE = [1 for i in range(len(PLAYERS))]"
   ]
  },
  {
   "cell_type": "code",
   "execution_count": 12,
   "metadata": {},
   "outputs": [
    {
     "name": "stdout",
     "output_type": "stream",
     "text": [
      "5 player5 0 Small Blind 1000\n",
      "0 player0 1 Big Blind 1000\n",
      "1 player1 2 Under the Gun 1000\n",
      "2 player2 3 Middle 1000\n",
      "3 player3 4 Tail 1000\n",
      "4 player4 5 Dealer 1000\n",
      "pot:  0\n"
     ]
    }
   ],
   "source": [
    "# check\n",
    "\n",
    "for i in range(len(PLAYERS)):\n",
    "    print(PLAYER_ORDER[i].number(), PLAYER_ORDER[i].general_name(), PLAYER_ORDER[i].position_nr(), PLAYER_ORDER[i].position_name(), PLAYER_ORDER[i].chips())\n",
    "    \n",
    "print('pot: ', POT.show_pot())"
   ]
  },
  {
   "cell_type": "code",
   "execution_count": 13,
   "metadata": {},
   "outputs": [],
   "source": [
    "# preflop phase\n",
    "\n",
    "def small_blind(player, small_blind_amount, pot):\n",
    "    '''small blind move'''\n",
    "    \n",
    "    if isinstance(player, pplayer.Player) and isinstance(pot, ppot.Pot):\n",
    "        player.decrease_chips(small_blind_amount)\n",
    "        pot.increase_pot(small_blind_amount)\n",
    "        PLAYER_MOVE[0] = 0\n",
    "    else:\n",
    "        raise TypeError('Wrong type(s)')\n",
    "    \n",
    "    return None\n",
    "\n",
    "def big_blind(player, big_blind_amount, pot):\n",
    "    '''big blind move'''\n",
    "    \n",
    "    if isinstance(player, pplayer.Player) and isinstance(pot, ppot.Pot):\n",
    "        player.decrease_chips(big_blind_amount)\n",
    "        pot.increase_pot(big_blind_amount)\n",
    "        PLAYER_MOVE[1] = 0\n",
    "    else:\n",
    "        raise TypeError('Wrong type(s)')\n",
    "\n",
    "    return None"
   ]
  },
  {
   "cell_type": "code",
   "execution_count": 14,
   "metadata": {},
   "outputs": [],
   "source": [
    "small_blind(PLAYER_ORDER[0], small_blind_amount, POT)\n",
    "big_blind(PLAYER_ORDER[1], big_blind_amount, POT)"
   ]
  },
  {
   "cell_type": "code",
   "execution_count": 15,
   "metadata": {},
   "outputs": [
    {
     "name": "stdout",
     "output_type": "stream",
     "text": [
      "5 player5 0 Small Blind 990\n",
      "0 player0 1 Big Blind 980\n",
      "1 player1 2 Under the Gun 1000\n",
      "2 player2 3 Middle 1000\n",
      "3 player3 4 Tail 1000\n",
      "4 player4 5 Dealer 1000\n",
      "pot:  30\n"
     ]
    }
   ],
   "source": [
    "# check\n",
    "\n",
    "for i in range(len(PLAYERS)):\n",
    "    print(PLAYER_ORDER[i].number(), PLAYER_ORDER[i].general_name(), PLAYER_ORDER[i].position_nr(), PLAYER_ORDER[i].position_name(), PLAYER_ORDER[i].chips())\n",
    "    \n",
    "print('pot: ', POT.show_pot())"
   ]
  },
  {
   "cell_type": "code",
   "execution_count": null,
   "metadata": {},
   "outputs": [],
   "source": []
  }
 ],
 "metadata": {
  "kernelspec": {
   "display_name": "Python 3",
   "language": "python",
   "name": "python3"
  },
  "language_info": {
   "codemirror_mode": {
    "name": "ipython",
    "version": 3
   },
   "file_extension": ".py",
   "mimetype": "text/x-python",
   "name": "python",
   "nbconvert_exporter": "python",
   "pygments_lexer": "ipython3",
   "version": "3.7.3"
  }
 },
 "nbformat": 4,
 "nbformat_minor": 2
}
