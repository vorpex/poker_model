{
 "cells": [
  {
   "cell_type": "markdown",
   "metadata": {},
   "source": [
    "# Game and Table Initialization"
   ]
  },
  {
   "cell_type": "code",
   "execution_count": 1,
   "metadata": {},
   "outputs": [],
   "source": [
    "'''poker test'''\n",
    "\n",
    "# pylint: disable=E1101, E1601, W0612\n",
    "\n",
    "import db_funcs\n",
    "import db_moves\n",
    "\n",
    "import pdeck"
   ]
  },
  {
   "cell_type": "code",
   "execution_count": 2,
   "metadata": {},
   "outputs": [],
   "source": [
    "# GAME PARAMETERS\n",
    "\n",
    "number_of_players = 6\n",
    "starting_stack = 1000\n",
    "small_blind = 10\n",
    "big_blind = 2 * small_blind\n",
    "\n",
    "db_funcs.sql_delete_all(table='games')\n",
    "db_funcs.sql_delete_all(table='history')\n",
    "db_funcs.sql_delete_all(table='decision_points')\n",
    "db_funcs.sql_delete_all(table='possible_moves')\n",
    "db_funcs.sql_insert_games(values_list=[number_of_players, starting_stack, small_blind, big_blind])"
   ]
  },
  {
   "cell_type": "code",
   "execution_count": 3,
   "metadata": {},
   "outputs": [],
   "source": [
    "# TABLE INITIALIZATION\n",
    "\n",
    "TABLE = db_funcs.table_init(nr_of_players=number_of_players, starting_stack=starting_stack)\n",
    "POT = TABLE[0]\n",
    "PLAYERS = TABLE[1]"
   ]
  },
  {
   "cell_type": "code",
   "execution_count": 4,
   "metadata": {},
   "outputs": [],
   "source": [
    "# GAME INITIALIZATION\n",
    "\n",
    "# # shift the players position by 1\n",
    "for player in PLAYERS:\n",
    "\n",
    "    player.add_position((player.position_nr() + 1) % len(PLAYERS))\n",
    "\n",
    "# # create deck and board\n",
    "DECK = pdeck.Deck()\n",
    "BOARD = DECK.make_board()\n",
    "\n",
    "# # create hands and add them to players\n",
    "HANDS = [DECK.make_hand() for player in PLAYERS]\n",
    "for i in range(len(PLAYERS)):\n",
    "\n",
    "    PLAYERS[i].add_hand(HANDS[i])\n",
    "\n",
    "# # define players order\n",
    "PLAYER_ORDER = [0 for player in PLAYERS]\n",
    "for player in PLAYERS:\n",
    "\n",
    "    PLAYER_ORDER[player.position_nr()] = player\n",
    "\n",
    "# # define players move flags\n",
    "PLAYER_MOVE_FLAGS = [1 for player in PLAYERS]"
   ]
  },
  {
   "cell_type": "code",
   "execution_count": 5,
   "metadata": {},
   "outputs": [],
   "source": [
    "# PREFLOP PHASE\n",
    "\n",
    "# # small blind and big blind moves\n",
    "db_moves.small_blind_move(player=PLAYER_ORDER[0], pot=POT, amount=small_blind)\n",
    "db_moves.big_blind_move(player=PLAYER_ORDER[1], pot=POT, amount=big_blind)"
   ]
  },
  {
   "cell_type": "code",
   "execution_count": 6,
   "metadata": {},
   "outputs": [
    {
     "name": "stdout",
     "output_type": "stream",
     "text": [
      "fold\n",
      "raise\n",
      "call\n",
      "raise\n"
     ]
    }
   ],
   "source": [
    "# # further moves\n",
    "phase = 0\n",
    "nr = 2\n",
    "for i in range(2, 6):\n",
    "    \n",
    "    move = db_funcs.decision_point(hand=PLAYER_ORDER[i].show_player_hand_db(), stack=PLAYER_ORDER[i].stack(), \\\n",
    "        pot=POT.show_pot(), position=PLAYER_ORDER[i].position_nr(), phase=phase, nr=nr)\n",
    "    print(move)\n",
    "    if move == 'fold':\n",
    "        db_moves.fold_move(player=PLAYER_ORDER[i], pot=POT, phase=phase, nr=nr)\n",
    "    elif move == 'check':\n",
    "        db_moves.check_move(player=PLAYER_ORDER[i], pot=POT, phase=phase, nr=nr)\n",
    "    elif move == 'call':\n",
    "        call_amount = 60 # calculation for call_amount\n",
    "        db_moves.call_move(player=PLAYER_ORDER[i], pot=POT, phase=phase, nr=nr, amount=call_amount)\n",
    "    elif move == 'bet':\n",
    "        bet_amount = 60 # calculation for bet_amount\n",
    "        db_moves.bet_move(player=PLAYER_ORDER[i], pot=POT, phase=phase, nr=nr, amount=bet_amount)\n",
    "    elif move == 'raise':\n",
    "        raise_amount = 60 # calculation for bet_amount\n",
    "        db_moves.raise_move(player=PLAYER_ORDER[i], pot=POT, phase=phase, nr=nr, amount=raise_amount)\n",
    "    elif move == 'allin':\n",
    "        db_moves.allin_move(player=PLAYER_ORDER[i], pot=POT, phase=phase, nr=nr, amount=PLAYER_ORDER[i].stack())\n",
    "    else:\n",
    "        pass\n",
    "    \n",
    "    # save move information for every players\n",
    "\n",
    "    nr = nr + 1"
   ]
  },
  {
   "cell_type": "code",
   "execution_count": null,
   "metadata": {},
   "outputs": [],
   "source": []
  }
 ],
 "metadata": {
  "kernelspec": {
   "display_name": "Python 3",
   "language": "python",
   "name": "python3"
  },
  "language_info": {
   "codemirror_mode": {
    "name": "ipython",
    "version": 3
   },
   "file_extension": ".py",
   "mimetype": "text/x-python",
   "name": "python",
   "nbconvert_exporter": "python",
   "pygments_lexer": "ipython3",
   "version": "3.7.3"
  },
  "toc": {
   "base_numbering": 1,
   "nav_menu": {},
   "number_sections": true,
   "sideBar": true,
   "skip_h1_title": false,
   "title_cell": "Table of Contents",
   "title_sidebar": "Contents",
   "toc_cell": false,
   "toc_position": {},
   "toc_section_display": true,
   "toc_window_display": false
  },
  "varInspector": {
   "cols": {
    "lenName": 16,
    "lenType": 16,
    "lenVar": 40
   },
   "kernels_config": {
    "python": {
     "delete_cmd_postfix": "",
     "delete_cmd_prefix": "del ",
     "library": "var_list.py",
     "varRefreshCmd": "print(var_dic_list())"
    },
    "r": {
     "delete_cmd_postfix": ") ",
     "delete_cmd_prefix": "rm(",
     "library": "var_list.r",
     "varRefreshCmd": "cat(var_dic_list()) "
    }
   },
   "types_to_exclude": [
    "module",
    "function",
    "builtin_function_or_method",
    "instance",
    "_Feature"
   ],
   "window_display": false
  }
 },
 "nbformat": 4,
 "nbformat_minor": 2
}
