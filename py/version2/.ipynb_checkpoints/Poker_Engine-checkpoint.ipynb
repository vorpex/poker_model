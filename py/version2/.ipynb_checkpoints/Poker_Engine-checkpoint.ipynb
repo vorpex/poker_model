{
 "cells": [
  {
   "cell_type": "code",
   "execution_count": 1,
   "metadata": {
    "ExecuteTime": {
     "end_time": "2019-08-23T23:54:33.838641Z",
     "start_time": "2019-08-23T23:54:32.897143Z"
    }
   },
   "outputs": [],
   "source": [
    "'''poker engine'''\n",
    "\n",
    "# pylint: disable=E1101, E1601, W0612\n",
    "\n",
    "import gc\n",
    "import mysql.connector\n",
    "from pypokerengine.api.emulator import Emulator\n",
    "\n",
    "import funcs_db"
   ]
  },
  {
   "cell_type": "code",
   "execution_count": 2,
   "metadata": {
    "ExecuteTime": {
     "end_time": "2019-08-23T23:54:33.880753Z",
     "start_time": "2019-08-23T23:54:33.842651Z"
    }
   },
   "outputs": [
    {
     "data": {
      "text/plain": [
       "20"
      ]
     },
     "execution_count": 2,
     "metadata": {},
     "output_type": "execute_result"
    }
   ],
   "source": [
    "gc.collect()"
   ]
  },
  {
   "cell_type": "markdown",
   "metadata": {},
   "source": [
    "# OPEN CONNECTION TO POKER DB "
   ]
  },
  {
   "cell_type": "code",
   "execution_count": 3,
   "metadata": {
    "ExecuteTime": {
     "end_time": "2019-08-23T23:54:33.917851Z",
     "start_time": "2019-08-23T23:54:33.884764Z"
    }
   },
   "outputs": [],
   "source": [
    "poker_db = mysql.connector.connect(user='root', host='127.0.0.1', database='poker_version2')\n",
    "sql_path = 'c:\\\\Users\\\\adam.sohonyai\\\\Documents\\\\GitHub\\\\poker_model\\\\sql\\\\version2\\\\'"
   ]
  },
  {
   "cell_type": "markdown",
   "metadata": {},
   "source": [
    "## Delete data from database tables "
   ]
  },
  {
   "cell_type": "code",
   "execution_count": 4,
   "metadata": {
    "ExecuteTime": {
     "end_time": "2019-08-23T23:54:33.956953Z",
     "start_time": "2019-08-23T23:54:33.921863Z"
    }
   },
   "outputs": [],
   "source": [
    "tables = funcs_db.sql_select_tables(poker_db=poker_db)\n",
    "for table in tables:\n",
    "    funcs_db.sql_delete_all(poker_db=poker_db, table=table)"
   ]
  },
  {
   "cell_type": "markdown",
   "metadata": {},
   "source": [
    "# Initialization"
   ]
  },
  {
   "cell_type": "code",
   "execution_count": 5,
   "metadata": {
    "ExecuteTime": {
     "end_time": "2019-08-23T23:54:33.962970Z",
     "start_time": "2019-08-23T23:54:33.959962Z"
    }
   },
   "outputs": [],
   "source": [
    "emulator = Emulator()"
   ]
  },
  {
   "cell_type": "markdown",
   "metadata": {},
   "source": [
    "## Create game and table"
   ]
  },
  {
   "cell_type": "code",
   "execution_count": 6,
   "metadata": {
    "ExecuteTime": {
     "end_time": "2019-08-23T23:54:33.978010Z",
     "start_time": "2019-08-23T23:54:33.965978Z"
    }
   },
   "outputs": [],
   "source": [
    "player_num = 6\n",
    "max_round = 1\n",
    "small_blind_amount = 10\n",
    "ante_amount = 0\n",
    "\n",
    "stack = 2000\n",
    "players_info = {\n",
    "    'uuid-0': {'name': 'player0', 'stack': stack},\n",
    "    'uuid-1': {'name': 'player1', 'stack': stack},\n",
    "    'uuid-2': {'name': 'player2', 'stack': stack},\n",
    "    'uuid-3': {'name': 'player3', 'stack': stack},\n",
    "    'uuid-4': {'name': 'player4', 'stack': stack},\n",
    "    'uuid-5': {'name': 'player5', 'stack': stack}\n",
    "}\n",
    "\n",
    "ID = funcs_db.sql_games_max_id(poker_db=poker_db) + 1"
   ]
  },
  {
   "cell_type": "code",
   "execution_count": 7,
   "metadata": {
    "ExecuteTime": {
     "end_time": "2019-08-23T23:54:34.018116Z",
     "start_time": "2019-08-23T23:54:33.981019Z"
    }
   },
   "outputs": [],
   "source": [
    "emulator.set_game_rule(player_num=player_num, max_round=max_round, small_blind_amount=small_blind_amount, \\\n",
    "                       ante_amount=ante_amount)\n",
    "initial_state = emulator.generate_initial_game_state(players_info)\n",
    "for i, player in enumerate(initial_state['table'].seats.players):\n",
    "\n",
    "    funcs_db.sql_insert_games(poker_db=poker_db, index=ID, player_num=player_num, small_blind_amount=small_blind_amount, \\\n",
    "                              ante_amount=ante_amount, uuid=player.uuid, name=player.name, stack=player.stack, position=i, \\\n",
    "                              card1='', card2='', hand_db_format='', flop1='', flop2='', flop3='', turn='', river='')"
   ]
  },
  {
   "cell_type": "code",
   "execution_count": 8,
   "metadata": {
    "ExecuteTime": {
     "end_time": "2019-08-23T23:54:34.062233Z",
     "start_time": "2019-08-23T23:54:34.023131Z"
    }
   },
   "outputs": [],
   "source": [
    "game_state, events = emulator.start_new_round(initial_state)\n",
    "for i, player in enumerate(game_state['table'].seats.players):\n",
    "    \n",
    "    card_list = [player.hole_card[0].RANK_MAP[player.hole_card[0].rank] + \\\n",
    "                 player.hole_card[0].SUIT_MAP[player.hole_card[0].suit], \\\n",
    "                 player.hole_card[1].RANK_MAP[player.hole_card[1].rank] + \\\n",
    "                 player.hole_card[1].SUIT_MAP[player.hole_card[1].suit]\n",
    "    ]\n",
    "    card_list.sort()\n",
    "    card1 = card_list[0]\n",
    "    card2 = card_list[1]\n",
    "    if card1[-1] == card2[-1]:\n",
    "        hand_db_format = card1[:-1] + card2[:-1] + 's'\n",
    "    else:\n",
    "        hand_db_format = card1[:-1] + card2[:-1] + 'o'\n",
    "    \n",
    "    funcs_db.sql_update_games_cards(poker_db=poker_db, index=ID, uuid=player.uuid, \\\n",
    "                                    card1=card1, card2=card2, hand_db_format=hand_db_format)"
   ]
  },
  {
   "cell_type": "markdown",
   "metadata": {},
   "source": [
    "## Small blind and big blind moves"
   ]
  },
  {
   "cell_type": "code",
   "execution_count": 9,
   "metadata": {
    "ExecuteTime": {
     "end_time": "2019-08-23T23:54:34.096324Z",
     "start_time": "2019-08-23T23:54:34.066246Z"
    }
   },
   "outputs": [],
   "source": [
    "nr = 0\n",
    "pot = 0\n",
    "for i, player in enumerate(game_state['table'].seats.players):\n",
    "    \n",
    "    try:\n",
    "        if player.serialize()[4][0]['action'] in ['SMALLBLIND', 'BIGBLIND']:\n",
    "            if player.serialize()[4][0]['action'] == 'SMALLBLIND':\n",
    "                amount = small_blind_amount\n",
    "            else:\n",
    "                amount = 2 * small_blind_amount\n",
    "            funcs_db.sql_insert_history(poker_db=poker_db, phase='preflop', nr=nr, uuid=player.serialize()[1], position=i, \\\n",
    "                                        stack=2000, pot=pot, flop1='', flop2='', flop3='', turn='', river='', \\\n",
    "                                        action=player.serialize()[4][0]['action'], amount=amount, \\\n",
    "                                        new_stack=2000 - amount, new_pot=pot + amount)\n",
    "\n",
    "            nr = nr + 1\n",
    "            pot = pot + amount\n",
    "    except:\n",
    "        pass"
   ]
  },
  {
   "cell_type": "markdown",
   "metadata": {},
   "source": [
    "# Game phase"
   ]
  },
  {
   "cell_type": "code",
   "execution_count": 10,
   "metadata": {
    "ExecuteTime": {
     "end_time": "2019-08-23T23:54:34.912489Z",
     "start_time": "2019-08-23T23:54:34.098329Z"
    }
   },
   "outputs": [
    {
     "ename": "TypeError",
     "evalue": "'int' object is not iterable",
     "output_type": "error",
     "traceback": [
      "\u001b[1;31m---------------------------------------------------------------------------\u001b[0m",
      "\u001b[1;31mTypeError\u001b[0m                                 Traceback (most recent call last)",
      "\u001b[1;32m<ipython-input-10-12cb045eb77f>\u001b[0m in \u001b[0;36m<module>\u001b[1;34m\u001b[0m\n\u001b[0;32m     25\u001b[0m     \u001b[1;31m# calculate action and bet_amount and apply them on game state\u001b[0m\u001b[1;33m\u001b[0m\u001b[1;33m\u001b[0m\u001b[1;33m\u001b[0m\u001b[0m\n\u001b[0;32m     26\u001b[0m     action, bet_amount = funcs_db.decision_point_based_action(poker_db=poker_db, phase=phase, nr=nr, position=position, \\\n\u001b[1;32m---> 27\u001b[1;33m                                                               stack=stack, pot=pot, valid_actions=valid_actions)\n\u001b[0m\u001b[0;32m     28\u001b[0m     \u001b[0mgame_state\u001b[0m\u001b[1;33m,\u001b[0m \u001b[0mevents\u001b[0m \u001b[1;33m=\u001b[0m \u001b[0memulator\u001b[0m\u001b[1;33m.\u001b[0m\u001b[0mapply_action\u001b[0m\u001b[1;33m(\u001b[0m\u001b[0mgame_state\u001b[0m\u001b[1;33m=\u001b[0m\u001b[0mgame_state\u001b[0m\u001b[1;33m,\u001b[0m \u001b[0maction\u001b[0m\u001b[1;33m=\u001b[0m\u001b[0maction\u001b[0m\u001b[1;33m,\u001b[0m \u001b[0mbet_amount\u001b[0m\u001b[1;33m=\u001b[0m\u001b[0mbet_amount\u001b[0m\u001b[1;33m)\u001b[0m\u001b[1;33m\u001b[0m\u001b[1;33m\u001b[0m\u001b[0m\n\u001b[0;32m     29\u001b[0m \u001b[1;33m\u001b[0m\u001b[0m\n",
      "\u001b[1;32m~\\Documents\\GitHub\\poker_model\\py\\version2\\funcs_db.py\u001b[0m in \u001b[0;36mdecision_point_based_action\u001b[1;34m(poker_db, phase, nr, position, stack, pot, valid_actions)\u001b[0m\n\u001b[0;32m    198\u001b[0m         hand_db_format=hand_db_format, stack=stack, pot=pot, history=history[0][0])\n\u001b[0;32m    199\u001b[0m \u001b[1;33m\u001b[0m\u001b[0m\n\u001b[1;32m--> 200\u001b[1;33m         \u001b[1;32mfor\u001b[0m \u001b[0maction\u001b[0m \u001b[1;32min\u001b[0m \u001b[0mvalid_actions\u001b[0m\u001b[1;33m:\u001b[0m\u001b[1;33m\u001b[0m\u001b[1;33m\u001b[0m\u001b[0m\n\u001b[0m\u001b[0;32m    201\u001b[0m             \u001b[1;32mif\u001b[0m \u001b[0maction\u001b[0m\u001b[1;33m[\u001b[0m\u001b[1;34m'action'\u001b[0m\u001b[1;33m]\u001b[0m \u001b[1;33m!=\u001b[0m \u001b[1;34m'raise'\u001b[0m\u001b[1;33m:\u001b[0m\u001b[1;33m\u001b[0m\u001b[1;33m\u001b[0m\u001b[0m\n\u001b[0;32m    202\u001b[0m                 \u001b[0msql_insert_possible_moves\u001b[0m\u001b[1;33m(\u001b[0m\u001b[0mpoker_db\u001b[0m\u001b[1;33m,\u001b[0m \u001b[0maction\u001b[0m\u001b[1;33m=\u001b[0m\u001b[0maction\u001b[0m\u001b[1;33m[\u001b[0m\u001b[1;34m'action'\u001b[0m\u001b[1;33m]\u001b[0m\u001b[1;33m,\u001b[0m \u001b[0mamount\u001b[0m\u001b[1;33m=\u001b[0m\u001b[0maction\u001b[0m\u001b[1;33m[\u001b[0m\u001b[1;34m'amount'\u001b[0m\u001b[1;33m]\u001b[0m\u001b[1;33m)\u001b[0m\u001b[1;33m\u001b[0m\u001b[1;33m\u001b[0m\u001b[0m\n",
      "\u001b[1;31mTypeError\u001b[0m: 'int' object is not iterable"
     ]
    }
   ],
   "source": [
    "while events[-1]['type'] != 'event_game_finish':\n",
    "    \n",
    "    # data source\n",
    "    data = events[-1]\n",
    "    \n",
    "    # calculate parameters from current game state\n",
    "    phase = data['round_state']['street']\n",
    "    position = data['round_state']['next_player']\n",
    "    uuid = data['uuid']\n",
    "    for item in data['round_state']['seats']:\n",
    "\n",
    "        if item['uuid'] == data['uuid']:\n",
    "            stack = item['stack']\n",
    "\n",
    "    side = 0\n",
    "    if data['round_state']['pot']['side'] != []:\n",
    "        for amount in data['round_state']['pot']['side']:\n",
    "        \n",
    "            side = side + amount['amount']\n",
    "\n",
    "    pot = data['round_state']['pot']['main']['amount'] + side\n",
    "    valid_actions = data['valid_actions']\n",
    "    # valid_actions = funcs_db.valid_actions_check(actions=data['valid_actions'], stack=stack)\n",
    "    community_cards = funcs_db.community_cards_eval(board=data['round_state']['community_card'])\n",
    "\n",
    "    # calculate action and bet_amount and apply them on game state\n",
    "    action, bet_amount = funcs_db.decision_point_based_action(poker_db=poker_db, phase=phase, nr=nr, position=position, \\\n",
    "                                                              stack=stack, pot=pot, valid_actions=valid_actions)\n",
    "    game_state, events = emulator.apply_action(game_state=game_state, action=action, bet_amount=bet_amount)\n",
    "    \n",
    "    # calculate new parameters from current game state\n",
    "    if events[-1]['type'] == 'event_game_finish':\n",
    "        data = events[0]\n",
    "    else:\n",
    "        data = events[-1]\n",
    "    \n",
    "    new_phase = data['round_state']['street']\n",
    "    for item in data['round_state']['seats']:\n",
    "\n",
    "        if item['uuid'] == uuid:\n",
    "            new_stack = item['stack']\n",
    "    \n",
    "    new_side = 0\n",
    "    if data['round_state']['pot']['side'] != []:\n",
    "        for amount in data['round_state']['pot']['side']:\n",
    "        \n",
    "            new_side = new_side + amount['amount']\n",
    "\n",
    "    new_pot = data['round_state']['pot']['main']['amount'] + new_side\n",
    "    # bet_amount = stack - new_stack\n",
    "    \n",
    "    # insert action in history table with calculated old and new parameters\n",
    "    funcs_db.sql_insert_history(poker_db=poker_db, phase=phase, nr=nr, uuid=uuid, position=position, stack=stack, pot=pot, \\\n",
    "                                flop1=community_cards[0], flop2=community_cards[1], flop3=community_cards[2], \\\n",
    "                                turn=community_cards[3], river=community_cards[4], action=action.upper(), \\\n",
    "                                amount=bet_amount, new_stack=new_stack, new_pot=new_pot)\n",
    "\n",
    "    # increase nr parameter - nr has to be set to 0 when phase changes\n",
    "    if phase == new_phase:\n",
    "        nr = nr + 1\n",
    "    else:\n",
    "        nr = 0"
   ]
  },
  {
   "cell_type": "code",
   "execution_count": null,
   "metadata": {},
   "outputs": [],
   "source": []
  }
 ],
 "metadata": {
  "kernelspec": {
   "display_name": "Python 3",
   "language": "python",
   "name": "python3"
  },
  "language_info": {
   "codemirror_mode": {
    "name": "ipython",
    "version": 3
   },
   "file_extension": ".py",
   "mimetype": "text/x-python",
   "name": "python",
   "nbconvert_exporter": "python",
   "pygments_lexer": "ipython3",
   "version": "3.7.3"
  },
  "toc": {
   "base_numbering": 1,
   "nav_menu": {},
   "number_sections": true,
   "sideBar": true,
   "skip_h1_title": false,
   "title_cell": "Table of Contents",
   "title_sidebar": "Contents",
   "toc_cell": false,
   "toc_position": {},
   "toc_section_display": true,
   "toc_window_display": false
  },
  "varInspector": {
   "cols": {
    "lenName": 16,
    "lenType": 16,
    "lenVar": 40
   },
   "kernels_config": {
    "python": {
     "delete_cmd_postfix": "",
     "delete_cmd_prefix": "del ",
     "library": "var_list.py",
     "varRefreshCmd": "print(var_dic_list())"
    },
    "r": {
     "delete_cmd_postfix": ") ",
     "delete_cmd_prefix": "rm(",
     "library": "var_list.r",
     "varRefreshCmd": "cat(var_dic_list()) "
    }
   },
   "types_to_exclude": [
    "module",
    "function",
    "builtin_function_or_method",
    "instance",
    "_Feature"
   ],
   "window_display": false
  }
 },
 "nbformat": 4,
 "nbformat_minor": 2
}
