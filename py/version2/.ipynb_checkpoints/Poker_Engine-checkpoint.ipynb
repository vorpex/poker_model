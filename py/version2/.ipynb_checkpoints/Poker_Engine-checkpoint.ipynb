{
 "cells": [
  {
   "cell_type": "code",
   "execution_count": 12,
   "metadata": {
    "ExecuteTime": {
     "end_time": "2019-08-22T21:23:52.538996Z",
     "start_time": "2019-08-22T21:23:52.532980Z"
    }
   },
   "outputs": [],
   "source": [
    "'''poker engine'''\n",
    "\n",
    "# pylint: disable=E1101, E1601, W0612\n",
    "\n",
    "import gc\n",
    "import mysql.connector\n",
    "from pypokerengine.api.emulator import Emulator\n",
    "\n",
    "import funcs_db"
   ]
  },
  {
   "cell_type": "code",
   "execution_count": 13,
   "metadata": {
    "ExecuteTime": {
     "end_time": "2019-08-22T21:23:52.583115Z",
     "start_time": "2019-08-22T21:23:52.549022Z"
    }
   },
   "outputs": [
    {
     "data": {
      "text/plain": [
       "878"
      ]
     },
     "execution_count": 13,
     "metadata": {},
     "output_type": "execute_result"
    }
   ],
   "source": [
    "gc.collect()"
   ]
  },
  {
   "cell_type": "markdown",
   "metadata": {},
   "source": [
    "# OPEN CONNECTION TO POKER DB "
   ]
  },
  {
   "cell_type": "code",
   "execution_count": 14,
   "metadata": {
    "ExecuteTime": {
     "end_time": "2019-08-22T21:23:52.627230Z",
     "start_time": "2019-08-22T21:23:52.587123Z"
    }
   },
   "outputs": [],
   "source": [
    "poker_db = mysql.connector.connect(user='root', host='127.0.0.1', database='poker_version2')\n",
    "sql_path = 'c:\\\\Users\\\\adam.sohonyai\\\\Documents\\\\GitHub\\\\poker_model\\\\sql\\\\version2\\\\'"
   ]
  },
  {
   "cell_type": "markdown",
   "metadata": {},
   "source": [
    "## Delete data from database tables "
   ]
  },
  {
   "cell_type": "code",
   "execution_count": 15,
   "metadata": {
    "ExecuteTime": {
     "end_time": "2019-08-22T21:23:52.667337Z",
     "start_time": "2019-08-22T21:23:52.630238Z"
    }
   },
   "outputs": [],
   "source": [
    "tables = funcs_db.sql_select_tables(poker_db=poker_db)\n",
    "for table in tables:\n",
    "    funcs_db.sql_delete_all(poker_db=poker_db, table=table)"
   ]
  },
  {
   "cell_type": "markdown",
   "metadata": {},
   "source": [
    "# Initialization"
   ]
  },
  {
   "cell_type": "code",
   "execution_count": 16,
   "metadata": {
    "ExecuteTime": {
     "end_time": "2019-08-22T21:23:52.675359Z",
     "start_time": "2019-08-22T21:23:52.671349Z"
    }
   },
   "outputs": [],
   "source": [
    "emulator = Emulator()"
   ]
  },
  {
   "cell_type": "markdown",
   "metadata": {},
   "source": [
    "## Create game and table"
   ]
  },
  {
   "cell_type": "code",
   "execution_count": 17,
   "metadata": {
    "ExecuteTime": {
     "end_time": "2019-08-22T21:23:52.698421Z",
     "start_time": "2019-08-22T21:23:52.678367Z"
    }
   },
   "outputs": [],
   "source": [
    "player_num = 6\n",
    "max_round = 1\n",
    "small_blind_amount = 10\n",
    "ante_amount = 0\n",
    "\n",
    "stack = 2000\n",
    "players_info = {\n",
    "    'uuid-0': {'name': 'player0', 'stack': stack},\n",
    "    'uuid-1': {'name': 'player1', 'stack': stack},\n",
    "    'uuid-2': {'name': 'player2', 'stack': stack},\n",
    "    'uuid-3': {'name': 'player3', 'stack': stack},\n",
    "    'uuid-4': {'name': 'player4', 'stack': stack},\n",
    "    'uuid-5': {'name': 'player5', 'stack': stack}\n",
    "}\n",
    "\n",
    "ID = funcs_db.sql_games_max_id(poker_db=poker_db) + 1"
   ]
  },
  {
   "cell_type": "code",
   "execution_count": 18,
   "metadata": {
    "ExecuteTime": {
     "end_time": "2019-08-22T21:23:52.735520Z",
     "start_time": "2019-08-22T21:23:52.701429Z"
    }
   },
   "outputs": [],
   "source": [
    "emulator.set_game_rule(player_num=player_num, max_round=max_round, small_blind_amount=small_blind_amount, \\\n",
    "                       ante_amount=ante_amount)\n",
    "initial_state = emulator.generate_initial_game_state(players_info)\n",
    "for i, player in enumerate(initial_state['table'].seats.players):\n",
    "\n",
    "    funcs_db.sql_insert_games(poker_db=poker_db, index=ID, player_num=player_num, small_blind_amount=small_blind_amount, \\\n",
    "                              ante_amount=ante_amount, uuid=player.uuid, name=player.name, stack=player.stack, position=i, \\\n",
    "                              card1='', card2='', hand_db_format='')"
   ]
  },
  {
   "cell_type": "code",
   "execution_count": 19,
   "metadata": {
    "ExecuteTime": {
     "end_time": "2019-08-22T21:23:52.775627Z",
     "start_time": "2019-08-22T21:23:52.738528Z"
    }
   },
   "outputs": [],
   "source": [
    "game_state, events = emulator.start_new_round(initial_state)\n",
    "for i, player in enumerate(game_state['table'].seats.players):\n",
    "    \n",
    "    card_list = [player.hole_card[0].RANK_MAP[player.hole_card[0].rank] + \\\n",
    "                 player.hole_card[0].SUIT_MAP[player.hole_card[0].suit], \\\n",
    "                 player.hole_card[1].RANK_MAP[player.hole_card[1].rank] + \\\n",
    "                 player.hole_card[1].SUIT_MAP[player.hole_card[1].suit]\n",
    "    ]\n",
    "    card_list.sort()\n",
    "    card1 = card_list[0]\n",
    "    card2 = card_list[1]\n",
    "    if card1[-1] == card2[-1]:\n",
    "        hand_db_format = card1[:-1] + card2[:-1] + 's'\n",
    "    else:\n",
    "        hand_db_format = card1[:-1] + card2[:-1] + 'o'\n",
    "    \n",
    "    funcs_db.sql_update_games_cards(poker_db=poker_db, index=ID, uuid=player.uuid, \\\n",
    "                                    card1=card1, card2=card2, hand_db_format=hand_db_format)"
   ]
  },
  {
   "cell_type": "markdown",
   "metadata": {},
   "source": [
    "## Small blind and big blind moves"
   ]
  },
  {
   "cell_type": "code",
   "execution_count": 20,
   "metadata": {
    "ExecuteTime": {
     "end_time": "2019-08-22T21:23:52.806709Z",
     "start_time": "2019-08-22T21:23:52.782646Z"
    }
   },
   "outputs": [],
   "source": [
    "nr = 0\n",
    "pot = 0\n",
    "for i, player in enumerate(game_state['table'].seats.players):\n",
    "    \n",
    "    try:\n",
    "        if player.serialize()[4][0]['action'] in ['SMALLBLIND', 'BIGBLIND']:\n",
    "            if player.serialize()[4][0]['action'] == 'SMALLBLIND':\n",
    "                amount = small_blind_amount\n",
    "            else:\n",
    "                amount = 2 * small_blind_amount\n",
    "            funcs_db.sql_insert_history(poker_db=poker_db, phase='preflop', nr=nr, uuid=player.serialize()[1], position=i, \\\n",
    "                                        stack=2000, pot=pot, flop1='', flop2='', flop3='', turn='', river='', \\\n",
    "                                        action=player.serialize()[4][0]['action'], amount=amount, \\\n",
    "                                        new_stack=2000 - amount, new_pot=pot + amount)\n",
    "\n",
    "            nr = nr + 1\n",
    "            pot = pot + amount\n",
    "    except:\n",
    "        pass"
   ]
  },
  {
   "cell_type": "markdown",
   "metadata": {},
   "source": [
    "# Preflop phase"
   ]
  },
  {
   "cell_type": "code",
   "execution_count": 21,
   "metadata": {
    "ExecuteTime": {
     "end_time": "2019-08-22T21:23:53.973820Z",
     "start_time": "2019-08-22T21:23:52.809717Z"
    }
   },
   "outputs": [],
   "source": [
    "log = list()\n",
    "while events[-1]['type'] != 'event_game_finish':\n",
    "    \n",
    "    log.append(events[-1])\n",
    "    \n",
    "    phase = events[-1]['round_state']['street']\n",
    "    position = events[-1]['round_state']['next_player']\n",
    "    uuid = events[-1]['uuid']\n",
    "    for item in events[-1]['round_state']['seats']:\n",
    "\n",
    "        if item['uuid'] == events[-1]['uuid']:\n",
    "            stack = item['stack']\n",
    "\n",
    "    pot = events[-1]['round_state']['pot']['main']['amount']\n",
    "    valid_actions = events[-1]['valid_actions']\n",
    "\n",
    "    action, bet_amount = funcs_db.decision_point_based_action(poker_db=poker_db, phase=phase, nr=nr, position=position, \\\n",
    "                                                              stack=stack, pot=pot, valid_actions=valid_actions)\n",
    "    funcs_db.sql_insert_history(poker_db=poker_db, phase=phase, nr=nr, uuid=uuid, position=position, stack=stack, pot=pot, \\\n",
    "                                flop1='', flop2='', flop3='', turn='', river='', \\\n",
    "                                action=action.upper(), amount=bet_amount, new_stack=stack - bet_amount, new_pot=pot + bet_amount)\n",
    "    game_state, events = emulator.apply_action(game_state=game_state, action=action, bet_amount=bet_amount)\n",
    "\n",
    "    nr = nr + 1"
   ]
  },
  {
   "cell_type": "code",
   "execution_count": null,
   "metadata": {},
   "outputs": [],
   "source": []
  }
 ],
 "metadata": {
  "kernelspec": {
   "display_name": "Python 3",
   "language": "python",
   "name": "python3"
  },
  "language_info": {
   "codemirror_mode": {
    "name": "ipython",
    "version": 3
   },
   "file_extension": ".py",
   "mimetype": "text/x-python",
   "name": "python",
   "nbconvert_exporter": "python",
   "pygments_lexer": "ipython3",
   "version": "3.7.3"
  },
  "toc": {
   "base_numbering": 1,
   "nav_menu": {},
   "number_sections": true,
   "sideBar": true,
   "skip_h1_title": false,
   "title_cell": "Table of Contents",
   "title_sidebar": "Contents",
   "toc_cell": false,
   "toc_position": {},
   "toc_section_display": true,
   "toc_window_display": false
  },
  "varInspector": {
   "cols": {
    "lenName": 16,
    "lenType": 16,
    "lenVar": 40
   },
   "kernels_config": {
    "python": {
     "delete_cmd_postfix": "",
     "delete_cmd_prefix": "del ",
     "library": "var_list.py",
     "varRefreshCmd": "print(var_dic_list())"
    },
    "r": {
     "delete_cmd_postfix": ") ",
     "delete_cmd_prefix": "rm(",
     "library": "var_list.r",
     "varRefreshCmd": "cat(var_dic_list()) "
    }
   },
   "types_to_exclude": [
    "module",
    "function",
    "builtin_function_or_method",
    "instance",
    "_Feature"
   ],
   "window_display": false
  }
 },
 "nbformat": 4,
 "nbformat_minor": 2
}
