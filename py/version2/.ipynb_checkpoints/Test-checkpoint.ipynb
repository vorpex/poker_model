{
 "cells": [
  {
   "cell_type": "code",
   "execution_count": 2,
   "metadata": {
    "ExecuteTime": {
     "end_time": "2019-08-22T08:57:29.066411Z",
     "start_time": "2019-08-22T08:57:29.063402Z"
    }
   },
   "outputs": [],
   "source": [
    "import gc\n",
    "from pypokerengine.api.emulator import Emulator"
   ]
  },
  {
   "cell_type": "code",
   "execution_count": 3,
   "metadata": {
    "ExecuteTime": {
     "end_time": "2019-08-22T08:57:33.697726Z",
     "start_time": "2019-08-22T08:57:33.672694Z"
    }
   },
   "outputs": [
    {
     "data": {
      "text/plain": [
       "142"
      ]
     },
     "execution_count": 3,
     "metadata": {},
     "output_type": "execute_result"
    }
   ],
   "source": [
    "gc.collect()"
   ]
  },
  {
   "cell_type": "code",
   "execution_count": 7,
   "metadata": {
    "ExecuteTime": {
     "end_time": "2019-08-22T08:59:54.277003Z",
     "start_time": "2019-08-22T08:59:54.273995Z"
    }
   },
   "outputs": [],
   "source": [
    "emulator = Emulator()"
   ]
  },
  {
   "cell_type": "code",
   "execution_count": 8,
   "metadata": {
    "ExecuteTime": {
     "end_time": "2019-08-22T08:59:56.377655Z",
     "start_time": "2019-08-22T08:59:56.371639Z"
    }
   },
   "outputs": [],
   "source": [
    "player_num = 6\n",
    "max_round = 1\n",
    "small_blind_amount = 10\n",
    "ante_amount = 0\n",
    "\n",
    "players_info = {\n",
    "    'uuid-1': {'name': 'player1', 'stack': 2000},\n",
    "    'uuid-2': {'name': 'player2', 'stack': 2000},\n",
    "    'uuid-3': {'name': 'player3', 'stack': 2000},\n",
    "    'uuid-4': {'name': 'player4', 'stack': 2000},\n",
    "    'uuid-5': {'name': 'player5', 'stack': 2000},\n",
    "    'uuid-6': {'name': 'player6', 'stack': 2000}\n",
    "}"
   ]
  },
  {
   "cell_type": "code",
   "execution_count": 30,
   "metadata": {
    "ExecuteTime": {
     "end_time": "2019-08-22T09:08:06.531546Z",
     "start_time": "2019-08-22T09:08:06.526531Z"
    }
   },
   "outputs": [],
   "source": [
    "emulator.set_game_rule(player_num=6, max_round=1, small_blind_amount=10, ante_amount=0)\n",
    "initial_state = emulator.generate_initial_game_state(players_info)"
   ]
  },
  {
   "cell_type": "code",
   "execution_count": 31,
   "metadata": {
    "ExecuteTime": {
     "end_time": "2019-08-22T09:08:15.479397Z",
     "start_time": "2019-08-22T09:08:15.472382Z"
    }
   },
   "outputs": [
    {
     "data": {
      "text/plain": [
       "[5,\n",
       " [['player1', 'uuid-1', 2000, [], [], [0, 0], [None, None, None, None]],\n",
       "  ['player2', 'uuid-2', 2000, [], [], [0, 0], [None, None, None, None]],\n",
       "  ['player3', 'uuid-3', 2000, [], [], [0, 0], [None, None, None, None]],\n",
       "  ['player4', 'uuid-4', 2000, [], [], [0, 0], [None, None, None, None]],\n",
       "  ['player5', 'uuid-5', 2000, [], [], [0, 0], [None, None, None, None]],\n",
       "  ['player6', 'uuid-6', 2000, [], [], [0, 0], [None, None, None, None]]],\n",
       " [False,\n",
       "  [],\n",
       "  [1,\n",
       "   2,\n",
       "   3,\n",
       "   4,\n",
       "   5,\n",
       "   6,\n",
       "   7,\n",
       "   8,\n",
       "   9,\n",
       "   10,\n",
       "   11,\n",
       "   12,\n",
       "   13,\n",
       "   14,\n",
       "   15,\n",
       "   16,\n",
       "   17,\n",
       "   18,\n",
       "   19,\n",
       "   20,\n",
       "   21,\n",
       "   22,\n",
       "   23,\n",
       "   24,\n",
       "   25,\n",
       "   26,\n",
       "   27,\n",
       "   28,\n",
       "   29,\n",
       "   30,\n",
       "   31,\n",
       "   32,\n",
       "   33,\n",
       "   34,\n",
       "   35,\n",
       "   36,\n",
       "   37,\n",
       "   38,\n",
       "   39,\n",
       "   40,\n",
       "   41,\n",
       "   42,\n",
       "   43,\n",
       "   44,\n",
       "   45,\n",
       "   46,\n",
       "   47,\n",
       "   48,\n",
       "   49,\n",
       "   50,\n",
       "   51,\n",
       "   52]],\n",
       " [],\n",
       " None]"
      ]
     },
     "execution_count": 31,
     "metadata": {},
     "output_type": "execute_result"
    }
   ],
   "source": [
    "initial_state['table'].serialize()"
   ]
  },
  {
   "cell_type": "code",
   "execution_count": 32,
   "metadata": {
    "ExecuteTime": {
     "end_time": "2019-08-22T09:08:29.766482Z",
     "start_time": "2019-08-22T09:08:29.762507Z"
    }
   },
   "outputs": [],
   "source": [
    "game_state, events = emulator.start_new_round(initial_state)"
   ]
  },
  {
   "cell_type": "code",
   "execution_count": 33,
   "metadata": {
    "ExecuteTime": {
     "end_time": "2019-08-22T09:08:33.345055Z",
     "start_time": "2019-08-22T09:08:33.334023Z"
    }
   },
   "outputs": [
    {
     "data": {
      "text/plain": [
       "[0,\n",
       " [['player1', 'uuid-1', 2000, [39, 29], [], [0, 0], [None, None, None, None]],\n",
       "  ['player2',\n",
       "   'uuid-2',\n",
       "   1990,\n",
       "   [19, 33],\n",
       "   [{'action': 'SMALLBLIND',\n",
       "     'amount': 10,\n",
       "     'add_amount': 10,\n",
       "     'uuid': 'uuid-2'}],\n",
       "   [10, 0],\n",
       "   [None, None, None, None]],\n",
       "  ['player3',\n",
       "   'uuid-3',\n",
       "   1980,\n",
       "   [14, 35],\n",
       "   [{'action': 'BIGBLIND', 'amount': 20, 'add_amount': 10, 'uuid': 'uuid-3'}],\n",
       "   [20, 0],\n",
       "   [None, None, None, None]],\n",
       "  ['player4', 'uuid-4', 2000, [50, 34], [], [0, 0], [None, None, None, None]],\n",
       "  ['player5', 'uuid-5', 2000, [15, 3], [], [0, 0], [None, None, None, None]],\n",
       "  ['player6', 'uuid-6', 2000, [21, 16], [], [0, 0], [None, None, None, None]]],\n",
       " [False,\n",
       "  [],\n",
       "  [27,\n",
       "   42,\n",
       "   8,\n",
       "   41,\n",
       "   10,\n",
       "   46,\n",
       "   38,\n",
       "   18,\n",
       "   17,\n",
       "   52,\n",
       "   44,\n",
       "   49,\n",
       "   40,\n",
       "   4,\n",
       "   20,\n",
       "   25,\n",
       "   28,\n",
       "   2,\n",
       "   23,\n",
       "   51,\n",
       "   7,\n",
       "   32,\n",
       "   31,\n",
       "   30,\n",
       "   9,\n",
       "   11,\n",
       "   22,\n",
       "   24,\n",
       "   13,\n",
       "   45,\n",
       "   6,\n",
       "   48,\n",
       "   47,\n",
       "   12,\n",
       "   37,\n",
       "   43,\n",
       "   26,\n",
       "   1,\n",
       "   5,\n",
       "   36]],\n",
       " [],\n",
       " [1, 2]]"
      ]
     },
     "execution_count": 33,
     "metadata": {},
     "output_type": "execute_result"
    }
   ],
   "source": [
    "game_state['table'].serialize()"
   ]
  },
  {
   "cell_type": "code",
   "execution_count": 34,
   "metadata": {
    "ExecuteTime": {
     "end_time": "2019-08-22T09:08:36.876468Z",
     "start_time": "2019-08-22T09:08:36.868479Z"
    }
   },
   "outputs": [
    {
     "data": {
      "text/plain": [
       "[{'type': 'event_new_street',\n",
       "  'street': 'preflop',\n",
       "  'round_state': {'street': 'preflop',\n",
       "   'pot': {'main': {'amount': 30}, 'side': []},\n",
       "   'community_card': [],\n",
       "   'dealer_btn': 0,\n",
       "   'next_player': 3,\n",
       "   'small_blind_pos': 1,\n",
       "   'big_blind_pos': 2,\n",
       "   'round_count': 1,\n",
       "   'small_blind_amount': 10,\n",
       "   'seats': [{'name': 'player1',\n",
       "     'uuid': 'uuid-1',\n",
       "     'stack': 2000,\n",
       "     'state': 'participating'},\n",
       "    {'name': 'player2',\n",
       "     'uuid': 'uuid-2',\n",
       "     'stack': 1990,\n",
       "     'state': 'participating'},\n",
       "    {'name': 'player3',\n",
       "     'uuid': 'uuid-3',\n",
       "     'stack': 1980,\n",
       "     'state': 'participating'},\n",
       "    {'name': 'player4',\n",
       "     'uuid': 'uuid-4',\n",
       "     'stack': 2000,\n",
       "     'state': 'participating'},\n",
       "    {'name': 'player5',\n",
       "     'uuid': 'uuid-5',\n",
       "     'stack': 2000,\n",
       "     'state': 'participating'},\n",
       "    {'name': 'player6',\n",
       "     'uuid': 'uuid-6',\n",
       "     'stack': 2000,\n",
       "     'state': 'participating'}],\n",
       "   'action_histories': {'preflop': [{'action': 'SMALLBLIND',\n",
       "      'amount': 10,\n",
       "      'add_amount': 10,\n",
       "      'uuid': 'uuid-2'},\n",
       "     {'action': 'BIGBLIND',\n",
       "      'amount': 20,\n",
       "      'add_amount': 10,\n",
       "      'uuid': 'uuid-3'}]}}},\n",
       " {'type': 'event_ask_player',\n",
       "  'uuid': 'uuid-4',\n",
       "  'valid_actions': [{'action': 'fold', 'amount': 0},\n",
       "   {'action': 'call', 'amount': 20},\n",
       "   {'action': 'raise', 'amount': {'min': 30, 'max': 2000}}],\n",
       "  'round_state': {'street': 'preflop',\n",
       "   'pot': {'main': {'amount': 30}, 'side': []},\n",
       "   'community_card': [],\n",
       "   'dealer_btn': 0,\n",
       "   'next_player': 3,\n",
       "   'small_blind_pos': 1,\n",
       "   'big_blind_pos': 2,\n",
       "   'round_count': 1,\n",
       "   'small_blind_amount': 10,\n",
       "   'seats': [{'name': 'player1',\n",
       "     'uuid': 'uuid-1',\n",
       "     'stack': 2000,\n",
       "     'state': 'participating'},\n",
       "    {'name': 'player2',\n",
       "     'uuid': 'uuid-2',\n",
       "     'stack': 1990,\n",
       "     'state': 'participating'},\n",
       "    {'name': 'player3',\n",
       "     'uuid': 'uuid-3',\n",
       "     'stack': 1980,\n",
       "     'state': 'participating'},\n",
       "    {'name': 'player4',\n",
       "     'uuid': 'uuid-4',\n",
       "     'stack': 2000,\n",
       "     'state': 'participating'},\n",
       "    {'name': 'player5',\n",
       "     'uuid': 'uuid-5',\n",
       "     'stack': 2000,\n",
       "     'state': 'participating'},\n",
       "    {'name': 'player6',\n",
       "     'uuid': 'uuid-6',\n",
       "     'stack': 2000,\n",
       "     'state': 'participating'}],\n",
       "   'action_histories': {'preflop': [{'action': 'SMALLBLIND',\n",
       "      'amount': 10,\n",
       "      'add_amount': 10,\n",
       "      'uuid': 'uuid-2'},\n",
       "     {'action': 'BIGBLIND',\n",
       "      'amount': 20,\n",
       "      'add_amount': 10,\n",
       "      'uuid': 'uuid-3'}]}}}]"
      ]
     },
     "execution_count": 34,
     "metadata": {},
     "output_type": "execute_result"
    }
   ],
   "source": [
    "events"
   ]
  },
  {
   "cell_type": "code",
   "execution_count": 35,
   "metadata": {
    "ExecuteTime": {
     "end_time": "2019-08-22T09:10:33.198771Z",
     "start_time": "2019-08-22T09:10:33.191754Z"
    }
   },
   "outputs": [],
   "source": [
    "game_state, events = emulator.apply_action(game_state=game_state, action='raise', bet_amount=30)"
   ]
  },
  {
   "cell_type": "code",
   "execution_count": 36,
   "metadata": {
    "ExecuteTime": {
     "end_time": "2019-08-22T09:10:46.022316Z",
     "start_time": "2019-08-22T09:10:46.011287Z"
    }
   },
   "outputs": [
    {
     "data": {
      "text/plain": [
       "[0,\n",
       " [['player1', 'uuid-1', 2000, [39, 29], [], [0, 0], [None, None, None, None]],\n",
       "  ['player2',\n",
       "   'uuid-2',\n",
       "   1990,\n",
       "   [19, 33],\n",
       "   [{'action': 'SMALLBLIND',\n",
       "     'amount': 10,\n",
       "     'add_amount': 10,\n",
       "     'uuid': 'uuid-2'}],\n",
       "   [10, 0],\n",
       "   [None, None, None, None]],\n",
       "  ['player3',\n",
       "   'uuid-3',\n",
       "   1980,\n",
       "   [14, 35],\n",
       "   [{'action': 'BIGBLIND', 'amount': 20, 'add_amount': 10, 'uuid': 'uuid-3'}],\n",
       "   [20, 0],\n",
       "   [None, None, None, None]],\n",
       "  ['player4',\n",
       "   'uuid-4',\n",
       "   1970,\n",
       "   [50, 34],\n",
       "   [{'action': 'RAISE',\n",
       "     'amount': 30,\n",
       "     'paid': 30,\n",
       "     'add_amount': 10,\n",
       "     'uuid': 'uuid-4'}],\n",
       "   [30, 0],\n",
       "   [None, None, None, None]],\n",
       "  ['player5', 'uuid-5', 2000, [15, 3], [], [0, 0], [None, None, None, None]],\n",
       "  ['player6', 'uuid-6', 2000, [21, 16], [], [0, 0], [None, None, None, None]]],\n",
       " [False,\n",
       "  [],\n",
       "  [27,\n",
       "   42,\n",
       "   8,\n",
       "   41,\n",
       "   10,\n",
       "   46,\n",
       "   38,\n",
       "   18,\n",
       "   17,\n",
       "   52,\n",
       "   44,\n",
       "   49,\n",
       "   40,\n",
       "   4,\n",
       "   20,\n",
       "   25,\n",
       "   28,\n",
       "   2,\n",
       "   23,\n",
       "   51,\n",
       "   7,\n",
       "   32,\n",
       "   31,\n",
       "   30,\n",
       "   9,\n",
       "   11,\n",
       "   22,\n",
       "   24,\n",
       "   13,\n",
       "   45,\n",
       "   6,\n",
       "   48,\n",
       "   47,\n",
       "   12,\n",
       "   37,\n",
       "   43,\n",
       "   26,\n",
       "   1,\n",
       "   5,\n",
       "   36]],\n",
       " [],\n",
       " [1, 2]]"
      ]
     },
     "execution_count": 36,
     "metadata": {},
     "output_type": "execute_result"
    }
   ],
   "source": [
    "game_state['table'].serialize()"
   ]
  },
  {
   "cell_type": "code",
   "execution_count": 37,
   "metadata": {
    "ExecuteTime": {
     "end_time": "2019-08-22T09:11:07.719245Z",
     "start_time": "2019-08-22T09:11:07.710221Z"
    }
   },
   "outputs": [
    {
     "data": {
      "text/plain": [
       "[{'type': 'event_ask_player',\n",
       "  'uuid': 'uuid-5',\n",
       "  'valid_actions': [{'action': 'fold', 'amount': 0},\n",
       "   {'action': 'call', 'amount': 30},\n",
       "   {'action': 'raise', 'amount': {'min': 40, 'max': 2000}}],\n",
       "  'round_state': {'street': 'preflop',\n",
       "   'pot': {'main': {'amount': 60}, 'side': []},\n",
       "   'community_card': [],\n",
       "   'dealer_btn': 0,\n",
       "   'next_player': 4,\n",
       "   'small_blind_pos': 1,\n",
       "   'big_blind_pos': 2,\n",
       "   'round_count': 1,\n",
       "   'small_blind_amount': 10,\n",
       "   'seats': [{'name': 'player1',\n",
       "     'uuid': 'uuid-1',\n",
       "     'stack': 2000,\n",
       "     'state': 'participating'},\n",
       "    {'name': 'player2',\n",
       "     'uuid': 'uuid-2',\n",
       "     'stack': 1990,\n",
       "     'state': 'participating'},\n",
       "    {'name': 'player3',\n",
       "     'uuid': 'uuid-3',\n",
       "     'stack': 1980,\n",
       "     'state': 'participating'},\n",
       "    {'name': 'player4',\n",
       "     'uuid': 'uuid-4',\n",
       "     'stack': 1970,\n",
       "     'state': 'participating'},\n",
       "    {'name': 'player5',\n",
       "     'uuid': 'uuid-5',\n",
       "     'stack': 2000,\n",
       "     'state': 'participating'},\n",
       "    {'name': 'player6',\n",
       "     'uuid': 'uuid-6',\n",
       "     'stack': 2000,\n",
       "     'state': 'participating'}],\n",
       "   'action_histories': {'preflop': [{'action': 'SMALLBLIND',\n",
       "      'amount': 10,\n",
       "      'add_amount': 10,\n",
       "      'uuid': 'uuid-2'},\n",
       "     {'action': 'BIGBLIND', 'amount': 20, 'add_amount': 10, 'uuid': 'uuid-3'},\n",
       "     {'action': 'RAISE',\n",
       "      'amount': 30,\n",
       "      'paid': 30,\n",
       "      'add_amount': 10,\n",
       "      'uuid': 'uuid-4'}]}}}]"
      ]
     },
     "execution_count": 37,
     "metadata": {},
     "output_type": "execute_result"
    }
   ],
   "source": [
    "events"
   ]
  },
  {
   "cell_type": "code",
   "execution_count": 38,
   "metadata": {
    "ExecuteTime": {
     "end_time": "2019-08-22T09:12:27.258704Z",
     "start_time": "2019-08-22T09:12:27.253689Z"
    }
   },
   "outputs": [],
   "source": [
    "game_state, events = emulator.apply_action(game_state=game_state, action='fold', bet_amount=0)"
   ]
  },
  {
   "cell_type": "code",
   "execution_count": 39,
   "metadata": {
    "ExecuteTime": {
     "end_time": "2019-08-22T09:12:37.713315Z",
     "start_time": "2019-08-22T09:12:37.705298Z"
    }
   },
   "outputs": [
    {
     "data": {
      "text/plain": [
       "[0,\n",
       " [['player1', 'uuid-1', 2000, [39, 29], [], [0, 0], [None, None, None, None]],\n",
       "  ['player2',\n",
       "   'uuid-2',\n",
       "   1990,\n",
       "   [19, 33],\n",
       "   [{'action': 'SMALLBLIND',\n",
       "     'amount': 10,\n",
       "     'add_amount': 10,\n",
       "     'uuid': 'uuid-2'}],\n",
       "   [10, 0],\n",
       "   [None, None, None, None]],\n",
       "  ['player3',\n",
       "   'uuid-3',\n",
       "   1980,\n",
       "   [14, 35],\n",
       "   [{'action': 'BIGBLIND', 'amount': 20, 'add_amount': 10, 'uuid': 'uuid-3'}],\n",
       "   [20, 0],\n",
       "   [None, None, None, None]],\n",
       "  ['player4',\n",
       "   'uuid-4',\n",
       "   1970,\n",
       "   [50, 34],\n",
       "   [{'action': 'RAISE',\n",
       "     'amount': 30,\n",
       "     'paid': 30,\n",
       "     'add_amount': 10,\n",
       "     'uuid': 'uuid-4'}],\n",
       "   [30, 0],\n",
       "   [None, None, None, None]],\n",
       "  ['player5',\n",
       "   'uuid-5',\n",
       "   2000,\n",
       "   [15, 3],\n",
       "   [{'action': 'FOLD', 'uuid': 'uuid-5'}],\n",
       "   [0, 2],\n",
       "   [None, None, None, None]],\n",
       "  ['player6', 'uuid-6', 2000, [21, 16], [], [0, 0], [None, None, None, None]]],\n",
       " [False,\n",
       "  [],\n",
       "  [27,\n",
       "   42,\n",
       "   8,\n",
       "   41,\n",
       "   10,\n",
       "   46,\n",
       "   38,\n",
       "   18,\n",
       "   17,\n",
       "   52,\n",
       "   44,\n",
       "   49,\n",
       "   40,\n",
       "   4,\n",
       "   20,\n",
       "   25,\n",
       "   28,\n",
       "   2,\n",
       "   23,\n",
       "   51,\n",
       "   7,\n",
       "   32,\n",
       "   31,\n",
       "   30,\n",
       "   9,\n",
       "   11,\n",
       "   22,\n",
       "   24,\n",
       "   13,\n",
       "   45,\n",
       "   6,\n",
       "   48,\n",
       "   47,\n",
       "   12,\n",
       "   37,\n",
       "   43,\n",
       "   26,\n",
       "   1,\n",
       "   5,\n",
       "   36]],\n",
       " [],\n",
       " [1, 2]]"
      ]
     },
     "execution_count": 39,
     "metadata": {},
     "output_type": "execute_result"
    }
   ],
   "source": [
    "game_state['table'].serialize()"
   ]
  },
  {
   "cell_type": "code",
   "execution_count": 40,
   "metadata": {
    "ExecuteTime": {
     "end_time": "2019-08-22T09:12:50.173085Z",
     "start_time": "2019-08-22T09:12:50.164094Z"
    }
   },
   "outputs": [
    {
     "data": {
      "text/plain": [
       "[{'type': 'event_ask_player',\n",
       "  'uuid': 'uuid-6',\n",
       "  'valid_actions': [{'action': 'fold', 'amount': 0},\n",
       "   {'action': 'call', 'amount': 30},\n",
       "   {'action': 'raise', 'amount': {'min': 40, 'max': 2000}}],\n",
       "  'round_state': {'street': 'preflop',\n",
       "   'pot': {'main': {'amount': 60}, 'side': []},\n",
       "   'community_card': [],\n",
       "   'dealer_btn': 0,\n",
       "   'next_player': 5,\n",
       "   'small_blind_pos': 1,\n",
       "   'big_blind_pos': 2,\n",
       "   'round_count': 1,\n",
       "   'small_blind_amount': 10,\n",
       "   'seats': [{'name': 'player1',\n",
       "     'uuid': 'uuid-1',\n",
       "     'stack': 2000,\n",
       "     'state': 'participating'},\n",
       "    {'name': 'player2',\n",
       "     'uuid': 'uuid-2',\n",
       "     'stack': 1990,\n",
       "     'state': 'participating'},\n",
       "    {'name': 'player3',\n",
       "     'uuid': 'uuid-3',\n",
       "     'stack': 1980,\n",
       "     'state': 'participating'},\n",
       "    {'name': 'player4',\n",
       "     'uuid': 'uuid-4',\n",
       "     'stack': 1970,\n",
       "     'state': 'participating'},\n",
       "    {'name': 'player5', 'uuid': 'uuid-5', 'stack': 2000, 'state': 'folded'},\n",
       "    {'name': 'player6',\n",
       "     'uuid': 'uuid-6',\n",
       "     'stack': 2000,\n",
       "     'state': 'participating'}],\n",
       "   'action_histories': {'preflop': [{'action': 'SMALLBLIND',\n",
       "      'amount': 10,\n",
       "      'add_amount': 10,\n",
       "      'uuid': 'uuid-2'},\n",
       "     {'action': 'BIGBLIND', 'amount': 20, 'add_amount': 10, 'uuid': 'uuid-3'},\n",
       "     {'action': 'RAISE',\n",
       "      'amount': 30,\n",
       "      'paid': 30,\n",
       "      'add_amount': 10,\n",
       "      'uuid': 'uuid-4'},\n",
       "     {'action': 'FOLD', 'uuid': 'uuid-5'}]}}}]"
      ]
     },
     "execution_count": 40,
     "metadata": {},
     "output_type": "execute_result"
    }
   ],
   "source": [
    "events"
   ]
  },
  {
   "cell_type": "code",
   "execution_count": 41,
   "metadata": {
    "ExecuteTime": {
     "end_time": "2019-08-22T09:13:22.705437Z",
     "start_time": "2019-08-22T09:13:22.699422Z"
    }
   },
   "outputs": [],
   "source": [
    "game_state, events = emulator.apply_action(game_state=game_state, action='call', bet_amount=30)"
   ]
  },
  {
   "cell_type": "code",
   "execution_count": 42,
   "metadata": {
    "ExecuteTime": {
     "end_time": "2019-08-22T09:13:34.810630Z",
     "start_time": "2019-08-22T09:13:34.798598Z"
    }
   },
   "outputs": [
    {
     "data": {
      "text/plain": [
       "[0,\n",
       " [['player1', 'uuid-1', 2000, [39, 29], [], [0, 0], [None, None, None, None]],\n",
       "  ['player2',\n",
       "   'uuid-2',\n",
       "   1990,\n",
       "   [19, 33],\n",
       "   [{'action': 'SMALLBLIND',\n",
       "     'amount': 10,\n",
       "     'add_amount': 10,\n",
       "     'uuid': 'uuid-2'}],\n",
       "   [10, 0],\n",
       "   [None, None, None, None]],\n",
       "  ['player3',\n",
       "   'uuid-3',\n",
       "   1980,\n",
       "   [14, 35],\n",
       "   [{'action': 'BIGBLIND', 'amount': 20, 'add_amount': 10, 'uuid': 'uuid-3'}],\n",
       "   [20, 0],\n",
       "   [None, None, None, None]],\n",
       "  ['player4',\n",
       "   'uuid-4',\n",
       "   1970,\n",
       "   [50, 34],\n",
       "   [{'action': 'RAISE',\n",
       "     'amount': 30,\n",
       "     'paid': 30,\n",
       "     'add_amount': 10,\n",
       "     'uuid': 'uuid-4'}],\n",
       "   [30, 0],\n",
       "   [None, None, None, None]],\n",
       "  ['player5',\n",
       "   'uuid-5',\n",
       "   2000,\n",
       "   [15, 3],\n",
       "   [{'action': 'FOLD', 'uuid': 'uuid-5'}],\n",
       "   [0, 2],\n",
       "   [None, None, None, None]],\n",
       "  ['player6',\n",
       "   'uuid-6',\n",
       "   1970,\n",
       "   [21, 16],\n",
       "   [{'action': 'CALL', 'amount': 30, 'paid': 30, 'uuid': 'uuid-6'}],\n",
       "   [30, 0],\n",
       "   [None, None, None, None]]],\n",
       " [False,\n",
       "  [],\n",
       "  [27,\n",
       "   42,\n",
       "   8,\n",
       "   41,\n",
       "   10,\n",
       "   46,\n",
       "   38,\n",
       "   18,\n",
       "   17,\n",
       "   52,\n",
       "   44,\n",
       "   49,\n",
       "   40,\n",
       "   4,\n",
       "   20,\n",
       "   25,\n",
       "   28,\n",
       "   2,\n",
       "   23,\n",
       "   51,\n",
       "   7,\n",
       "   32,\n",
       "   31,\n",
       "   30,\n",
       "   9,\n",
       "   11,\n",
       "   22,\n",
       "   24,\n",
       "   13,\n",
       "   45,\n",
       "   6,\n",
       "   48,\n",
       "   47,\n",
       "   12,\n",
       "   37,\n",
       "   43,\n",
       "   26,\n",
       "   1,\n",
       "   5,\n",
       "   36]],\n",
       " [],\n",
       " [1, 2]]"
      ]
     },
     "execution_count": 42,
     "metadata": {},
     "output_type": "execute_result"
    }
   ],
   "source": [
    "game_state['table'].serialize()"
   ]
  },
  {
   "cell_type": "code",
   "execution_count": 43,
   "metadata": {
    "ExecuteTime": {
     "end_time": "2019-08-22T09:13:46.683199Z",
     "start_time": "2019-08-22T09:13:46.677185Z"
    }
   },
   "outputs": [
    {
     "data": {
      "text/plain": [
       "[{'type': 'event_ask_player',\n",
       "  'uuid': 'uuid-1',\n",
       "  'valid_actions': [{'action': 'fold', 'amount': 0},\n",
       "   {'action': 'call', 'amount': 30},\n",
       "   {'action': 'raise', 'amount': {'min': 40, 'max': 2000}}],\n",
       "  'round_state': {'street': 'preflop',\n",
       "   'pot': {'main': {'amount': 90}, 'side': []},\n",
       "   'community_card': [],\n",
       "   'dealer_btn': 0,\n",
       "   'next_player': 0,\n",
       "   'small_blind_pos': 1,\n",
       "   'big_blind_pos': 2,\n",
       "   'round_count': 1,\n",
       "   'small_blind_amount': 10,\n",
       "   'seats': [{'name': 'player1',\n",
       "     'uuid': 'uuid-1',\n",
       "     'stack': 2000,\n",
       "     'state': 'participating'},\n",
       "    {'name': 'player2',\n",
       "     'uuid': 'uuid-2',\n",
       "     'stack': 1990,\n",
       "     'state': 'participating'},\n",
       "    {'name': 'player3',\n",
       "     'uuid': 'uuid-3',\n",
       "     'stack': 1980,\n",
       "     'state': 'participating'},\n",
       "    {'name': 'player4',\n",
       "     'uuid': 'uuid-4',\n",
       "     'stack': 1970,\n",
       "     'state': 'participating'},\n",
       "    {'name': 'player5', 'uuid': 'uuid-5', 'stack': 2000, 'state': 'folded'},\n",
       "    {'name': 'player6',\n",
       "     'uuid': 'uuid-6',\n",
       "     'stack': 1970,\n",
       "     'state': 'participating'}],\n",
       "   'action_histories': {'preflop': [{'action': 'SMALLBLIND',\n",
       "      'amount': 10,\n",
       "      'add_amount': 10,\n",
       "      'uuid': 'uuid-2'},\n",
       "     {'action': 'BIGBLIND', 'amount': 20, 'add_amount': 10, 'uuid': 'uuid-3'},\n",
       "     {'action': 'RAISE',\n",
       "      'amount': 30,\n",
       "      'paid': 30,\n",
       "      'add_amount': 10,\n",
       "      'uuid': 'uuid-4'},\n",
       "     {'action': 'FOLD', 'uuid': 'uuid-5'},\n",
       "     {'action': 'CALL', 'amount': 30, 'paid': 30, 'uuid': 'uuid-6'}]}}}]"
      ]
     },
     "execution_count": 43,
     "metadata": {},
     "output_type": "execute_result"
    }
   ],
   "source": [
    "events"
   ]
  },
  {
   "cell_type": "code",
   "execution_count": 53,
   "metadata": {
    "ExecuteTime": {
     "end_time": "2019-08-22T09:20:08.537781Z",
     "start_time": "2019-08-22T09:20:08.479625Z"
    }
   },
   "outputs": [
    {
     "ename": "KeyError",
     "evalue": "'uuid-5'",
     "output_type": "error",
     "traceback": [
      "\u001b[1;31m---------------------------------------------------------------------------\u001b[0m",
      "\u001b[1;31mKeyError\u001b[0m                                  Traceback (most recent call last)",
      "\u001b[1;32m<ipython-input-53-cffbf8bc7471>\u001b[0m in \u001b[0;36m<module>\u001b[1;34m\u001b[0m\n\u001b[0;32m      3\u001b[0m \u001b[0mgame_state\u001b[0m\u001b[1;33m,\u001b[0m \u001b[0mevents\u001b[0m \u001b[1;33m=\u001b[0m \u001b[0memulator\u001b[0m\u001b[1;33m.\u001b[0m\u001b[0mstart_new_round\u001b[0m\u001b[1;33m(\u001b[0m\u001b[0minitial_state\u001b[0m\u001b[1;33m)\u001b[0m\u001b[1;33m\u001b[0m\u001b[1;33m\u001b[0m\u001b[0m\n\u001b[0;32m      4\u001b[0m \u001b[0mgame_state\u001b[0m\u001b[1;33m,\u001b[0m \u001b[0mevents\u001b[0m \u001b[1;33m=\u001b[0m \u001b[0memulator\u001b[0m\u001b[1;33m.\u001b[0m\u001b[0mapply_action\u001b[0m\u001b[1;33m(\u001b[0m\u001b[0mgame_state\u001b[0m\u001b[1;33m=\u001b[0m\u001b[0mgame_state\u001b[0m\u001b[1;33m,\u001b[0m \u001b[0maction\u001b[0m\u001b[1;33m=\u001b[0m\u001b[1;34m'call'\u001b[0m\u001b[1;33m,\u001b[0m \u001b[0mbet_amount\u001b[0m\u001b[1;33m=\u001b[0m\u001b[1;36m30\u001b[0m\u001b[1;33m)\u001b[0m\u001b[1;33m\u001b[0m\u001b[1;33m\u001b[0m\u001b[0m\n\u001b[1;32m----> 5\u001b[1;33m \u001b[0memulator\u001b[0m\u001b[1;33m.\u001b[0m\u001b[0mrun_until_game_finish\u001b[0m\u001b[1;33m(\u001b[0m\u001b[0mgame_state\u001b[0m\u001b[1;33m)\u001b[0m\u001b[1;33m\u001b[0m\u001b[1;33m\u001b[0m\u001b[0m\n\u001b[0m",
      "\u001b[1;32mC:\\ProgramData\\Anaconda3\\lib\\site-packages\\pypokerengine\\api\\emulator.py\u001b[0m in \u001b[0;36mrun_until_game_finish\u001b[1;34m(self, game_state)\u001b[0m\n\u001b[0;32m     95\u001b[0m         \u001b[0mevent_box\u001b[0m\u001b[1;33m=\u001b[0m \u001b[1;33m[\u001b[0m\u001b[1;33m]\u001b[0m\u001b[1;33m\u001b[0m\u001b[1;33m\u001b[0m\u001b[0m\n\u001b[0;32m     96\u001b[0m         \u001b[1;32mif\u001b[0m \u001b[0mgame_state\u001b[0m\u001b[1;33m[\u001b[0m\u001b[1;34m\"street\"\u001b[0m\u001b[1;33m]\u001b[0m \u001b[1;33m!=\u001b[0m \u001b[0mConst\u001b[0m\u001b[1;33m.\u001b[0m\u001b[0mStreet\u001b[0m\u001b[1;33m.\u001b[0m\u001b[0mFINISHED\u001b[0m\u001b[1;33m:\u001b[0m\u001b[1;33m\u001b[0m\u001b[1;33m\u001b[0m\u001b[0m\n\u001b[1;32m---> 97\u001b[1;33m             \u001b[0mgame_state\u001b[0m\u001b[1;33m,\u001b[0m \u001b[0mevents\u001b[0m \u001b[1;33m=\u001b[0m \u001b[0mself\u001b[0m\u001b[1;33m.\u001b[0m\u001b[0mrun_until_round_finish\u001b[0m\u001b[1;33m(\u001b[0m\u001b[0mgame_state\u001b[0m\u001b[1;33m)\u001b[0m\u001b[1;33m\u001b[0m\u001b[1;33m\u001b[0m\u001b[0m\n\u001b[0m\u001b[0;32m     98\u001b[0m             \u001b[0mevent_box\u001b[0m \u001b[1;33m+=\u001b[0m \u001b[0mevents\u001b[0m\u001b[1;33m\u001b[0m\u001b[1;33m\u001b[0m\u001b[0m\n\u001b[0;32m     99\u001b[0m         \u001b[1;32mwhile\u001b[0m \u001b[1;32mTrue\u001b[0m\u001b[1;33m:\u001b[0m\u001b[1;33m\u001b[0m\u001b[1;33m\u001b[0m\u001b[0m\n",
      "\u001b[1;32mC:\\ProgramData\\Anaconda3\\lib\\site-packages\\pypokerengine\\api\\emulator.py\u001b[0m in \u001b[0;36mrun_until_round_finish\u001b[1;34m(self, game_state)\u001b[0m\n\u001b[0;32m     79\u001b[0m             \u001b[0mnext_player_pos\u001b[0m \u001b[1;33m=\u001b[0m \u001b[0mgame_state\u001b[0m\u001b[1;33m[\u001b[0m\u001b[1;34m\"next_player\"\u001b[0m\u001b[1;33m]\u001b[0m\u001b[1;33m\u001b[0m\u001b[1;33m\u001b[0m\u001b[0m\n\u001b[0;32m     80\u001b[0m             \u001b[0mnext_player_uuid\u001b[0m \u001b[1;33m=\u001b[0m \u001b[0mgame_state\u001b[0m\u001b[1;33m[\u001b[0m\u001b[1;34m\"table\"\u001b[0m\u001b[1;33m]\u001b[0m\u001b[1;33m.\u001b[0m\u001b[0mseats\u001b[0m\u001b[1;33m.\u001b[0m\u001b[0mplayers\u001b[0m\u001b[1;33m[\u001b[0m\u001b[0mnext_player_pos\u001b[0m\u001b[1;33m]\u001b[0m\u001b[1;33m.\u001b[0m\u001b[0muuid\u001b[0m\u001b[1;33m\u001b[0m\u001b[1;33m\u001b[0m\u001b[0m\n\u001b[1;32m---> 81\u001b[1;33m             \u001b[0mnext_player_algorithm\u001b[0m \u001b[1;33m=\u001b[0m \u001b[0mself\u001b[0m\u001b[1;33m.\u001b[0m\u001b[0mfetch_player\u001b[0m\u001b[1;33m(\u001b[0m\u001b[0mnext_player_uuid\u001b[0m\u001b[1;33m)\u001b[0m\u001b[1;33m\u001b[0m\u001b[1;33m\u001b[0m\u001b[0m\n\u001b[0m\u001b[0;32m     82\u001b[0m             \u001b[0mmsg\u001b[0m \u001b[1;33m=\u001b[0m \u001b[0mMessageBuilder\u001b[0m\u001b[1;33m.\u001b[0m\u001b[0mbuild_ask_message\u001b[0m\u001b[1;33m(\u001b[0m\u001b[0mnext_player_pos\u001b[0m\u001b[1;33m,\u001b[0m \u001b[0mgame_state\u001b[0m\u001b[1;33m)\u001b[0m\u001b[1;33m[\u001b[0m\u001b[1;34m\"message\"\u001b[0m\u001b[1;33m]\u001b[0m\u001b[1;33m\u001b[0m\u001b[1;33m\u001b[0m\u001b[0m\n\u001b[0;32m     83\u001b[0m             action, amount = next_player_algorithm.declare_action(\\\n",
      "\u001b[1;32mC:\\ProgramData\\Anaconda3\\lib\\site-packages\\pypokerengine\\api\\emulator.py\u001b[0m in \u001b[0;36mfetch_player\u001b[1;34m(self, uuid)\u001b[0m\n\u001b[0;32m     35\u001b[0m \u001b[1;33m\u001b[0m\u001b[0m\n\u001b[0;32m     36\u001b[0m     \u001b[1;32mdef\u001b[0m \u001b[0mfetch_player\u001b[0m\u001b[1;33m(\u001b[0m\u001b[0mself\u001b[0m\u001b[1;33m,\u001b[0m \u001b[0muuid\u001b[0m\u001b[1;33m)\u001b[0m\u001b[1;33m:\u001b[0m\u001b[1;33m\u001b[0m\u001b[1;33m\u001b[0m\u001b[0m\n\u001b[1;32m---> 37\u001b[1;33m         \u001b[1;32mreturn\u001b[0m \u001b[0mself\u001b[0m\u001b[1;33m.\u001b[0m\u001b[0mplayers_holder\u001b[0m\u001b[1;33m[\u001b[0m\u001b[0muuid\u001b[0m\u001b[1;33m]\u001b[0m\u001b[1;33m\u001b[0m\u001b[1;33m\u001b[0m\u001b[0m\n\u001b[0m\u001b[0;32m     38\u001b[0m \u001b[1;33m\u001b[0m\u001b[0m\n\u001b[0;32m     39\u001b[0m     \u001b[1;32mdef\u001b[0m \u001b[0mgenerate_initial_game_state\u001b[0m\u001b[1;33m(\u001b[0m\u001b[0mself\u001b[0m\u001b[1;33m,\u001b[0m \u001b[0mplayers_info\u001b[0m\u001b[1;33m)\u001b[0m\u001b[1;33m:\u001b[0m\u001b[1;33m\u001b[0m\u001b[1;33m\u001b[0m\u001b[0m\n",
      "\u001b[1;31mKeyError\u001b[0m: 'uuid-5'"
     ]
    }
   ],
   "source": [
    "emulator.set_game_rule(player_num=6, max_round=1, small_blind_amount=10, ante_amount=0)\n",
    "initial_state = emulator.generate_initial_game_state(players_info)\n",
    "game_state, events = emulator.start_new_round(initial_state)\n",
    "game_state, events = emulator.apply_action(game_state=game_state, action='call', bet_amount=30)\n",
    "emulator.run_until_game_finish(game_state)"
   ]
  },
  {
   "cell_type": "code",
   "execution_count": null,
   "metadata": {},
   "outputs": [],
   "source": []
  }
 ],
 "metadata": {
  "kernelspec": {
   "display_name": "Python 3",
   "language": "python",
   "name": "python3"
  },
  "language_info": {
   "codemirror_mode": {
    "name": "ipython",
    "version": 3
   },
   "file_extension": ".py",
   "mimetype": "text/x-python",
   "name": "python",
   "nbconvert_exporter": "python",
   "pygments_lexer": "ipython3",
   "version": "3.7.3"
  },
  "toc": {
   "base_numbering": 1,
   "nav_menu": {},
   "number_sections": true,
   "sideBar": true,
   "skip_h1_title": false,
   "title_cell": "Table of Contents",
   "title_sidebar": "Contents",
   "toc_cell": false,
   "toc_position": {},
   "toc_section_display": true,
   "toc_window_display": false
  },
  "varInspector": {
   "cols": {
    "lenName": 16,
    "lenType": 16,
    "lenVar": 40
   },
   "kernels_config": {
    "python": {
     "delete_cmd_postfix": "",
     "delete_cmd_prefix": "del ",
     "library": "var_list.py",
     "varRefreshCmd": "print(var_dic_list())"
    },
    "r": {
     "delete_cmd_postfix": ") ",
     "delete_cmd_prefix": "rm(",
     "library": "var_list.r",
     "varRefreshCmd": "cat(var_dic_list()) "
    }
   },
   "types_to_exclude": [
    "module",
    "function",
    "builtin_function_or_method",
    "instance",
    "_Feature"
   ],
   "window_display": false
  }
 },
 "nbformat": 4,
 "nbformat_minor": 2
}
