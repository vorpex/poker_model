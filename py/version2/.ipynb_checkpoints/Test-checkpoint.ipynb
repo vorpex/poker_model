{
 "cells": [
  {
   "cell_type": "code",
   "execution_count": 1,
   "metadata": {
    "ExecuteTime": {
     "end_time": "2019-08-23T23:45:59.992233Z",
     "start_time": "2019-08-23T23:45:59.926060Z"
    }
   },
   "outputs": [],
   "source": [
    "import gc\n",
    "from pypokerengine.api.emulator import Emulator"
   ]
  },
  {
   "cell_type": "code",
   "execution_count": 2,
   "metadata": {
    "ExecuteTime": {
     "end_time": "2019-08-23T23:46:00.046378Z",
     "start_time": "2019-08-23T23:45:59.996246Z"
    }
   },
   "outputs": [
    {
     "data": {
      "text/plain": [
       "20"
      ]
     },
     "execution_count": 2,
     "metadata": {},
     "output_type": "execute_result"
    }
   ],
   "source": [
    "gc.collect()"
   ]
  },
  {
   "cell_type": "code",
   "execution_count": 3,
   "metadata": {
    "ExecuteTime": {
     "end_time": "2019-08-23T23:46:00.063424Z",
     "start_time": "2019-08-23T23:46:00.055402Z"
    }
   },
   "outputs": [],
   "source": [
    "emulator = Emulator()"
   ]
  },
  {
   "cell_type": "code",
   "execution_count": 4,
   "metadata": {
    "ExecuteTime": {
     "end_time": "2019-08-23T23:46:00.079465Z",
     "start_time": "2019-08-23T23:46:00.070442Z"
    }
   },
   "outputs": [],
   "source": [
    "player_num = 6\n",
    "max_round = 1\n",
    "small_blind_amount = 10\n",
    "ante_amount = 0\n",
    "stack = 2000\n",
    "\n",
    "players_info = {\n",
    "    'uuid-0': {'name': 'player0', 'stack': stack},\n",
    "    'uuid-1': {'name': 'player1', 'stack': stack},\n",
    "    'uuid-2': {'name': 'player2', 'stack': stack},\n",
    "    'uuid-3': {'name': 'player3', 'stack': stack},\n",
    "    'uuid-4': {'name': 'player4', 'stack': 1000},\n",
    "    'uuid-5': {'name': 'player5', 'stack': stack}\n",
    "}"
   ]
  },
  {
   "cell_type": "code",
   "execution_count": 5,
   "metadata": {
    "ExecuteTime": {
     "end_time": "2019-08-23T23:46:00.090495Z",
     "start_time": "2019-08-23T23:46:00.083477Z"
    }
   },
   "outputs": [],
   "source": [
    "emulator.set_game_rule(player_num=6, max_round=1, small_blind_amount=10, ante_amount=0)\n",
    "initial_state = emulator.generate_initial_game_state(players_info)\n",
    "game_state, events = emulator.start_new_round(initial_state)"
   ]
  },
  {
   "cell_type": "code",
   "execution_count": 6,
   "metadata": {
    "ExecuteTime": {
     "end_time": "2019-08-23T23:46:00.128595Z",
     "start_time": "2019-08-23T23:46:00.093502Z"
    }
   },
   "outputs": [
    {
     "data": {
      "text/plain": [
       "\"\\nlog = list()\\nwhile events[-1]['type'] != 'event_game_finish':\\n    \\n    log.append({'data': [events[-1]['round_state']['pot']['main']['amount'], events[-1]['valid_actions']]})\\n    valid_actions = events[-1]['valid_actions']\\n    actions = [action['action'] for action in valid_actions]\\n    possibilities = [1 / len(actions) for i in actions]\\n    action = np.random.choice(actions, p=possibilities)\\n    for move in valid_actions:\\n        \\n        if move['action'] == action and action != 'raise':\\n            bet_amount = move['amount']\\n        elif move['action'] == action and action == 'raise':\\n            bet_amount = np.random.randint(move['amount']['min'], move['amount']['max'] + 1)\\n        else:\\n            pass\\n    \\n    game_state, events = emulator.apply_action(game_state=game_state, action=action, bet_amount=bet_amount)\\n\""
      ]
     },
     "execution_count": 6,
     "metadata": {},
     "output_type": "execute_result"
    }
   ],
   "source": [
    "'''\n",
    "log = list()\n",
    "while events[-1]['type'] != 'event_game_finish':\n",
    "    \n",
    "    log.append({'data': [events[-1]['round_state']['pot']['main']['amount'], events[-1]['valid_actions']]})\n",
    "    valid_actions = events[-1]['valid_actions']\n",
    "    actions = [action['action'] for action in valid_actions]\n",
    "    possibilities = [1 / len(actions) for i in actions]\n",
    "    action = np.random.choice(actions, p=possibilities)\n",
    "    for move in valid_actions:\n",
    "        \n",
    "        if move['action'] == action and action != 'raise':\n",
    "            bet_amount = move['amount']\n",
    "        elif move['action'] == action and action == 'raise':\n",
    "            bet_amount = np.random.randint(move['amount']['min'], move['amount']['max'] + 1)\n",
    "        else:\n",
    "            pass\n",
    "    \n",
    "    game_state, events = emulator.apply_action(game_state=game_state, action=action, bet_amount=bet_amount)\n",
    "'''"
   ]
  },
  {
   "cell_type": "code",
   "execution_count": 7,
   "metadata": {
    "ExecuteTime": {
     "end_time": "2019-08-23T23:46:00.164692Z",
     "start_time": "2019-08-23T23:46:00.131604Z"
    }
   },
   "outputs": [],
   "source": [
    "# events[0]['round_state']['action_histories']"
   ]
  },
  {
   "cell_type": "code",
   "execution_count": 8,
   "metadata": {
    "ExecuteTime": {
     "end_time": "2019-08-23T23:46:00.176723Z",
     "start_time": "2019-08-23T23:46:00.167700Z"
    }
   },
   "outputs": [],
   "source": [
    "# log"
   ]
  },
  {
   "cell_type": "code",
   "execution_count": 9,
   "metadata": {
    "ExecuteTime": {
     "end_time": "2019-08-23T23:46:00.196778Z",
     "start_time": "2019-08-23T23:46:00.180735Z"
    }
   },
   "outputs": [],
   "source": [
    "log = list()\n",
    "log.append({'data': [events[-1]['round_state']['pot']['main']['amount'], events[-1]['round_state']['pot']['side'], events[-1]['uuid'], events[-1]['valid_actions']]})\n",
    "game_state, events = emulator.apply_action(game_state=game_state, action='raise', bet_amount=2000)\n",
    "log.append({'data': [events[-1]['round_state']['pot']['main']['amount'], events[-1]['round_state']['pot']['side'], events[-1]['uuid'], events[-1]['valid_actions']]})\n",
    "game_state, events = emulator.apply_action(game_state=game_state, action='call', bet_amount=2000)\n",
    "log.append({'data': [events[-1]['round_state']['pot']['main']['amount'], events[-1]['round_state']['pot']['side'], events[-1]['uuid'], events[-1]['valid_actions']]})\n",
    "# game_state, events = emulator.apply_action(game_state=game_state, action='call', bet_amount=20)\n",
    "# log.append({'data': [events[-1]['round_state']['pot']['main']['amount'], events[-1]['uuid'], events[-1]['valid_actions']]})\n",
    "# game_state, events = emulator.apply_action(game_state=game_state, action='call', bet_amount=20)\n",
    "# log.append({'data': [events[-1]['round_state']['pot']['main']['amount'], events[-1]['uuid'], events[-1]['valid_actions']]})\n",
    "# game_state, events = emulator.apply_action(game_state=game_state, action='call', bet_amount=20)\n",
    "# log.append({'data': [events[-1]['round_state']['pot']['main']['amount'], events[-1]['uuid'], events[-1]['valid_actions']]})\n",
    "# game_state, events = emulator.apply_action(game_state=game_state, action='call', bet_amount=20)\n",
    "# log.append({'data': [events[-1]['round_state']['pot']['main']['amount'], events[-1]['uuid'], events[-1]['valid_actions']]})\n",
    "# game_state, events = emulator.apply_action(game_state=game_state, action='raise', bet_amount=20)\n",
    "# log.append({'data': [events[-1]['round_state']['pot']['main']['amount'], events[-1]['uuid'], events[-1]['valid_actions']]})\n",
    "# game_state, events = emulator.apply_action(game_state=game_state, action='raise', bet_amount=40)\n",
    "# log.append({'data': [events[-1]['round_state']['pot']['main']['amount'], events[-1]['uuid'], events[-1]['valid_actions']]})\n",
    "# game_state, events = emulator.apply_action(game_state=game_state, action='raise', bet_amount=3000)\n",
    "# log.append({'data': [events[-1]['round_state']['pot']['main']['amount'], events[-1]['uuid'], events[-1]['valid_actions']]})"
   ]
  },
  {
   "cell_type": "code",
   "execution_count": 10,
   "metadata": {
    "ExecuteTime": {
     "end_time": "2019-08-23T23:46:00.209812Z",
     "start_time": "2019-08-23T23:46:00.200788Z"
    }
   },
   "outputs": [
    {
     "data": {
      "text/plain": [
       "{'preflop': [{'action': 'SMALLBLIND',\n",
       "   'amount': 10,\n",
       "   'add_amount': 10,\n",
       "   'uuid': 'uuid-1'},\n",
       "  {'action': 'BIGBLIND', 'amount': 20, 'add_amount': 10, 'uuid': 'uuid-2'},\n",
       "  {'action': 'RAISE',\n",
       "   'amount': 2000,\n",
       "   'paid': 2000,\n",
       "   'add_amount': 1980,\n",
       "   'uuid': 'uuid-3'},\n",
       "  {'action': 'CALL', 'amount': 1000, 'paid': 1000, 'uuid': 'uuid-4'}]}"
      ]
     },
     "execution_count": 10,
     "metadata": {},
     "output_type": "execute_result"
    }
   ],
   "source": [
    "events[-1]['round_state']['action_histories']"
   ]
  },
  {
   "cell_type": "code",
   "execution_count": 11,
   "metadata": {
    "ExecuteTime": {
     "end_time": "2019-08-23T23:46:00.233876Z",
     "start_time": "2019-08-23T23:46:00.215827Z"
    }
   },
   "outputs": [
    {
     "data": {
      "text/plain": [
       "[{'data': [30,\n",
       "   [],\n",
       "   'uuid-3',\n",
       "   [{'action': 'fold', 'amount': 0},\n",
       "    {'action': 'call', 'amount': 20},\n",
       "    {'action': 'raise', 'amount': {'min': 30, 'max': 2000}}]]},\n",
       " {'data': [2030,\n",
       "   [{'amount': 0, 'eligibles': ['uuid-3']}],\n",
       "   'uuid-4',\n",
       "   [{'action': 'fold', 'amount': 0},\n",
       "    {'action': 'call', 'amount': 2000},\n",
       "    {'action': 'raise', 'amount': {'min': -1, 'max': -1}}]]},\n",
       " {'data': [2030,\n",
       "   [{'amount': 1000, 'eligibles': ['uuid-3']},\n",
       "    {'amount': 0, 'eligibles': ['uuid-3']}],\n",
       "   'uuid-5',\n",
       "   [{'action': 'fold', 'amount': 0},\n",
       "    {'action': 'call', 'amount': 2000},\n",
       "    {'action': 'raise', 'amount': {'min': -1, 'max': -1}}]]}]"
      ]
     },
     "execution_count": 11,
     "metadata": {},
     "output_type": "execute_result"
    }
   ],
   "source": [
    "log"
   ]
  },
  {
   "cell_type": "code",
   "execution_count": 12,
   "metadata": {
    "ExecuteTime": {
     "end_time": "2019-08-23T23:46:00.251922Z",
     "start_time": "2019-08-23T23:46:00.238889Z"
    }
   },
   "outputs": [
    {
     "data": {
      "text/plain": [
       "{'type': 'event_ask_player',\n",
       " 'uuid': 'uuid-5',\n",
       " 'valid_actions': [{'action': 'fold', 'amount': 0},\n",
       "  {'action': 'call', 'amount': 2000},\n",
       "  {'action': 'raise', 'amount': {'min': -1, 'max': -1}}],\n",
       " 'round_state': {'street': 'preflop',\n",
       "  'pot': {'main': {'amount': 2030},\n",
       "   'side': [{'amount': 1000, 'eligibles': ['uuid-3']},\n",
       "    {'amount': 0, 'eligibles': ['uuid-3']}]},\n",
       "  'community_card': [],\n",
       "  'dealer_btn': 0,\n",
       "  'next_player': 5,\n",
       "  'small_blind_pos': 1,\n",
       "  'big_blind_pos': 2,\n",
       "  'round_count': 1,\n",
       "  'small_blind_amount': 10,\n",
       "  'seats': [{'name': 'player0',\n",
       "    'uuid': 'uuid-0',\n",
       "    'stack': 2000,\n",
       "    'state': 'participating'},\n",
       "   {'name': 'player1',\n",
       "    'uuid': 'uuid-1',\n",
       "    'stack': 1990,\n",
       "    'state': 'participating'},\n",
       "   {'name': 'player2',\n",
       "    'uuid': 'uuid-2',\n",
       "    'stack': 1980,\n",
       "    'state': 'participating'},\n",
       "   {'name': 'player3', 'uuid': 'uuid-3', 'stack': 0, 'state': 'allin'},\n",
       "   {'name': 'player4', 'uuid': 'uuid-4', 'stack': 0, 'state': 'allin'},\n",
       "   {'name': 'player5',\n",
       "    'uuid': 'uuid-5',\n",
       "    'stack': 2000,\n",
       "    'state': 'participating'}],\n",
       "  'action_histories': {'preflop': [{'action': 'SMALLBLIND',\n",
       "     'amount': 10,\n",
       "     'add_amount': 10,\n",
       "     'uuid': 'uuid-1'},\n",
       "    {'action': 'BIGBLIND', 'amount': 20, 'add_amount': 10, 'uuid': 'uuid-2'},\n",
       "    {'action': 'RAISE',\n",
       "     'amount': 2000,\n",
       "     'paid': 2000,\n",
       "     'add_amount': 1980,\n",
       "     'uuid': 'uuid-3'},\n",
       "    {'action': 'CALL', 'amount': 1000, 'paid': 1000, 'uuid': 'uuid-4'}]}}}"
      ]
     },
     "execution_count": 12,
     "metadata": {},
     "output_type": "execute_result"
    }
   ],
   "source": [
    "events[-1]"
   ]
  },
  {
   "cell_type": "code",
   "execution_count": 13,
   "metadata": {
    "ExecuteTime": {
     "end_time": "2019-08-23T23:46:00.265962Z",
     "start_time": "2019-08-23T23:46:00.257939Z"
    }
   },
   "outputs": [
    {
     "data": {
      "text/plain": [
       "[{'action': 'fold', 'amount': 0},\n",
       " {'action': 'call', 'amount': 2000},\n",
       " {'action': 'raise', 'amount': {'min': -1, 'max': -1}}]"
      ]
     },
     "execution_count": 13,
     "metadata": {},
     "output_type": "execute_result"
    }
   ],
   "source": [
    "events[-1]['valid_actions']"
   ]
  },
  {
   "cell_type": "code",
   "execution_count": null,
   "metadata": {},
   "outputs": [],
   "source": []
  }
 ],
 "metadata": {
  "kernelspec": {
   "display_name": "Python 3",
   "language": "python",
   "name": "python3"
  },
  "language_info": {
   "codemirror_mode": {
    "name": "ipython",
    "version": 3
   },
   "file_extension": ".py",
   "mimetype": "text/x-python",
   "name": "python",
   "nbconvert_exporter": "python",
   "pygments_lexer": "ipython3",
   "version": "3.7.3"
  },
  "toc": {
   "base_numbering": 1,
   "nav_menu": {},
   "number_sections": true,
   "sideBar": true,
   "skip_h1_title": false,
   "title_cell": "Table of Contents",
   "title_sidebar": "Contents",
   "toc_cell": false,
   "toc_position": {},
   "toc_section_display": true,
   "toc_window_display": false
  },
  "varInspector": {
   "cols": {
    "lenName": 16,
    "lenType": 16,
    "lenVar": 40
   },
   "kernels_config": {
    "python": {
     "delete_cmd_postfix": "",
     "delete_cmd_prefix": "del ",
     "library": "var_list.py",
     "varRefreshCmd": "print(var_dic_list())"
    },
    "r": {
     "delete_cmd_postfix": ") ",
     "delete_cmd_prefix": "rm(",
     "library": "var_list.r",
     "varRefreshCmd": "cat(var_dic_list()) "
    }
   },
   "types_to_exclude": [
    "module",
    "function",
    "builtin_function_or_method",
    "instance",
    "_Feature"
   ],
   "window_display": false
  }
 },
 "nbformat": 4,
 "nbformat_minor": 2
}
