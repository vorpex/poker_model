{
 "cells": [
  {
   "cell_type": "code",
   "execution_count": 259,
   "metadata": {
    "ExecuteTime": {
     "end_time": "2019-08-23T15:17:17.210886Z",
     "start_time": "2019-08-23T15:17:17.206878Z"
    }
   },
   "outputs": [],
   "source": [
    "import gc\n",
    "from pypokerengine.api.emulator import Emulator"
   ]
  },
  {
   "cell_type": "code",
   "execution_count": 260,
   "metadata": {
    "ExecuteTime": {
     "end_time": "2019-08-23T15:17:17.277062Z",
     "start_time": "2019-08-23T15:17:17.213894Z"
    }
   },
   "outputs": [
    {
     "data": {
      "text/plain": [
       "120"
      ]
     },
     "execution_count": 260,
     "metadata": {},
     "output_type": "execute_result"
    }
   ],
   "source": [
    "gc.collect()"
   ]
  },
  {
   "cell_type": "code",
   "execution_count": 261,
   "metadata": {
    "ExecuteTime": {
     "end_time": "2019-08-23T15:17:17.290098Z",
     "start_time": "2019-08-23T15:17:17.282075Z"
    }
   },
   "outputs": [],
   "source": [
    "emulator = Emulator()"
   ]
  },
  {
   "cell_type": "code",
   "execution_count": 262,
   "metadata": {
    "ExecuteTime": {
     "end_time": "2019-08-23T15:17:17.305136Z",
     "start_time": "2019-08-23T15:17:17.295111Z"
    }
   },
   "outputs": [],
   "source": [
    "player_num = 6\n",
    "max_round = 1\n",
    "small_blind_amount = 10\n",
    "ante_amount = 0\n",
    "stack = 2000\n",
    "\n",
    "players_info = {\n",
    "    'uuid-0': {'name': 'player0', 'stack': stack},\n",
    "    'uuid-1': {'name': 'player1', 'stack': stack},\n",
    "    'uuid-2': {'name': 'player2', 'stack': stack},\n",
    "    'uuid-3': {'name': 'player3', 'stack': stack},\n",
    "    'uuid-4': {'name': 'player4', 'stack': stack},\n",
    "    'uuid-5': {'name': 'player5', 'stack': stack}\n",
    "}"
   ]
  },
  {
   "cell_type": "code",
   "execution_count": 263,
   "metadata": {
    "ExecuteTime": {
     "end_time": "2019-08-23T15:17:17.320178Z",
     "start_time": "2019-08-23T15:17:17.308145Z"
    }
   },
   "outputs": [],
   "source": [
    "emulator.set_game_rule(player_num=6, max_round=1, small_blind_amount=10, ante_amount=0)\n",
    "initial_state = emulator.generate_initial_game_state(players_info)\n",
    "game_state, events = emulator.start_new_round(initial_state)"
   ]
  },
  {
   "cell_type": "code",
   "execution_count": 264,
   "metadata": {
    "ExecuteTime": {
     "end_time": "2019-08-23T15:17:17.333212Z",
     "start_time": "2019-08-23T15:17:17.324188Z"
    }
   },
   "outputs": [
    {
     "data": {
      "text/plain": [
       "\"\\nlog = list()\\nwhile events[-1]['type'] != 'event_game_finish':\\n    \\n    log.append({'data': [events[-1]['round_state']['pot']['main']['amount'], events[-1]['valid_actions']]})\\n    valid_actions = events[-1]['valid_actions']\\n    actions = [action['action'] for action in valid_actions]\\n    possibilities = [1 / len(actions) for i in actions]\\n    action = np.random.choice(actions, p=possibilities)\\n    for move in valid_actions:\\n        \\n        if move['action'] == action and action != 'raise':\\n            bet_amount = move['amount']\\n        elif move['action'] == action and action == 'raise':\\n            bet_amount = np.random.randint(move['amount']['min'], move['amount']['max'] + 1)\\n        else:\\n            pass\\n    \\n    game_state, events = emulator.apply_action(game_state=game_state, action=action, bet_amount=bet_amount)\\n\""
      ]
     },
     "execution_count": 264,
     "metadata": {},
     "output_type": "execute_result"
    }
   ],
   "source": [
    "'''\n",
    "log = list()\n",
    "while events[-1]['type'] != 'event_game_finish':\n",
    "    \n",
    "    log.append({'data': [events[-1]['round_state']['pot']['main']['amount'], events[-1]['valid_actions']]})\n",
    "    valid_actions = events[-1]['valid_actions']\n",
    "    actions = [action['action'] for action in valid_actions]\n",
    "    possibilities = [1 / len(actions) for i in actions]\n",
    "    action = np.random.choice(actions, p=possibilities)\n",
    "    for move in valid_actions:\n",
    "        \n",
    "        if move['action'] == action and action != 'raise':\n",
    "            bet_amount = move['amount']\n",
    "        elif move['action'] == action and action == 'raise':\n",
    "            bet_amount = np.random.randint(move['amount']['min'], move['amount']['max'] + 1)\n",
    "        else:\n",
    "            pass\n",
    "    \n",
    "    game_state, events = emulator.apply_action(game_state=game_state, action=action, bet_amount=bet_amount)\n",
    "'''"
   ]
  },
  {
   "cell_type": "code",
   "execution_count": 265,
   "metadata": {
    "ExecuteTime": {
     "end_time": "2019-08-23T15:17:17.342236Z",
     "start_time": "2019-08-23T15:17:17.337222Z"
    }
   },
   "outputs": [],
   "source": [
    "# events[0]['round_state']['action_histories']"
   ]
  },
  {
   "cell_type": "code",
   "execution_count": 266,
   "metadata": {
    "ExecuteTime": {
     "end_time": "2019-08-23T15:17:17.355271Z",
     "start_time": "2019-08-23T15:17:17.347249Z"
    }
   },
   "outputs": [],
   "source": [
    "# log"
   ]
  },
  {
   "cell_type": "code",
   "execution_count": 267,
   "metadata": {
    "ExecuteTime": {
     "end_time": "2019-08-23T15:17:17.396392Z",
     "start_time": "2019-08-23T15:17:17.359281Z"
    }
   },
   "outputs": [],
   "source": [
    "log = list()\n",
    "log.append({'data': [events[-1]['round_state']['pot']['main']['amount'], events[-1]['uuid'], events[-1]['valid_actions']]})\n",
    "game_state, events = emulator.apply_action(game_state=game_state, action='call', bet_amount=20)\n",
    "log.append({'data': [events[-1]['round_state']['pot']['main']['amount'], events[-1]['uuid'], events[-1]['valid_actions']]})\n",
    "game_state, events = emulator.apply_action(game_state=game_state, action='call', bet_amount=20)\n",
    "log.append({'data': [events[-1]['round_state']['pot']['main']['amount'], events[-1]['uuid'], events[-1]['valid_actions']]})\n",
    "game_state, events = emulator.apply_action(game_state=game_state, action='call', bet_amount=20)\n",
    "log.append({'data': [events[-1]['round_state']['pot']['main']['amount'], events[-1]['uuid'], events[-1]['valid_actions']]})\n",
    "game_state, events = emulator.apply_action(game_state=game_state, action='call', bet_amount=20)\n",
    "log.append({'data': [events[-1]['round_state']['pot']['main']['amount'], events[-1]['uuid'], events[-1]['valid_actions']]})\n",
    "game_state, events = emulator.apply_action(game_state=game_state, action='call', bet_amount=20)\n",
    "log.append({'data': [events[-1]['round_state']['pot']['main']['amount'], events[-1]['uuid'], events[-1]['valid_actions']]})\n",
    "game_state, events = emulator.apply_action(game_state=game_state, action='call', bet_amount=20)\n",
    "log.append({'data': [events[-1]['round_state']['pot']['main']['amount'], events[-1]['uuid'], events[-1]['valid_actions']]})\n",
    "game_state, events = emulator.apply_action(game_state=game_state, action='raise', bet_amount=20)\n",
    "log.append({'data': [events[-1]['round_state']['pot']['main']['amount'], events[-1]['uuid'], events[-1]['valid_actions']]})\n",
    "game_state, events = emulator.apply_action(game_state=game_state, action='raise', bet_amount=40)\n",
    "log.append({'data': [events[-1]['round_state']['pot']['main']['amount'], events[-1]['uuid'], events[-1]['valid_actions']]})\n",
    "game_state, events = emulator.apply_action(game_state=game_state, action='raise', bet_amount=60)\n",
    "log.append({'data': [events[-1]['round_state']['pot']['main']['amount'], events[-1]['uuid'], events[-1]['valid_actions']]})"
   ]
  },
  {
   "cell_type": "code",
   "execution_count": 268,
   "metadata": {
    "ExecuteTime": {
     "end_time": "2019-08-23T15:17:17.411421Z",
     "start_time": "2019-08-23T15:17:17.398388Z"
    }
   },
   "outputs": [
    {
     "data": {
      "text/plain": [
       "{'preflop': [{'action': 'SMALLBLIND',\n",
       "   'amount': 10,\n",
       "   'add_amount': 10,\n",
       "   'uuid': 'uuid-1'},\n",
       "  {'action': 'BIGBLIND', 'amount': 20, 'add_amount': 10, 'uuid': 'uuid-2'},\n",
       "  {'action': 'CALL', 'amount': 20, 'paid': 20, 'uuid': 'uuid-3'},\n",
       "  {'action': 'CALL', 'amount': 20, 'paid': 20, 'uuid': 'uuid-4'},\n",
       "  {'action': 'CALL', 'amount': 20, 'paid': 20, 'uuid': 'uuid-5'},\n",
       "  {'action': 'CALL', 'amount': 20, 'paid': 20, 'uuid': 'uuid-0'},\n",
       "  {'action': 'CALL', 'amount': 20, 'paid': 10, 'uuid': 'uuid-1'},\n",
       "  {'action': 'CALL', 'amount': 20, 'paid': 0, 'uuid': 'uuid-2'}],\n",
       " 'flop': [{'action': 'RAISE',\n",
       "   'amount': 20,\n",
       "   'paid': 20,\n",
       "   'add_amount': 20,\n",
       "   'uuid': 'uuid-1'},\n",
       "  {'action': 'RAISE',\n",
       "   'amount': 40,\n",
       "   'paid': 40,\n",
       "   'add_amount': 20,\n",
       "   'uuid': 'uuid-2'},\n",
       "  {'action': 'RAISE',\n",
       "   'amount': 60,\n",
       "   'paid': 60,\n",
       "   'add_amount': 20,\n",
       "   'uuid': 'uuid-3'}]}"
      ]
     },
     "execution_count": 268,
     "metadata": {},
     "output_type": "execute_result"
    }
   ],
   "source": [
    "events[-1]['round_state']['action_histories']"
   ]
  },
  {
   "cell_type": "code",
   "execution_count": 269,
   "metadata": {
    "ExecuteTime": {
     "end_time": "2019-08-23T15:17:17.428476Z",
     "start_time": "2019-08-23T15:17:17.414428Z"
    }
   },
   "outputs": [
    {
     "data": {
      "text/plain": [
       "[{'data': [30,\n",
       "   'uuid-3',\n",
       "   [{'action': 'fold', 'amount': 0},\n",
       "    {'action': 'call', 'amount': 20},\n",
       "    {'action': 'raise', 'amount': {'min': 30, 'max': 2000}}]]},\n",
       " {'data': [50,\n",
       "   'uuid-4',\n",
       "   [{'action': 'fold', 'amount': 0},\n",
       "    {'action': 'call', 'amount': 20},\n",
       "    {'action': 'raise', 'amount': {'min': 30, 'max': 2000}}]]},\n",
       " {'data': [70,\n",
       "   'uuid-5',\n",
       "   [{'action': 'fold', 'amount': 0},\n",
       "    {'action': 'call', 'amount': 20},\n",
       "    {'action': 'raise', 'amount': {'min': 30, 'max': 2000}}]]},\n",
       " {'data': [90,\n",
       "   'uuid-0',\n",
       "   [{'action': 'fold', 'amount': 0},\n",
       "    {'action': 'call', 'amount': 20},\n",
       "    {'action': 'raise', 'amount': {'min': 30, 'max': 2000}}]]},\n",
       " {'data': [110,\n",
       "   'uuid-1',\n",
       "   [{'action': 'fold', 'amount': 0},\n",
       "    {'action': 'call', 'amount': 20},\n",
       "    {'action': 'raise', 'amount': {'min': 30, 'max': 2000}}]]},\n",
       " {'data': [120,\n",
       "   'uuid-2',\n",
       "   [{'action': 'fold', 'amount': 0},\n",
       "    {'action': 'call', 'amount': 20},\n",
       "    {'action': 'raise', 'amount': {'min': 30, 'max': 2000}}]]},\n",
       " {'data': [120,\n",
       "   'uuid-1',\n",
       "   [{'action': 'fold', 'amount': 0},\n",
       "    {'action': 'call', 'amount': 0},\n",
       "    {'action': 'raise', 'amount': {'min': 20, 'max': 1980}}]]},\n",
       " {'data': [140,\n",
       "   'uuid-2',\n",
       "   [{'action': 'fold', 'amount': 0},\n",
       "    {'action': 'call', 'amount': 20},\n",
       "    {'action': 'raise', 'amount': {'min': 40, 'max': 1980}}]]},\n",
       " {'data': [180,\n",
       "   'uuid-3',\n",
       "   [{'action': 'fold', 'amount': 0},\n",
       "    {'action': 'call', 'amount': 40},\n",
       "    {'action': 'raise', 'amount': {'min': 60, 'max': 1980}}]]},\n",
       " {'data': [240,\n",
       "   'uuid-4',\n",
       "   [{'action': 'fold', 'amount': 0},\n",
       "    {'action': 'call', 'amount': 60},\n",
       "    {'action': 'raise', 'amount': {'min': 80, 'max': 1980}}]]}]"
      ]
     },
     "execution_count": 269,
     "metadata": {},
     "output_type": "execute_result"
    }
   ],
   "source": [
    "log"
   ]
  },
  {
   "cell_type": "code",
   "execution_count": null,
   "metadata": {},
   "outputs": [],
   "source": []
  }
 ],
 "metadata": {
  "kernelspec": {
   "display_name": "Python 3",
   "language": "python",
   "name": "python3"
  },
  "language_info": {
   "codemirror_mode": {
    "name": "ipython",
    "version": 3
   },
   "file_extension": ".py",
   "mimetype": "text/x-python",
   "name": "python",
   "nbconvert_exporter": "python",
   "pygments_lexer": "ipython3",
   "version": "3.7.3"
  },
  "toc": {
   "base_numbering": 1,
   "nav_menu": {},
   "number_sections": true,
   "sideBar": true,
   "skip_h1_title": false,
   "title_cell": "Table of Contents",
   "title_sidebar": "Contents",
   "toc_cell": false,
   "toc_position": {},
   "toc_section_display": true,
   "toc_window_display": false
  },
  "varInspector": {
   "cols": {
    "lenName": 16,
    "lenType": 16,
    "lenVar": 40
   },
   "kernels_config": {
    "python": {
     "delete_cmd_postfix": "",
     "delete_cmd_prefix": "del ",
     "library": "var_list.py",
     "varRefreshCmd": "print(var_dic_list())"
    },
    "r": {
     "delete_cmd_postfix": ") ",
     "delete_cmd_prefix": "rm(",
     "library": "var_list.r",
     "varRefreshCmd": "cat(var_dic_list()) "
    }
   },
   "types_to_exclude": [
    "module",
    "function",
    "builtin_function_or_method",
    "instance",
    "_Feature"
   ],
   "window_display": false
  }
 },
 "nbformat": 4,
 "nbformat_minor": 2
}
