{
 "cells": [
  {
   "cell_type": "code",
   "execution_count": 1,
   "metadata": {
    "ExecuteTime": {
     "end_time": "2019-08-24T23:56:07.463077Z",
     "start_time": "2019-08-24T23:56:06.681002Z"
    }
   },
   "outputs": [],
   "source": [
    "'''poker engine'''\n",
    "\n",
    "# pylint: disable=E1101, E1601, W0612\n",
    "\n",
    "import gc\n",
    "import mysql.connector\n",
    "from pypokerengine.api.emulator import Emulator\n",
    "\n",
    "import funcs_db"
   ]
  },
  {
   "cell_type": "code",
   "execution_count": 2,
   "metadata": {
    "ExecuteTime": {
     "end_time": "2019-08-24T23:56:07.507193Z",
     "start_time": "2019-08-24T23:56:07.467087Z"
    }
   },
   "outputs": [
    {
     "data": {
      "text/plain": [
       "20"
      ]
     },
     "execution_count": 2,
     "metadata": {},
     "output_type": "execute_result"
    }
   ],
   "source": [
    "gc.collect()"
   ]
  },
  {
   "cell_type": "markdown",
   "metadata": {},
   "source": [
    "# OPEN CONNECTION TO POKER DB "
   ]
  },
  {
   "cell_type": "code",
   "execution_count": 3,
   "metadata": {
    "ExecuteTime": {
     "end_time": "2019-08-24T23:56:07.544293Z",
     "start_time": "2019-08-24T23:56:07.512208Z"
    }
   },
   "outputs": [],
   "source": [
    "poker_db = mysql.connector.connect(user='root', host='127.0.0.1', database='poker_version2')\n",
    "sql_path = 'c:\\\\Users\\\\adam.sohonyai\\\\Documents\\\\GitHub\\\\poker_model\\\\sql\\\\version2\\\\'"
   ]
  },
  {
   "cell_type": "markdown",
   "metadata": {},
   "source": [
    "## Delete data from database tables "
   ]
  },
  {
   "cell_type": "code",
   "execution_count": 4,
   "metadata": {
    "ExecuteTime": {
     "end_time": "2019-08-24T23:56:07.581389Z",
     "start_time": "2019-08-24T23:56:07.547300Z"
    }
   },
   "outputs": [],
   "source": [
    "tables = funcs_db.sql_select_tables(poker_db=poker_db)\n",
    "for table in tables:\n",
    "    funcs_db.sql_delete_all(poker_db=poker_db, table=table)"
   ]
  },
  {
   "cell_type": "markdown",
   "metadata": {},
   "source": [
    "# Initialization"
   ]
  },
  {
   "cell_type": "code",
   "execution_count": 5,
   "metadata": {
    "ExecuteTime": {
     "end_time": "2019-08-24T23:56:07.588410Z",
     "start_time": "2019-08-24T23:56:07.585401Z"
    }
   },
   "outputs": [],
   "source": [
    "emulator = Emulator()"
   ]
  },
  {
   "cell_type": "markdown",
   "metadata": {},
   "source": [
    "## Create game and table"
   ]
  },
  {
   "cell_type": "code",
   "execution_count": 6,
   "metadata": {
    "ExecuteTime": {
     "end_time": "2019-08-24T23:56:07.611471Z",
     "start_time": "2019-08-24T23:56:07.590415Z"
    }
   },
   "outputs": [],
   "source": [
    "player_num = 6\n",
    "max_round = 1\n",
    "small_blind_amount = 10\n",
    "ante_amount = 0\n",
    "\n",
    "stack = 2000\n",
    "players_info = {\n",
    "    'uuid-0': {'name': 'player0', 'stack': stack},\n",
    "    'uuid-1': {'name': 'player1', 'stack': stack},\n",
    "    'uuid-2': {'name': 'player2', 'stack': stack},\n",
    "    'uuid-3': {'name': 'player3', 'stack': stack},\n",
    "    'uuid-4': {'name': 'player4', 'stack': stack},\n",
    "    'uuid-5': {'name': 'player5', 'stack': stack}\n",
    "}\n",
    "\n",
    "summary = list()\n",
    "\n",
    "index = funcs_db.sql_games_max_id(poker_db=poker_db)"
   ]
  },
  {
   "cell_type": "code",
   "execution_count": 7,
   "metadata": {
    "ExecuteTime": {
     "end_time": "2019-08-24T23:56:07.649570Z",
     "start_time": "2019-08-24T23:56:07.614479Z"
    }
   },
   "outputs": [],
   "source": [
    "emulator.set_game_rule(player_num=player_num, max_round=max_round, small_blind_amount=small_blind_amount, \\\n",
    "                       ante_amount=ante_amount)\n",
    "initial_state = emulator.generate_initial_game_state(players_info)\n",
    "for i, player in enumerate(initial_state['table'].seats.players):\n",
    "\n",
    "    funcs_db.sql_insert_games(poker_db=poker_db, index=index + 1, player_num=player_num, small_blind_amount=small_blind_amount, \\\n",
    "                              ante_amount=ante_amount, uuid=player.uuid, name=player.name, stack=player.stack, position=i, \\\n",
    "                              card1='', card2='', hand_db_format='', flop1='', flop2='', flop3='', turn='', river='', \\\n",
    "                              final_stack=0)"
   ]
  },
  {
   "cell_type": "code",
   "execution_count": 8,
   "metadata": {
    "ExecuteTime": {
     "end_time": "2019-08-24T23:56:07.683662Z",
     "start_time": "2019-08-24T23:56:07.652580Z"
    }
   },
   "outputs": [],
   "source": [
    "game_state, events = emulator.start_new_round(initial_state)\n",
    "for i, player in enumerate(game_state['table'].seats.players):\n",
    "    \n",
    "    card_list = [player.hole_card[0].RANK_MAP[player.hole_card[0].rank] + \\\n",
    "                 player.hole_card[0].SUIT_MAP[player.hole_card[0].suit], \\\n",
    "                 player.hole_card[1].RANK_MAP[player.hole_card[1].rank] + \\\n",
    "                 player.hole_card[1].SUIT_MAP[player.hole_card[1].suit]\n",
    "    ]\n",
    "    card_list.sort()\n",
    "    card1 = card_list[0]\n",
    "    card2 = card_list[1]\n",
    "    if card1[-1] == card2[-1]:\n",
    "        hand_db_format = card1[:-1] + card2[:-1] + 's'\n",
    "    else:\n",
    "        hand_db_format = card1[:-1] + card2[:-1] + 'o'\n",
    "\n",
    "    funcs_db.sql_update_games_cards(poker_db=poker_db, index=index + 1, uuid=player.uuid, \\\n",
    "                                    card1=card1, card2=card2, hand_db_format=hand_db_format)"
   ]
  },
  {
   "cell_type": "markdown",
   "metadata": {},
   "source": [
    "## Small blind and big blind moves"
   ]
  },
  {
   "cell_type": "code",
   "execution_count": 9,
   "metadata": {
    "ExecuteTime": {
     "end_time": "2019-08-24T23:56:07.717753Z",
     "start_time": "2019-08-24T23:56:07.687674Z"
    }
   },
   "outputs": [],
   "source": [
    "nr = 0\n",
    "step = 0\n",
    "pot = 0\n",
    "for i, player in enumerate(game_state['table'].seats.players):\n",
    "    \n",
    "    try:\n",
    "        if player.serialize()[4][0]['action'] in ['SMALLBLIND', 'BIGBLIND']:\n",
    "            if player.serialize()[4][0]['action'] == 'SMALLBLIND':\n",
    "                amount = small_blind_amount\n",
    "            else:\n",
    "                amount = 2 * small_blind_amount\n",
    "            funcs_db.sql_insert_history(poker_db=poker_db, phase='preflop', nr=nr, step=step, uuid=player.serialize()[1], \\\n",
    "                                        position=i, stack=2000, pot=pot, flop1='', flop2='', flop3='', turn='', river='', \\\n",
    "                                        action=player.serialize()[4][0]['action'], amount=amount, \\\n",
    "                                        new_stack=2000 - amount, new_pot=pot + amount)\n",
    "\n",
    "            nr = nr + 1\n",
    "            step = step + 1\n",
    "            pot = pot + amount\n",
    "    except:\n",
    "        pass"
   ]
  },
  {
   "cell_type": "markdown",
   "metadata": {},
   "source": [
    "# Game phase"
   ]
  },
  {
   "cell_type": "code",
   "execution_count": 10,
   "metadata": {
    "ExecuteTime": {
     "end_time": "2019-08-24T23:56:09.847404Z",
     "start_time": "2019-08-24T23:56:07.721764Z"
    }
   },
   "outputs": [],
   "source": [
    "# poker_version2.possible_moves.bet_amount: implies the \"until size\" of some action, e.g. \"raise til 100 \n",
    "#     (already debt amount + raise amount) - emeles 100-ig (fizetendo + tovabbi novekmeny)\"\n",
    "# poker_version2.history.amount: net change in pot caused by some action\n",
    "\n",
    "while events[-1]['type'] != 'event_game_finish':\n",
    "    \n",
    "    # data source\n",
    "    data = events[-1]\n",
    "    \n",
    "    # calculate parameters from current game state\n",
    "    phase = data['round_state']['street']\n",
    "    position = data['round_state']['next_player']\n",
    "    uuid = data['uuid']\n",
    "    for item in data['round_state']['seats']:\n",
    "\n",
    "        if item['uuid'] == data['uuid']:\n",
    "            stack = item['stack']\n",
    "\n",
    "    side = 0\n",
    "    if data['round_state']['pot']['side'] != []:\n",
    "        for amount in data['round_state']['pot']['side']:\n",
    "        \n",
    "            side = side + amount['amount']\n",
    "\n",
    "    pot = data['round_state']['pot']['main']['amount'] + side\n",
    "    valid_actions = funcs_db.valid_actions_check(actions=data['valid_actions'], phase=phase, position=position, \\\n",
    "                                                 stack=stack, small_blind_amount=small_blind_amount)\n",
    "    community_cards = funcs_db.community_cards_eval(board=data['round_state']['community_card'])\n",
    "\n",
    "    # calculate action and bet_amount and apply them on game state\n",
    "    action, bet_amount, decision = funcs_db.decision_point_based_action(poker_db=poker_db, phase=phase, nr=nr, step=step, \\\n",
    "                                                                        position=position, stack=stack, pot=pot, \\\n",
    "                                                                        flop1=community_cards[0], flop2=community_cards[1], \\\n",
    "                                                                        flop3=community_cards[2], turn=community_cards[3], \\\n",
    "                                                                        river=community_cards[4], \\\n",
    "                                                                        valid_actions=valid_actions)\n",
    "    game_state, events = emulator.apply_action(game_state=game_state, action=action, bet_amount=bet_amount)\n",
    "    summary.append(decision)\n",
    "    \n",
    "    # calculate new parameters from current game state\n",
    "    if events[-1]['type'] == 'event_game_finish':\n",
    "        data = events[0]\n",
    "    else:\n",
    "        data = events[-1]\n",
    "    \n",
    "    new_phase = data['round_state']['street']\n",
    "    for item in data['round_state']['seats']:\n",
    "\n",
    "        if item['uuid'] == uuid:\n",
    "            new_stack = item['stack']\n",
    "    \n",
    "    new_side = 0\n",
    "    if data['round_state']['pot']['side'] != []:\n",
    "        for amount in data['round_state']['pot']['side']:\n",
    "        \n",
    "            new_side = new_side + amount['amount']\n",
    "\n",
    "    new_pot = data['round_state']['pot']['main']['amount'] + new_side\n",
    "    amount = stack - new_stack\n",
    "    \n",
    "    # insert action in history table with calculated old and new parameters\n",
    "    funcs_db.sql_insert_history(poker_db=poker_db, phase=phase, nr=nr, step=step, uuid=uuid, position=position, \\\n",
    "                                stack=stack, pot=pot, flop1=community_cards[0], flop2=community_cards[1], \\\n",
    "                                flop3=community_cards[2], turn=community_cards[3], river=community_cards[4], \\\n",
    "                                action=action.upper(), amount=amount, new_stack=new_stack, new_pot=new_pot)\n",
    "\n",
    "    # increase nr parameter - nr has to be set to 0 when phase changes\n",
    "    if phase == new_phase:\n",
    "        nr = nr + 1\n",
    "    else:\n",
    "        nr = 0\n",
    "    \n",
    "    step = step + 1"
   ]
  },
  {
   "cell_type": "code",
   "execution_count": 11,
   "metadata": {
    "ExecuteTime": {
     "end_time": "2019-08-24T23:56:10.030888Z",
     "start_time": "2019-08-24T23:56:09.850410Z"
    }
   },
   "outputs": [],
   "source": [
    "funcs_db.summarize(poker_db=poker_db, final_stacks=events[-1]['players'], summary=summary)"
   ]
  },
  {
   "cell_type": "code",
   "execution_count": 12,
   "metadata": {
    "ExecuteTime": {
     "end_time": "2019-08-24T23:56:10.036905Z",
     "start_time": "2019-08-24T23:56:10.032895Z"
    }
   },
   "outputs": [],
   "source": [
    "# shorthands/compress feature data for:\n",
    "    # pot\n",
    "    # amount\n",
    "    # bet amount\n",
    "    # board/community cards\n",
    "\n",
    "# prepare script for simulation - 100 rounds:\n",
    "#     1. put current script in for loop -> manage seat shifts -> appropriate game info creation\n",
    "#     2. re-write the script for max_round > 1"
   ]
  },
  {
   "cell_type": "code",
   "execution_count": null,
   "metadata": {},
   "outputs": [],
   "source": []
  }
 ],
 "metadata": {
  "kernelspec": {
   "display_name": "Python 3",
   "language": "python",
   "name": "python3"
  },
  "language_info": {
   "codemirror_mode": {
    "name": "ipython",
    "version": 3
   },
   "file_extension": ".py",
   "mimetype": "text/x-python",
   "name": "python",
   "nbconvert_exporter": "python",
   "pygments_lexer": "ipython3",
   "version": "3.7.3"
  },
  "toc": {
   "base_numbering": 1,
   "nav_menu": {},
   "number_sections": true,
   "sideBar": true,
   "skip_h1_title": false,
   "title_cell": "Table of Contents",
   "title_sidebar": "Contents",
   "toc_cell": false,
   "toc_position": {},
   "toc_section_display": true,
   "toc_window_display": false
  },
  "varInspector": {
   "cols": {
    "lenName": 16,
    "lenType": 16,
    "lenVar": 40
   },
   "kernels_config": {
    "python": {
     "delete_cmd_postfix": "",
     "delete_cmd_prefix": "del ",
     "library": "var_list.py",
     "varRefreshCmd": "print(var_dic_list())"
    },
    "r": {
     "delete_cmd_postfix": ") ",
     "delete_cmd_prefix": "rm(",
     "library": "var_list.r",
     "varRefreshCmd": "cat(var_dic_list()) "
    }
   },
   "types_to_exclude": [
    "module",
    "function",
    "builtin_function_or_method",
    "instance",
    "_Feature"
   ],
   "window_display": false
  }
 },
 "nbformat": 4,
 "nbformat_minor": 2
}
