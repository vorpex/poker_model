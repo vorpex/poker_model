{
 "cells": [
  {
   "cell_type": "code",
   "execution_count": null,
   "metadata": {
    "ExecuteTime": {
     "end_time": "2019-08-21T01:13:16.409109Z",
     "start_time": "2019-08-21T01:13:16.234649Z"
    }
   },
   "outputs": [],
   "source": [
    "'''poker engine'''\n",
    "\n",
    "# pylint: disable=E1101, E1601, W0612\n",
    "\n",
    "import gc\n",
    "import mysql.connector\n",
    "from pypokerengine.api.emulator import Emulator\n",
    "\n",
    "import funcs_db"
   ]
  },
  {
   "cell_type": "code",
   "execution_count": null,
   "metadata": {
    "ExecuteTime": {
     "end_time": "2019-08-21T01:13:16.448213Z",
     "start_time": "2019-08-21T01:13:16.413119Z"
    }
   },
   "outputs": [],
   "source": [
    "gc.collect()"
   ]
  },
  {
   "cell_type": "markdown",
   "metadata": {},
   "source": [
    "# OPEN CONNECTION TO POKER DB "
   ]
  },
  {
   "cell_type": "code",
   "execution_count": null,
   "metadata": {
    "ExecuteTime": {
     "end_time": "2019-08-21T01:13:16.479308Z",
     "start_time": "2019-08-21T01:13:16.452223Z"
    }
   },
   "outputs": [],
   "source": [
    "poker_db = mysql.connector.connect(user='root', host='127.0.0.1', database='poker_version2')\n",
    "sql_path = 'c:\\\\Users\\\\adam.sohonyai\\\\Documents\\\\GitHub\\\\poker_model\\\\sql\\\\version2\\\\'"
   ]
  },
  {
   "cell_type": "markdown",
   "metadata": {},
   "source": [
    "## Delete data from database tables "
   ]
  },
  {
   "cell_type": "code",
   "execution_count": null,
   "metadata": {
    "ExecuteTime": {
     "end_time": "2019-08-21T01:13:16.501361Z",
     "start_time": "2019-08-21T01:13:16.482304Z"
    }
   },
   "outputs": [],
   "source": [
    "funcs_db.sql_delete_all(poker_db=poker_db, table='games')\n",
    "funcs_db.sql_delete_all(poker_db=poker_db, table='history')\n",
    "funcs_db.sql_delete_all(poker_db=poker_db, table='decision_points')\n",
    "funcs_db.sql_delete_all(poker_db=poker_db, table='possible_moves')"
   ]
  },
  {
   "cell_type": "markdown",
   "metadata": {},
   "source": [
    "# Initialization"
   ]
  },
  {
   "cell_type": "code",
   "execution_count": null,
   "metadata": {},
   "outputs": [],
   "source": [
    "emulator = Emulator()"
   ]
  },
  {
   "cell_type": "markdown",
   "metadata": {},
   "source": [
    "## Create game and table"
   ]
  },
  {
   "cell_type": "code",
   "execution_count": null,
   "metadata": {
    "ExecuteTime": {
     "end_time": "2019-08-21T01:13:16.629697Z",
     "start_time": "2019-08-21T01:13:16.509377Z"
    }
   },
   "outputs": [],
   "source": [
    "player_num = 6\n",
    "max_round = 1\n",
    "small_blind_amount = 10\n",
    "ante_amount = 0\n",
    "emulator.set_game_rule(player_num=player_num, max_round=max_round, small_blind_amount=small_blind_amount, \\\n",
    "                       ante_amount=ante_amount)\n",
    "\n",
    "stack = 2000\n",
    "players_info = {\n",
    "    'uuid-1': {'name': 'player1', 'stack': stack},\n",
    "    'uuid-2': {'name': 'player2', 'stack': stack},\n",
    "    'uuid-3': {'name': 'player3', 'stack': stack},\n",
    "    'uuid-4': {'name': 'player4', 'stack': stack},\n",
    "    'uuid-5': {'name': 'player5', 'stack': stack},\n",
    "    'uuid-6': {'name': 'player6', 'stack': stack}\n",
    "}\n",
    "\n",
    "poker_cursor = poker_db.cursor()\n",
    "select_sql_file = open(sql_path + 'select_games_max_id.sql').read()\n",
    "select_sql = eval(f'f\"\"\"{select_sql_file}\"\"\"')\n",
    "poker_cursor.execute(select_sql)\n",
    "poker_result = poker_cursor.fetchall()\n",
    "index = poker_result[0][0] + 1\n",
    "\n",
    "initial_state = emulator.generate_initial_game_state(players_info)\n",
    "for i, player in enumerate(initial_state['table'].seats.players):\n",
    "    \n",
    "    if i == 1:\n",
    "        position_name = 'small_blind'\n",
    "    elif i == 2:\n",
    "        position_name = 'big_blind'\n",
    "    elif i == 3:\n",
    "        position_name = 'under_the_gun'\n",
    "    elif i == 4:\n",
    "        position_name = 'middle'\n",
    "    elif i == 5:\n",
    "        position_name = 'tail'\n",
    "    else:\n",
    "        position_name = 'dealer'\n",
    "    \n",
    "    card1 = ''\n",
    "    card2 = ''\n",
    "    hand_db_format = ''\n",
    "    \n",
    "    funcs_db.sql_insert_games(poker_db=poker_db, index=index, player_num=player_num, small_blind_amount=small_blind_amount, \\\n",
    "                              ante_amount=ante_amount, player=player.name, stack=player.stack, \\\n",
    "                              position=i, position_name=position_name, card1=card1, card2=card2, \\\n",
    "                              hand_db_format=hand_db_format)\n",
    "\n",
    "game_state, events = emulator.start_new_round(initial_state)\n",
    "for i, player in enumerate(game_state['table'].seats.players):\n",
    "    \n",
    "    card_list = [player.hole_card[0].RANK_MAP[player.hole_card[0].rank] + \\\n",
    "                 player.hole_card[0].SUIT_MAP[player.hole_card[0].suit], \\\n",
    "                 player.hole_card[1].RANK_MAP[player.hole_card[1].rank] + \\\n",
    "                 player.hole_card[1].SUIT_MAP[player.hole_card[1].suit]\n",
    "                ]\n",
    "    card_list.sort()\n",
    "    card1 = card_list[0]\n",
    "    card2 = card_list[1]\n",
    "    if card1[-1] == card2[-1]:\n",
    "        hand_db_format = card1[:-1] + card2[:-1] + 's'\n",
    "    else:\n",
    "        hand_db_format = card1[:-1] + card2[:-1] + 'o'\n",
    "    \n",
    "    funcs_db.sql_update_games_cards(poker_db=poker_db, player=player.name, card1=card1, card2=card2, \\\n",
    "                                    hand_db_format=hand_db_format)"
   ]
  },
  {
   "cell_type": "markdown",
   "metadata": {},
   "source": [
    "## Small blind and big blind moves"
   ]
  },
  {
   "cell_type": "code",
   "execution_count": null,
   "metadata": {
    "ExecuteTime": {
     "end_time": "2019-08-21T01:21:32.448535Z",
     "start_time": "2019-08-21T01:21:32.445524Z"
    }
   },
   "outputs": [],
   "source": [
    "# INSERT SMALL BLIND AND BIG BLIND MOVE INTO POKER_VERSION2.HISTORY TABLE"
   ]
  },
  {
   "cell_type": "code",
   "execution_count": null,
   "metadata": {},
   "outputs": [],
   "source": []
  }
 ],
 "metadata": {
  "kernelspec": {
   "display_name": "Python 3",
   "language": "python",
   "name": "python3"
  },
  "language_info": {
   "codemirror_mode": {
    "name": "ipython",
    "version": 3
   },
   "file_extension": ".py",
   "mimetype": "text/x-python",
   "name": "python",
   "nbconvert_exporter": "python",
   "pygments_lexer": "ipython3",
   "version": "3.7.3"
  },
  "toc": {
   "base_numbering": 1,
   "nav_menu": {},
   "number_sections": true,
   "sideBar": true,
   "skip_h1_title": false,
   "title_cell": "Table of Contents",
   "title_sidebar": "Contents",
   "toc_cell": false,
   "toc_position": {},
   "toc_section_display": true,
   "toc_window_display": false
  },
  "varInspector": {
   "cols": {
    "lenName": 16,
    "lenType": 16,
    "lenVar": 40
   },
   "kernels_config": {
    "python": {
     "delete_cmd_postfix": "",
     "delete_cmd_prefix": "del ",
     "library": "var_list.py",
     "varRefreshCmd": "print(var_dic_list())"
    },
    "r": {
     "delete_cmd_postfix": ") ",
     "delete_cmd_prefix": "rm(",
     "library": "var_list.r",
     "varRefreshCmd": "cat(var_dic_list()) "
    }
   },
   "types_to_exclude": [
    "module",
    "function",
    "builtin_function_or_method",
    "instance",
    "_Feature"
   ],
   "window_display": false
  }
 },
 "nbformat": 4,
 "nbformat_minor": 2
}
