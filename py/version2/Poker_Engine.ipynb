{
 "cells": [
  {
   "cell_type": "code",
   "execution_count": 1,
   "metadata": {
    "ExecuteTime": {
     "end_time": "2019-08-22T01:51:15.555276Z",
     "start_time": "2019-08-22T01:51:15.414907Z"
    }
   },
   "outputs": [],
   "source": [
    "'''poker engine'''\n",
    "\n",
    "# pylint: disable=E1101, E1601, W0612\n",
    "\n",
    "import gc\n",
    "import mysql.connector\n",
    "from pypokerengine.api.emulator import Emulator\n",
    "\n",
    "import funcs_db"
   ]
  },
  {
   "cell_type": "code",
   "execution_count": 2,
   "metadata": {
    "ExecuteTime": {
     "end_time": "2019-08-22T01:51:15.591382Z",
     "start_time": "2019-08-22T01:51:15.560290Z"
    }
   },
   "outputs": [
    {
     "data": {
      "text/plain": [
       "42"
      ]
     },
     "execution_count": 2,
     "metadata": {},
     "output_type": "execute_result"
    }
   ],
   "source": [
    "gc.collect()"
   ]
  },
  {
   "cell_type": "markdown",
   "metadata": {},
   "source": [
    "# OPEN CONNECTION TO POKER DB "
   ]
  },
  {
   "cell_type": "code",
   "execution_count": 3,
   "metadata": {
    "ExecuteTime": {
     "end_time": "2019-08-22T01:51:15.624460Z",
     "start_time": "2019-08-22T01:51:15.595383Z"
    }
   },
   "outputs": [],
   "source": [
    "poker_db = mysql.connector.connect(user='root', host='127.0.0.1', database='poker_version2')\n",
    "sql_path = 'c:\\\\Users\\\\adam.sohonyai\\\\Documents\\\\GitHub\\\\poker_model\\\\sql\\\\version2\\\\'"
   ]
  },
  {
   "cell_type": "markdown",
   "metadata": {},
   "source": [
    "## Delete data from database tables "
   ]
  },
  {
   "cell_type": "code",
   "execution_count": 4,
   "metadata": {
    "ExecuteTime": {
     "end_time": "2019-08-22T01:51:15.659553Z",
     "start_time": "2019-08-22T01:51:15.627469Z"
    }
   },
   "outputs": [],
   "source": [
    "funcs_db.sql_delete_all(poker_db=poker_db, table='games')\n",
    "funcs_db.sql_delete_all(poker_db=poker_db, table='history')\n",
    "funcs_db.sql_delete_all(poker_db=poker_db, table='decision_points')\n",
    "funcs_db.sql_delete_all(poker_db=poker_db, table='possible_moves')"
   ]
  },
  {
   "cell_type": "markdown",
   "metadata": {},
   "source": [
    "# Initialization"
   ]
  },
  {
   "cell_type": "code",
   "execution_count": 5,
   "metadata": {
    "ExecuteTime": {
     "end_time": "2019-08-22T01:51:15.665571Z",
     "start_time": "2019-08-22T01:51:15.661558Z"
    }
   },
   "outputs": [],
   "source": [
    "emulator = Emulator()"
   ]
  },
  {
   "cell_type": "markdown",
   "metadata": {},
   "source": [
    "## Create game and table"
   ]
  },
  {
   "cell_type": "code",
   "execution_count": 6,
   "metadata": {
    "ExecuteTime": {
     "end_time": "2019-08-22T01:51:15.799927Z",
     "start_time": "2019-08-22T01:51:15.668577Z"
    }
   },
   "outputs": [],
   "source": [
    "player_num = 6\n",
    "max_round = 1\n",
    "small_blind_amount = 10\n",
    "ante_amount = 0\n",
    "emulator.set_game_rule(player_num=player_num, max_round=max_round, small_blind_amount=small_blind_amount, \\\n",
    "                       ante_amount=ante_amount)\n",
    "\n",
    "stack = 2000\n",
    "players_info = {\n",
    "    'uuid-1': {'name': 'player1', 'stack': stack},\n",
    "    'uuid-2': {'name': 'player2', 'stack': stack},\n",
    "    'uuid-3': {'name': 'player3', 'stack': stack},\n",
    "    'uuid-4': {'name': 'player4', 'stack': stack},\n",
    "    'uuid-5': {'name': 'player5', 'stack': stack},\n",
    "    'uuid-6': {'name': 'player6', 'stack': stack}\n",
    "}\n",
    "\n",
    "poker_cursor = poker_db.cursor()\n",
    "select_sql_file = open(sql_path + 'select_games_max_id.sql').read()\n",
    "select_sql = eval(f'f\"\"\"{select_sql_file}\"\"\"')\n",
    "poker_cursor.execute(select_sql)\n",
    "poker_result = poker_cursor.fetchall()\n",
    "index = poker_result[0][0] + 1\n",
    "\n",
    "# CREATE INITIAL STATE FOR GAME AND DB GAME INFO\n",
    "initial_state = emulator.generate_initial_game_state(players_info)\n",
    "for i, player in enumerate(initial_state['table'].seats.players):\n",
    "    \n",
    "    if i == 1:\n",
    "        position_name = 'small_blind'\n",
    "    elif i == 2:\n",
    "        position_name = 'big_blind'\n",
    "    elif i == 3:\n",
    "        position_name = 'under_the_gun'\n",
    "    elif i == 4:\n",
    "        position_name = 'middle'\n",
    "    elif i == 5:\n",
    "        position_name = 'tail'\n",
    "    else:\n",
    "        position_name = 'dealer'\n",
    "    \n",
    "    card1 = ''\n",
    "    card2 = ''\n",
    "    hand_db_format = ''\n",
    "    \n",
    "    funcs_db.sql_insert_games(poker_db=poker_db, index=index, player_num=player_num, small_blind_amount=small_blind_amount, \\\n",
    "                              ante_amount=ante_amount, player=player.name, stack=player.stack, \\\n",
    "                              position=i, position_name=position_name, card1=card1, card2=card2, \\\n",
    "                              hand_db_format=hand_db_format)\n",
    "\n",
    "# UPDATE GAME WITH EVENTS AND DB WITH CARD INFO\n",
    "game_state, events = emulator.start_new_round(initial_state)\n",
    "for i, player in enumerate(game_state['table'].seats.players):\n",
    "    \n",
    "    card_list = [player.hole_card[0].RANK_MAP[player.hole_card[0].rank] + \\\n",
    "                 player.hole_card[0].SUIT_MAP[player.hole_card[0].suit], \\\n",
    "                 player.hole_card[1].RANK_MAP[player.hole_card[1].rank] + \\\n",
    "                 player.hole_card[1].SUIT_MAP[player.hole_card[1].suit]\n",
    "                ]\n",
    "    card_list.sort()\n",
    "    card1 = card_list[0]\n",
    "    card2 = card_list[1]\n",
    "    if card1[-1] == card2[-1]:\n",
    "        hand_db_format = card1[:-1] + card2[:-1] + 's'\n",
    "    else:\n",
    "        hand_db_format = card1[:-1] + card2[:-1] + 'o'\n",
    "    \n",
    "    funcs_db.sql_update_games_cards(poker_db=poker_db, player=player.name, card1=card1, card2=card2, \\\n",
    "                                    hand_db_format=hand_db_format)"
   ]
  },
  {
   "cell_type": "markdown",
   "metadata": {},
   "source": [
    "## Small blind and big blind moves"
   ]
  },
  {
   "cell_type": "code",
   "execution_count": 7,
   "metadata": {
    "ExecuteTime": {
     "end_time": "2019-08-22T01:51:15.843042Z",
     "start_time": "2019-08-22T01:51:15.801932Z"
    }
   },
   "outputs": [],
   "source": [
    "phase = 'preflop'\n",
    "\n",
    "sb_data = []\n",
    "bb_data = []\n",
    "pot = 0\n",
    "for i, player in enumerate(game_state['table'].seats.players):\n",
    "    \n",
    "    try:\n",
    "        if player.serialize()[4][0]['action'] == 'SMALLBLIND':\n",
    "            sb_data = player.serialize()\n",
    "            sb_data.insert(0, i)\n",
    "            # sb_data[5][0]['action'] = 'small_blind'\n",
    "            funcs_db.sql_insert_history(poker_db=poker_db, phase=phase, nr=0, player=sb_data[1], position=sb_data[0], \\\n",
    "                                        stack=sb_data[3] + sb_data[5][0]['amount'], \\\n",
    "                                        pot=pot, flop1='', flop2='', flop3='', turn='', river='', \\\n",
    "                                        move=sb_data[5][0]['action'], amount=sb_data[5][0]['amount'], \\\n",
    "                                        new_stack=sb_data[3], new_pot=pot + sb_data[5][0]['amount'])\n",
    "            \n",
    "        if player.serialize()[4][0]['action'] == 'BIGBLIND':\n",
    "            bb_data = player.serialize()\n",
    "            bb_data.insert(0, i)\n",
    "            # bb_data[5][0]['action'] = 'big_blind'\n",
    "            funcs_db.sql_insert_history(poker_db=poker_db, phase=phase, nr=1, player=bb_data[1], position=bb_data[0], \\\n",
    "                                        stack=bb_data[3] + bb_data[5][0]['amount'], \\\n",
    "                                        pot=pot, flop1='', flop2='', flop3='', turn='', river='', \\\n",
    "                                        move=bb_data[5][0]['action'], amount=bb_data[5][0]['amount'], \\\n",
    "                                        new_stack=bb_data[3], new_pot=pot + bb_data[5][0]['amount'])\n",
    "    except:\n",
    "        pass\n",
    "    \n",
    "    pot = pot + player.serialize()[5][0]\n",
    "\n",
    "nr = 2"
   ]
  },
  {
   "cell_type": "markdown",
   "metadata": {},
   "source": [
    "# Preflop phase"
   ]
  },
  {
   "cell_type": "code",
   "execution_count": 8,
   "metadata": {
    "ExecuteTime": {
     "end_time": "2019-08-22T01:51:16.007479Z",
     "start_time": "2019-08-22T01:51:15.847051Z"
    }
   },
   "outputs": [],
   "source": [
    "phase = events[-1]['round_state']['street']\n",
    "pot = events[-1]['round_state']['pot']['main']['amount']\n",
    "position = events[-1]['round_state']['next_player']\n",
    "possible_moves = events[-1]['valid_actions']\n",
    "for item in events[-1]['round_state']['seats']:\n",
    "    if item['uuid'] == events[-1]['uuid']:\n",
    "        stack = item['stack']\n",
    "\n",
    "action, bet_amount = funcs_db.decision_point_based_move(poker_db=poker_db, phase=phase, nr=nr, pot=pot, position=position, \\\n",
    "                                                        stack=stack, possible_moves=possible_moves)\n",
    "updated_state, events = emulator.apply_action(game_state=game_state, action=action, bet_amount=bet_amount)\n",
    "\n",
    "data = []\n",
    "for i, player in enumerate(updated_state['table'].seats.players):\n",
    "\n",
    "    if player.serialize()[1] == events[-1]['round_state']['action_histories'][phase][-1]['uuid']:\n",
    "        data = player.serialize()\n",
    "        data.insert(0, i)\n",
    "        try:\n",
    "            data_amount = data[5][0]['amount']\n",
    "        except:\n",
    "            data_amount = 0\n",
    "        funcs_db.sql_insert_history(poker_db=poker_db, phase=phase, nr=nr, player=data[1], position=data[0], \\\n",
    "                                    stack=data[3] + data_amount, \\\n",
    "                                    pot=pot, flop1='', flop2='', flop3='', turn='', river='', \\\n",
    "                                    move=data[5][0]['action'], amount=bet_amount, \\\n",
    "                                    new_stack=data[3], new_pot=pot + data_amount)\n",
    "        pot = pot + data_amount\n",
    "\n",
    "nr = nr + 1"
   ]
  },
  {
   "cell_type": "code",
   "execution_count": 9,
   "metadata": {
    "ExecuteTime": {
     "end_time": "2019-08-22T01:51:17.123448Z",
     "start_time": "2019-08-22T01:51:16.011491Z"
    }
   },
   "outputs": [
    {
     "name": "stdout",
     "output_type": "stream",
     "text": [
      "[4, 'player5', 'uuid-5', 1980.0, [22, 4], [{'action': 'CALL', 'amount': 20.0, 'paid': 20.0, 'uuid': 'uuid-5'}], [20.0, 0], [None, None, None, None]]\n",
      "[5, 'player6', 'uuid-6', 2000, [19, 42], [{'action': 'FOLD', 'uuid': 'uuid-6'}], [0, 2], [None, None, None, None]]\n",
      "[0, 'player1', 'uuid-1', 2000, [29, 45], [{'action': 'FOLD', 'uuid': 'uuid-1'}], [0, 2], [None, None, None, None]]\n",
      "[1, 'player2', 'uuid-2', 1980.0, [49, 44], [{'action': 'SMALLBLIND', 'amount': 10, 'add_amount': 10, 'uuid': 'uuid-2'}, {'action': 'CALL', 'amount': 20.0, 'paid': 10.0, 'uuid': 'uuid-2'}], [20.0, 0], [None, None, None, None]]\n",
      "[2, 'player3', 'uuid-3', 423.0, [12, 2], [{'action': 'BIGBLIND', 'amount': 20, 'add_amount': 10, 'uuid': 'uuid-3'}, {'action': 'RAISE', 'amount': 1577.0, 'paid': 1557.0, 'add_amount': 1557.0, 'uuid': 'uuid-3'}], [1577.0, 0], [None, None, None, None]]\n",
      "[4, 'player5', 'uuid-5', 423.0, [22, 4], [{'action': 'CALL', 'amount': 20.0, 'paid': 20.0, 'uuid': 'uuid-5'}, {'action': 'CALL', 'amount': 1577.0, 'paid': 1557.0, 'uuid': 'uuid-5'}], [1577.0, 0], [None, None, None, None]]\n",
      "[1, 'player2', 'uuid-2', 1980.0, [49, 44], [], [20.0, 2], [[{'action': 'SMALLBLIND', 'amount': 10, 'add_amount': 10, 'uuid': 'uuid-2'}, {'action': 'CALL', 'amount': 20.0, 'paid': 10.0, 'uuid': 'uuid-2'}, {'action': 'FOLD', 'uuid': 'uuid-2'}], None, None, None]]\n"
     ]
    },
    {
     "ename": "IndexError",
     "evalue": "list index out of range",
     "output_type": "error",
     "traceback": [
      "\u001b[1;31m---------------------------------------------------------------------------\u001b[0m",
      "\u001b[1;31mIndexError\u001b[0m                                Traceback (most recent call last)",
      "\u001b[1;32m<ipython-input-9-c39031a411c2>\u001b[0m in \u001b[0;36m<module>\u001b[1;34m\u001b[0m\n\u001b[0;32m     29\u001b[0m                                         \u001b[0mstack\u001b[0m\u001b[1;33m=\u001b[0m\u001b[0mdata\u001b[0m\u001b[1;33m[\u001b[0m\u001b[1;36m3\u001b[0m\u001b[1;33m]\u001b[0m \u001b[1;33m+\u001b[0m \u001b[0mdata_amount\u001b[0m\u001b[1;33m,\u001b[0m\u001b[0;31m \u001b[0m\u001b[0;31m\\\u001b[0m\u001b[1;33m\u001b[0m\u001b[1;33m\u001b[0m\u001b[0m\n\u001b[0;32m     30\u001b[0m                                         \u001b[0mpot\u001b[0m\u001b[1;33m=\u001b[0m\u001b[0mpot\u001b[0m\u001b[1;33m,\u001b[0m \u001b[0mflop1\u001b[0m\u001b[1;33m=\u001b[0m\u001b[1;34m''\u001b[0m\u001b[1;33m,\u001b[0m \u001b[0mflop2\u001b[0m\u001b[1;33m=\u001b[0m\u001b[1;34m''\u001b[0m\u001b[1;33m,\u001b[0m \u001b[0mflop3\u001b[0m\u001b[1;33m=\u001b[0m\u001b[1;34m''\u001b[0m\u001b[1;33m,\u001b[0m \u001b[0mturn\u001b[0m\u001b[1;33m=\u001b[0m\u001b[1;34m''\u001b[0m\u001b[1;33m,\u001b[0m \u001b[0mriver\u001b[0m\u001b[1;33m=\u001b[0m\u001b[1;34m''\u001b[0m\u001b[1;33m,\u001b[0m\u001b[0;31m \u001b[0m\u001b[0;31m\\\u001b[0m\u001b[1;33m\u001b[0m\u001b[1;33m\u001b[0m\u001b[0m\n\u001b[1;32m---> 31\u001b[1;33m                                         \u001b[0mmove\u001b[0m\u001b[1;33m=\u001b[0m\u001b[0mdata\u001b[0m\u001b[1;33m[\u001b[0m\u001b[1;36m5\u001b[0m\u001b[1;33m]\u001b[0m\u001b[1;33m[\u001b[0m\u001b[1;36m0\u001b[0m\u001b[1;33m]\u001b[0m\u001b[1;33m[\u001b[0m\u001b[1;34m'action'\u001b[0m\u001b[1;33m]\u001b[0m\u001b[1;33m,\u001b[0m \u001b[0mamount\u001b[0m\u001b[1;33m=\u001b[0m\u001b[0mbet_amount\u001b[0m\u001b[1;33m,\u001b[0m\u001b[0;31m \u001b[0m\u001b[0;31m\\\u001b[0m\u001b[1;33m\u001b[0m\u001b[1;33m\u001b[0m\u001b[0m\n\u001b[0m\u001b[0;32m     32\u001b[0m                                         new_stack=data[3], new_pot=pot + data_amount)\n\u001b[0;32m     33\u001b[0m             \u001b[0mpot\u001b[0m \u001b[1;33m=\u001b[0m \u001b[0mpot\u001b[0m \u001b[1;33m+\u001b[0m \u001b[0mdata_amount\u001b[0m\u001b[1;33m\u001b[0m\u001b[1;33m\u001b[0m\u001b[0m\n",
      "\u001b[1;31mIndexError\u001b[0m: list index out of range"
     ]
    }
   ],
   "source": [
    "loop = 15\n",
    "\n",
    "for i in range(loop):\n",
    "\n",
    "    phase = events[-1]['round_state']['street']\n",
    "    pot = events[-1]['round_state']['pot']['main']['amount']\n",
    "    position = events[-1]['round_state']['next_player']\n",
    "    possible_moves = events[-1]['valid_actions']\n",
    "    for item in events[-1]['round_state']['seats']:\n",
    "        if item['uuid'] == events[-1]['uuid']:\n",
    "            stack = item['stack']\n",
    "\n",
    "    action, bet_amount = funcs_db.decision_point_based_move(poker_db=poker_db, phase=phase, nr=nr, pot=pot, position=position, \\\n",
    "                                                            stack=stack, possible_moves=possible_moves)\n",
    "    updated_state, events = emulator.apply_action(game_state=updated_state, action=action, bet_amount=bet_amount)\n",
    "\n",
    "    data = []\n",
    "    for i, player in enumerate(updated_state['table'].seats.players):\n",
    "\n",
    "        if player.serialize()[1] == events[-1]['round_state']['action_histories'][phase][-1]['uuid']:\n",
    "            data = player.serialize()\n",
    "            data.insert(0, i)\n",
    "            print(data)\n",
    "            try:\n",
    "                data_amount = data[5][0]['amount']\n",
    "            except:\n",
    "                data_amount = 0\n",
    "            funcs_db.sql_insert_history(poker_db=poker_db, phase=phase, nr=nr, player=data[1], position=data[0], \\\n",
    "                                        stack=data[3] + data_amount, \\\n",
    "                                        pot=pot, flop1='', flop2='', flop3='', turn='', river='', \\\n",
    "                                        move=data[5][0]['action'], amount=bet_amount, \\\n",
    "                                        new_stack=data[3], new_pot=pot + data_amount)\n",
    "            pot = pot + data_amount\n",
    "\n",
    "    nr = nr + 1"
   ]
  },
  {
   "cell_type": "code",
   "execution_count": null,
   "metadata": {},
   "outputs": [],
   "source": []
  }
 ],
 "metadata": {
  "kernelspec": {
   "display_name": "Python 3",
   "language": "python",
   "name": "python3"
  },
  "language_info": {
   "codemirror_mode": {
    "name": "ipython",
    "version": 3
   },
   "file_extension": ".py",
   "mimetype": "text/x-python",
   "name": "python",
   "nbconvert_exporter": "python",
   "pygments_lexer": "ipython3",
   "version": "3.7.3"
  },
  "toc": {
   "base_numbering": 1,
   "nav_menu": {},
   "number_sections": true,
   "sideBar": true,
   "skip_h1_title": false,
   "title_cell": "Table of Contents",
   "title_sidebar": "Contents",
   "toc_cell": false,
   "toc_position": {},
   "toc_section_display": true,
   "toc_window_display": false
  },
  "varInspector": {
   "cols": {
    "lenName": 16,
    "lenType": 16,
    "lenVar": 40
   },
   "kernels_config": {
    "python": {
     "delete_cmd_postfix": "",
     "delete_cmd_prefix": "del ",
     "library": "var_list.py",
     "varRefreshCmd": "print(var_dic_list())"
    },
    "r": {
     "delete_cmd_postfix": ") ",
     "delete_cmd_prefix": "rm(",
     "library": "var_list.r",
     "varRefreshCmd": "cat(var_dic_list()) "
    }
   },
   "types_to_exclude": [
    "module",
    "function",
    "builtin_function_or_method",
    "instance",
    "_Feature"
   ],
   "window_display": false
  }
 },
 "nbformat": 4,
 "nbformat_minor": 2
}
